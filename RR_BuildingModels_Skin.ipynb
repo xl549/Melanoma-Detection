{
  "nbformat": 4,
  "nbformat_minor": 0,
  "metadata": {
    "colab": {
      "name": "RR_BuildingModels_Skin.ipynb",
      "provenance": [],
      "collapsed_sections": [],
      "machine_shape": "hm",
      "include_colab_link": true
    },
    "kernelspec": {
      "name": "python3",
      "display_name": "Python 3"
    },
    "accelerator": "GPU"
  },
  "cells": [
    {
      "cell_type": "markdown",
      "metadata": {
        "id": "view-in-github",
        "colab_type": "text"
      },
      "source": [
        "<a href=\"https://colab.research.google.com/github/RadhikaR88/Melanoma-Detection/blob/master/RR_BuildingModels_Skin.ipynb\" target=\"_parent\"><img src=\"https://colab.research.google.com/assets/colab-badge.svg\" alt=\"Open In Colab\"/></a>"
      ]
    },
    {
      "cell_type": "markdown",
      "metadata": {
        "id": "HyUyQCET_Emu",
        "colab_type": "text"
      },
      "source": [
        "**Building Models**"
      ]
    },
    {
      "cell_type": "code",
      "metadata": {
        "id": "JR2CfsY0_JS4",
        "colab_type": "code",
        "colab": {}
      },
      "source": [
        "import os\n",
        "import pandas as pd\n",
        "import numpy as np\n",
        "from sklearn.metrics import  confusion_matrix\n",
        "import math\n",
        "\n",
        "import matplotlib.pyplot as plt"
      ],
      "execution_count": 0,
      "outputs": []
    },
    {
      "cell_type": "code",
      "metadata": {
        "id": "0TnSrtQ_aamh",
        "colab_type": "code",
        "outputId": "99e19743-ea16-40f3-8b9b-72323403ea23",
        "colab": {
          "base_uri": "https://localhost:8080/",
          "height": 35
        }
      },
      "source": [
        "from keras import layers, regularizers, optimizers\n",
        "from keras import models\n",
        "from keras.preprocessing.image import ImageDataGenerator"
      ],
      "execution_count": 3,
      "outputs": [
        {
          "output_type": "stream",
          "text": [
            "Using TensorFlow backend.\n"
          ],
          "name": "stderr"
        }
      ]
    },
    {
      "cell_type": "code",
      "metadata": {
        "id": "HEgN8EWSHzEa",
        "colab_type": "code",
        "outputId": "bce33476-cc41-4433-8a52-1e827524d8c5",
        "colab": {
          "base_uri": "https://localhost:8080/",
          "height": 141
        }
      },
      "source": [
        "# mount drive\n",
        "\n",
        "from google.colab import drive\n",
        "drive.mount('/content/gdrive')\n",
        "\n",
        "%cd '/content/gdrive/My Drive/Deep Learning Project/Skin Cancer Detection/dataset'"
      ],
      "execution_count": 4,
      "outputs": [
        {
          "output_type": "stream",
          "text": [
            "Go to this URL in a browser: https://accounts.google.com/o/oauth2/auth?client_id=947318989803-6bn6qk8qdgf4n4g3pfee6491hc0brc4i.apps.googleusercontent.com&redirect_uri=urn%3aietf%3awg%3aoauth%3a2.0%3aoob&response_type=code&scope=email%20https%3a%2f%2fwww.googleapis.com%2fauth%2fdocs.test%20https%3a%2f%2fwww.googleapis.com%2fauth%2fdrive%20https%3a%2f%2fwww.googleapis.com%2fauth%2fdrive.photos.readonly%20https%3a%2f%2fwww.googleapis.com%2fauth%2fpeopleapi.readonly\n",
            "\n",
            "Enter your authorization code:\n",
            "··········\n",
            "Mounted at /content/gdrive\n",
            "/content/gdrive/My Drive/Deep Learning Project/Skin Cancer Detection/dataset\n"
          ],
          "name": "stdout"
        }
      ]
    },
    {
      "cell_type": "markdown",
      "metadata": {
        "id": "2TNRyvJhYNXu",
        "colab_type": "text"
      },
      "source": [
        "Increase the RAM trick"
      ]
    },
    {
      "cell_type": "code",
      "metadata": {
        "id": "bbnxcvxKYMMB",
        "colab_type": "code",
        "colab": {}
      },
      "source": [
        "a=[]\n",
        "while(1):\n",
        "  a.append('1')"
      ],
      "execution_count": 0,
      "outputs": []
    },
    {
      "cell_type": "markdown",
      "metadata": {
        "id": "upzmBxfSSYOB",
        "colab_type": "text"
      },
      "source": [
        "**Reading the numeric 128 x 128 image matrix**"
      ]
    },
    {
      "cell_type": "code",
      "metadata": {
        "id": "c-jnfgwXIG0L",
        "colab_type": "code",
        "colab": {}
      },
      "source": [
        "np_p1 = np.load('/content/gdrive/My Drive/Deep Learning Project/Skin Cancer Detection/dataset/Rescaled_Data/Image_128_128_3_Unscaled/Image_128_128_part1.npy', allow_pickle=True)\n",
        "np_p2 = np.load('/content/gdrive/My Drive/Deep Learning Project/Skin Cancer Detection/dataset/Rescaled_Data/Image_128_128_3_Unscaled/Image_128_128_part2.npy', allow_pickle=True)"
      ],
      "execution_count": 0,
      "outputs": []
    },
    {
      "cell_type": "code",
      "metadata": {
        "id": "Y4F0qhWRIqdX",
        "colab_type": "code",
        "colab": {
          "base_uri": "https://localhost:8080/",
          "height": 52
        },
        "outputId": "16faaee6-feb3-44a4-971d-38f802872608"
      },
      "source": [
        "print(np_p1.shape)\n",
        "print(np_p2.shape)"
      ],
      "execution_count": 53,
      "outputs": [
        {
          "output_type": "stream",
          "text": [
            "(5000, 49153)\n",
            "(5015, 49153)\n"
          ],
          "name": "stdout"
        }
      ]
    },
    {
      "cell_type": "markdown",
      "metadata": {
        "id": "NqcBZCsYSwD9",
        "colab_type": "text"
      },
      "source": [
        "**Scale the data**\n",
        "\n",
        "1. Scale to [0 1]\n",
        "2. Scale to [-1 1]"
      ]
    },
    {
      "cell_type": "code",
      "metadata": {
        "id": "_vnzdbHkUtBr",
        "colab_type": "code",
        "outputId": "b1347c01-f596-43bf-f131-fa55a830f22a",
        "colab": {
          "base_uri": "https://localhost:8080/",
          "height": 52
        }
      },
      "source": [
        "# extract data and labels - scale [0 1]\n",
        "\n",
        "data=np.concatenate((np_p1[:,:-1],np_p2[:,:-1]),axis=0)\n",
        "data=data.astype('float32')/255   # scale data between 0 and 1\n",
        "print('All Data : ',data.shape)\n",
        "\n",
        "\n",
        "label = np.concatenate((np_p1[:,-1],np_p2[:,-1]), axis=0)\n",
        "print('All Label : ',label.shape)"
      ],
      "execution_count": 54,
      "outputs": [
        {
          "output_type": "stream",
          "text": [
            "All Data :  (10015, 49152)\n",
            "All Label :  (10015,)\n"
          ],
          "name": "stdout"
        }
      ]
    },
    {
      "cell_type": "code",
      "metadata": {
        "id": "2hbOD1L8qvYk",
        "colab_type": "code",
        "outputId": "2d598f4a-931e-4121-d114-5756d5d69fa2",
        "colab": {
          "base_uri": "https://localhost:8080/",
          "height": 52
        }
      },
      "source": [
        "# extract data and labels - scale [-1 1]\n",
        "\n",
        "data=np.concatenate((np_p1[:,:-1],np_p2[:,:-1]),axis=0)\n",
        "data=data.astype('float32')/255   # scale data between -1 and 1\n",
        "data=2*data-1\n",
        "print('All Data : ',data.shape)\n",
        "\n",
        "\n",
        "label = np.concatenate((np_p1[:,-1],np_p2[:,-1]), axis=0)\n",
        "print('All Label : ',label.shape)"
      ],
      "execution_count": 0,
      "outputs": [
        {
          "output_type": "stream",
          "text": [
            "All Data :  (10015, 49152)\n",
            "All Label :  (10015,)\n"
          ],
          "name": "stdout"
        }
      ]
    },
    {
      "cell_type": "code",
      "metadata": {
        "id": "5rSVPbwmW1Rt",
        "colab_type": "code",
        "outputId": "2b384e25-f7a3-4f66-c727-033222a96d5e",
        "colab": {
          "base_uri": "https://localhost:8080/",
          "height": 69
        }
      },
      "source": [
        "df_total_scaled = pd.DataFrame(data)\n",
        "print(df_total_scaled.shape)\n",
        "print(df_total_scaled.columns)\n",
        "df_total_scaled['label']=label\n",
        "print(df_total_scaled.shape)"
      ],
      "execution_count": 55,
      "outputs": [
        {
          "output_type": "stream",
          "text": [
            "(10015, 49152)\n",
            "RangeIndex(start=0, stop=49152, step=1)\n",
            "(10015, 49153)\n"
          ],
          "name": "stdout"
        }
      ]
    },
    {
      "cell_type": "markdown",
      "metadata": {
        "id": "iAPySOU4SzOl",
        "colab_type": "text"
      },
      "source": [
        "**Map labels from Meta data**"
      ]
    },
    {
      "cell_type": "code",
      "metadata": {
        "id": "BlmZHPPtKbh9",
        "colab_type": "code",
        "outputId": "0ed839d0-1d2f-4471-cf08-1939ce8db74d",
        "colab": {
          "base_uri": "https://localhost:8080/",
          "height": 219
        }
      },
      "source": [
        "# reading the Meta Data file to map Melanoma types\n",
        "metadata = pd.read_csv('HAM10000_metadata.csv')\n",
        "print(metadata.shape)\n",
        "metadata.head()"
      ],
      "execution_count": 56,
      "outputs": [
        {
          "output_type": "stream",
          "text": [
            "(10015, 7)\n"
          ],
          "name": "stdout"
        },
        {
          "output_type": "execute_result",
          "data": {
            "text/html": [
              "<div>\n",
              "<style scoped>\n",
              "    .dataframe tbody tr th:only-of-type {\n",
              "        vertical-align: middle;\n",
              "    }\n",
              "\n",
              "    .dataframe tbody tr th {\n",
              "        vertical-align: top;\n",
              "    }\n",
              "\n",
              "    .dataframe thead th {\n",
              "        text-align: right;\n",
              "    }\n",
              "</style>\n",
              "<table border=\"1\" class=\"dataframe\">\n",
              "  <thead>\n",
              "    <tr style=\"text-align: right;\">\n",
              "      <th></th>\n",
              "      <th>lesion_id</th>\n",
              "      <th>image_id</th>\n",
              "      <th>dx</th>\n",
              "      <th>dx_type</th>\n",
              "      <th>age</th>\n",
              "      <th>sex</th>\n",
              "      <th>localization</th>\n",
              "    </tr>\n",
              "  </thead>\n",
              "  <tbody>\n",
              "    <tr>\n",
              "      <th>0</th>\n",
              "      <td>HAM_0000118</td>\n",
              "      <td>ISIC_0027419</td>\n",
              "      <td>bkl</td>\n",
              "      <td>histo</td>\n",
              "      <td>80.0</td>\n",
              "      <td>male</td>\n",
              "      <td>scalp</td>\n",
              "    </tr>\n",
              "    <tr>\n",
              "      <th>1</th>\n",
              "      <td>HAM_0000118</td>\n",
              "      <td>ISIC_0025030</td>\n",
              "      <td>bkl</td>\n",
              "      <td>histo</td>\n",
              "      <td>80.0</td>\n",
              "      <td>male</td>\n",
              "      <td>scalp</td>\n",
              "    </tr>\n",
              "    <tr>\n",
              "      <th>2</th>\n",
              "      <td>HAM_0002730</td>\n",
              "      <td>ISIC_0026769</td>\n",
              "      <td>bkl</td>\n",
              "      <td>histo</td>\n",
              "      <td>80.0</td>\n",
              "      <td>male</td>\n",
              "      <td>scalp</td>\n",
              "    </tr>\n",
              "    <tr>\n",
              "      <th>3</th>\n",
              "      <td>HAM_0002730</td>\n",
              "      <td>ISIC_0025661</td>\n",
              "      <td>bkl</td>\n",
              "      <td>histo</td>\n",
              "      <td>80.0</td>\n",
              "      <td>male</td>\n",
              "      <td>scalp</td>\n",
              "    </tr>\n",
              "    <tr>\n",
              "      <th>4</th>\n",
              "      <td>HAM_0001466</td>\n",
              "      <td>ISIC_0031633</td>\n",
              "      <td>bkl</td>\n",
              "      <td>histo</td>\n",
              "      <td>75.0</td>\n",
              "      <td>male</td>\n",
              "      <td>ear</td>\n",
              "    </tr>\n",
              "  </tbody>\n",
              "</table>\n",
              "</div>"
            ],
            "text/plain": [
              "     lesion_id      image_id   dx dx_type   age   sex localization\n",
              "0  HAM_0000118  ISIC_0027419  bkl   histo  80.0  male        scalp\n",
              "1  HAM_0000118  ISIC_0025030  bkl   histo  80.0  male        scalp\n",
              "2  HAM_0002730  ISIC_0026769  bkl   histo  80.0  male        scalp\n",
              "3  HAM_0002730  ISIC_0025661  bkl   histo  80.0  male        scalp\n",
              "4  HAM_0001466  ISIC_0031633  bkl   histo  75.0  male          ear"
            ]
          },
          "metadata": {
            "tags": []
          },
          "execution_count": 56
        }
      ]
    },
    {
      "cell_type": "code",
      "metadata": {
        "id": "KOU09F2DYVgz",
        "colab_type": "code",
        "outputId": "0865bda6-a311-40a9-b163-1bc7408a3b5b",
        "colab": {
          "base_uri": "https://localhost:8080/",
          "height": 52
        }
      },
      "source": [
        "# image id - dx dictionary\n",
        "image_dict = dict(zip(metadata.image_id, metadata.dx))\n",
        "print('Verify the number of images : ',len(image_dict))\n",
        "\n",
        "# map it to the labels\n",
        "df_total_scaled['dx']=df_total_scaled['label'].map(image_dict)\n",
        "print(df_total_scaled.shape)"
      ],
      "execution_count": 57,
      "outputs": [
        {
          "output_type": "stream",
          "text": [
            "Verify the number of images :  10015\n",
            "(10015, 49154)\n"
          ],
          "name": "stdout"
        }
      ]
    },
    {
      "cell_type": "code",
      "metadata": {
        "id": "3Z7lmuLtY0kz",
        "colab_type": "code",
        "outputId": "2f9952f1-b644-463e-d204-c5156bc1db76",
        "colab": {
          "base_uri": "https://localhost:8080/",
          "height": 251
        }
      },
      "source": [
        "df_total_scaled.head()"
      ],
      "execution_count": 0,
      "outputs": [
        {
          "output_type": "execute_result",
          "data": {
            "text/html": [
              "<div>\n",
              "<style scoped>\n",
              "    .dataframe tbody tr th:only-of-type {\n",
              "        vertical-align: middle;\n",
              "    }\n",
              "\n",
              "    .dataframe tbody tr th {\n",
              "        vertical-align: top;\n",
              "    }\n",
              "\n",
              "    .dataframe thead th {\n",
              "        text-align: right;\n",
              "    }\n",
              "</style>\n",
              "<table border=\"1\" class=\"dataframe\">\n",
              "  <thead>\n",
              "    <tr style=\"text-align: right;\">\n",
              "      <th></th>\n",
              "      <th>0</th>\n",
              "      <th>1</th>\n",
              "      <th>2</th>\n",
              "      <th>3</th>\n",
              "      <th>4</th>\n",
              "      <th>5</th>\n",
              "      <th>6</th>\n",
              "      <th>7</th>\n",
              "      <th>8</th>\n",
              "      <th>9</th>\n",
              "      <th>10</th>\n",
              "      <th>11</th>\n",
              "      <th>12</th>\n",
              "      <th>13</th>\n",
              "      <th>14</th>\n",
              "      <th>15</th>\n",
              "      <th>16</th>\n",
              "      <th>17</th>\n",
              "      <th>18</th>\n",
              "      <th>19</th>\n",
              "      <th>20</th>\n",
              "      <th>21</th>\n",
              "      <th>22</th>\n",
              "      <th>23</th>\n",
              "      <th>24</th>\n",
              "      <th>25</th>\n",
              "      <th>26</th>\n",
              "      <th>27</th>\n",
              "      <th>28</th>\n",
              "      <th>29</th>\n",
              "      <th>30</th>\n",
              "      <th>31</th>\n",
              "      <th>32</th>\n",
              "      <th>33</th>\n",
              "      <th>34</th>\n",
              "      <th>35</th>\n",
              "      <th>36</th>\n",
              "      <th>37</th>\n",
              "      <th>38</th>\n",
              "      <th>39</th>\n",
              "      <th>...</th>\n",
              "      <th>49114</th>\n",
              "      <th>49115</th>\n",
              "      <th>49116</th>\n",
              "      <th>49117</th>\n",
              "      <th>49118</th>\n",
              "      <th>49119</th>\n",
              "      <th>49120</th>\n",
              "      <th>49121</th>\n",
              "      <th>49122</th>\n",
              "      <th>49123</th>\n",
              "      <th>49124</th>\n",
              "      <th>49125</th>\n",
              "      <th>49126</th>\n",
              "      <th>49127</th>\n",
              "      <th>49128</th>\n",
              "      <th>49129</th>\n",
              "      <th>49130</th>\n",
              "      <th>49131</th>\n",
              "      <th>49132</th>\n",
              "      <th>49133</th>\n",
              "      <th>49134</th>\n",
              "      <th>49135</th>\n",
              "      <th>49136</th>\n",
              "      <th>49137</th>\n",
              "      <th>49138</th>\n",
              "      <th>49139</th>\n",
              "      <th>49140</th>\n",
              "      <th>49141</th>\n",
              "      <th>49142</th>\n",
              "      <th>49143</th>\n",
              "      <th>49144</th>\n",
              "      <th>49145</th>\n",
              "      <th>49146</th>\n",
              "      <th>49147</th>\n",
              "      <th>49148</th>\n",
              "      <th>49149</th>\n",
              "      <th>49150</th>\n",
              "      <th>49151</th>\n",
              "      <th>label</th>\n",
              "      <th>dx</th>\n",
              "    </tr>\n",
              "  </thead>\n",
              "  <tbody>\n",
              "    <tr>\n",
              "      <th>0</th>\n",
              "      <td>0.890196</td>\n",
              "      <td>0.529412</td>\n",
              "      <td>0.529412</td>\n",
              "      <td>0.909804</td>\n",
              "      <td>0.549020</td>\n",
              "      <td>0.549020</td>\n",
              "      <td>0.913725</td>\n",
              "      <td>0.556863</td>\n",
              "      <td>0.552941</td>\n",
              "      <td>0.909804</td>\n",
              "      <td>0.552941</td>\n",
              "      <td>0.541176</td>\n",
              "      <td>0.913725</td>\n",
              "      <td>0.556863</td>\n",
              "      <td>0.556863</td>\n",
              "      <td>0.917647</td>\n",
              "      <td>0.552941</td>\n",
              "      <td>0.560784</td>\n",
              "      <td>0.909804</td>\n",
              "      <td>0.537255</td>\n",
              "      <td>0.541176</td>\n",
              "      <td>0.866667</td>\n",
              "      <td>0.490196</td>\n",
              "      <td>0.474510</td>\n",
              "      <td>0.870588</td>\n",
              "      <td>0.494118</td>\n",
              "      <td>0.486275</td>\n",
              "      <td>0.894118</td>\n",
              "      <td>0.529412</td>\n",
              "      <td>0.517647</td>\n",
              "      <td>0.901961</td>\n",
              "      <td>0.537255</td>\n",
              "      <td>0.529412</td>\n",
              "      <td>0.905882</td>\n",
              "      <td>0.541176</td>\n",
              "      <td>0.529412</td>\n",
              "      <td>0.913725</td>\n",
              "      <td>0.549020</td>\n",
              "      <td>0.545098</td>\n",
              "      <td>0.921569</td>\n",
              "      <td>...</td>\n",
              "      <td>0.349020</td>\n",
              "      <td>0.286275</td>\n",
              "      <td>0.737255</td>\n",
              "      <td>0.356863</td>\n",
              "      <td>0.298039</td>\n",
              "      <td>0.737255</td>\n",
              "      <td>0.364706</td>\n",
              "      <td>0.294118</td>\n",
              "      <td>0.745098</td>\n",
              "      <td>0.376471</td>\n",
              "      <td>0.305882</td>\n",
              "      <td>0.760784</td>\n",
              "      <td>0.403922</td>\n",
              "      <td>0.337255</td>\n",
              "      <td>0.752941</td>\n",
              "      <td>0.407843</td>\n",
              "      <td>0.337255</td>\n",
              "      <td>0.768627</td>\n",
              "      <td>0.423529</td>\n",
              "      <td>0.352941</td>\n",
              "      <td>0.780392</td>\n",
              "      <td>0.454902</td>\n",
              "      <td>0.400000</td>\n",
              "      <td>0.768627</td>\n",
              "      <td>0.462745</td>\n",
              "      <td>0.411765</td>\n",
              "      <td>0.768627</td>\n",
              "      <td>0.462745</td>\n",
              "      <td>0.407843</td>\n",
              "      <td>0.780392</td>\n",
              "      <td>0.466667</td>\n",
              "      <td>0.423529</td>\n",
              "      <td>0.776471</td>\n",
              "      <td>0.474510</td>\n",
              "      <td>0.431373</td>\n",
              "      <td>0.768627</td>\n",
              "      <td>0.466667</td>\n",
              "      <td>0.415686</td>\n",
              "      <td>ISIC_0028278</td>\n",
              "      <td>nv</td>\n",
              "    </tr>\n",
              "    <tr>\n",
              "      <th>1</th>\n",
              "      <td>0.784314</td>\n",
              "      <td>0.517647</td>\n",
              "      <td>0.690196</td>\n",
              "      <td>0.796078</td>\n",
              "      <td>0.529412</td>\n",
              "      <td>0.686275</td>\n",
              "      <td>0.772549</td>\n",
              "      <td>0.501961</td>\n",
              "      <td>0.650980</td>\n",
              "      <td>0.756863</td>\n",
              "      <td>0.478431</td>\n",
              "      <td>0.623529</td>\n",
              "      <td>0.745098</td>\n",
              "      <td>0.458824</td>\n",
              "      <td>0.603922</td>\n",
              "      <td>0.745098</td>\n",
              "      <td>0.454902</td>\n",
              "      <td>0.603922</td>\n",
              "      <td>0.768627</td>\n",
              "      <td>0.486275</td>\n",
              "      <td>0.635294</td>\n",
              "      <td>0.760784</td>\n",
              "      <td>0.474510</td>\n",
              "      <td>0.615686</td>\n",
              "      <td>0.776471</td>\n",
              "      <td>0.517647</td>\n",
              "      <td>0.678431</td>\n",
              "      <td>0.788235</td>\n",
              "      <td>0.537255</td>\n",
              "      <td>0.713726</td>\n",
              "      <td>0.788235</td>\n",
              "      <td>0.529412</td>\n",
              "      <td>0.694118</td>\n",
              "      <td>0.725490</td>\n",
              "      <td>0.494118</td>\n",
              "      <td>0.650980</td>\n",
              "      <td>0.650980</td>\n",
              "      <td>0.458824</td>\n",
              "      <td>0.603922</td>\n",
              "      <td>0.709804</td>\n",
              "      <td>...</td>\n",
              "      <td>0.592157</td>\n",
              "      <td>0.733333</td>\n",
              "      <td>0.772549</td>\n",
              "      <td>0.584314</td>\n",
              "      <td>0.737255</td>\n",
              "      <td>0.749020</td>\n",
              "      <td>0.533333</td>\n",
              "      <td>0.631373</td>\n",
              "      <td>0.760784</td>\n",
              "      <td>0.549020</td>\n",
              "      <td>0.643137</td>\n",
              "      <td>0.768627</td>\n",
              "      <td>0.568627</td>\n",
              "      <td>0.705882</td>\n",
              "      <td>0.776471</td>\n",
              "      <td>0.588235</td>\n",
              "      <td>0.737255</td>\n",
              "      <td>0.760784</td>\n",
              "      <td>0.568627</td>\n",
              "      <td>0.698039</td>\n",
              "      <td>0.756863</td>\n",
              "      <td>0.564706</td>\n",
              "      <td>0.678431</td>\n",
              "      <td>0.752941</td>\n",
              "      <td>0.568627</td>\n",
              "      <td>0.709804</td>\n",
              "      <td>0.749020</td>\n",
              "      <td>0.568627</td>\n",
              "      <td>0.705882</td>\n",
              "      <td>0.737255</td>\n",
              "      <td>0.549020</td>\n",
              "      <td>0.670588</td>\n",
              "      <td>0.729412</td>\n",
              "      <td>0.525490</td>\n",
              "      <td>0.619608</td>\n",
              "      <td>0.733333</td>\n",
              "      <td>0.552941</td>\n",
              "      <td>0.658824</td>\n",
              "      <td>ISIC_0028271</td>\n",
              "      <td>nv</td>\n",
              "    </tr>\n",
              "    <tr>\n",
              "      <th>2</th>\n",
              "      <td>0.886275</td>\n",
              "      <td>0.541176</td>\n",
              "      <td>0.588235</td>\n",
              "      <td>0.890196</td>\n",
              "      <td>0.541176</td>\n",
              "      <td>0.596078</td>\n",
              "      <td>0.901961</td>\n",
              "      <td>0.552941</td>\n",
              "      <td>0.603922</td>\n",
              "      <td>0.901961</td>\n",
              "      <td>0.545098</td>\n",
              "      <td>0.588235</td>\n",
              "      <td>0.890196</td>\n",
              "      <td>0.533333</td>\n",
              "      <td>0.584314</td>\n",
              "      <td>0.890196</td>\n",
              "      <td>0.517647</td>\n",
              "      <td>0.576471</td>\n",
              "      <td>0.894118</td>\n",
              "      <td>0.505882</td>\n",
              "      <td>0.584314</td>\n",
              "      <td>0.913725</td>\n",
              "      <td>0.549020</td>\n",
              "      <td>0.600000</td>\n",
              "      <td>0.917647</td>\n",
              "      <td>0.560784</td>\n",
              "      <td>0.607843</td>\n",
              "      <td>0.909804</td>\n",
              "      <td>0.556863</td>\n",
              "      <td>0.588235</td>\n",
              "      <td>0.913725</td>\n",
              "      <td>0.568627</td>\n",
              "      <td>0.611765</td>\n",
              "      <td>0.909804</td>\n",
              "      <td>0.576471</td>\n",
              "      <td>0.611765</td>\n",
              "      <td>0.905882</td>\n",
              "      <td>0.572549</td>\n",
              "      <td>0.607843</td>\n",
              "      <td>0.909804</td>\n",
              "      <td>...</td>\n",
              "      <td>0.580392</td>\n",
              "      <td>0.560784</td>\n",
              "      <td>0.843137</td>\n",
              "      <td>0.568627</td>\n",
              "      <td>0.552941</td>\n",
              "      <td>0.835294</td>\n",
              "      <td>0.549020</td>\n",
              "      <td>0.537255</td>\n",
              "      <td>0.839216</td>\n",
              "      <td>0.560784</td>\n",
              "      <td>0.541176</td>\n",
              "      <td>0.839216</td>\n",
              "      <td>0.552941</td>\n",
              "      <td>0.525490</td>\n",
              "      <td>0.839216</td>\n",
              "      <td>0.549020</td>\n",
              "      <td>0.525490</td>\n",
              "      <td>0.827451</td>\n",
              "      <td>0.533333</td>\n",
              "      <td>0.513726</td>\n",
              "      <td>0.815686</td>\n",
              "      <td>0.521569</td>\n",
              "      <td>0.494118</td>\n",
              "      <td>0.815686</td>\n",
              "      <td>0.529412</td>\n",
              "      <td>0.505882</td>\n",
              "      <td>0.811765</td>\n",
              "      <td>0.521569</td>\n",
              "      <td>0.505882</td>\n",
              "      <td>0.823529</td>\n",
              "      <td>0.537255</td>\n",
              "      <td>0.525490</td>\n",
              "      <td>0.831373</td>\n",
              "      <td>0.556863</td>\n",
              "      <td>0.549020</td>\n",
              "      <td>0.827451</td>\n",
              "      <td>0.560784</td>\n",
              "      <td>0.529412</td>\n",
              "      <td>ISIC_0028300</td>\n",
              "      <td>nv</td>\n",
              "    </tr>\n",
              "    <tr>\n",
              "      <th>3</th>\n",
              "      <td>0.839216</td>\n",
              "      <td>0.533333</td>\n",
              "      <td>0.611765</td>\n",
              "      <td>0.831373</td>\n",
              "      <td>0.529412</td>\n",
              "      <td>0.607843</td>\n",
              "      <td>0.854902</td>\n",
              "      <td>0.545098</td>\n",
              "      <td>0.623529</td>\n",
              "      <td>0.874510</td>\n",
              "      <td>0.560784</td>\n",
              "      <td>0.643137</td>\n",
              "      <td>0.886275</td>\n",
              "      <td>0.560784</td>\n",
              "      <td>0.647059</td>\n",
              "      <td>0.878431</td>\n",
              "      <td>0.552941</td>\n",
              "      <td>0.639216</td>\n",
              "      <td>0.862745</td>\n",
              "      <td>0.537255</td>\n",
              "      <td>0.627451</td>\n",
              "      <td>0.850980</td>\n",
              "      <td>0.521569</td>\n",
              "      <td>0.619608</td>\n",
              "      <td>0.850980</td>\n",
              "      <td>0.521569</td>\n",
              "      <td>0.619608</td>\n",
              "      <td>0.847059</td>\n",
              "      <td>0.521569</td>\n",
              "      <td>0.619608</td>\n",
              "      <td>0.847059</td>\n",
              "      <td>0.525490</td>\n",
              "      <td>0.627451</td>\n",
              "      <td>0.847059</td>\n",
              "      <td>0.525490</td>\n",
              "      <td>0.631373</td>\n",
              "      <td>0.839216</td>\n",
              "      <td>0.525490</td>\n",
              "      <td>0.635294</td>\n",
              "      <td>0.858824</td>\n",
              "      <td>...</td>\n",
              "      <td>0.521569</td>\n",
              "      <td>0.576471</td>\n",
              "      <td>0.807843</td>\n",
              "      <td>0.525490</td>\n",
              "      <td>0.588235</td>\n",
              "      <td>0.807843</td>\n",
              "      <td>0.521569</td>\n",
              "      <td>0.584314</td>\n",
              "      <td>0.803922</td>\n",
              "      <td>0.525490</td>\n",
              "      <td>0.580392</td>\n",
              "      <td>0.796078</td>\n",
              "      <td>0.517647</td>\n",
              "      <td>0.576471</td>\n",
              "      <td>0.803922</td>\n",
              "      <td>0.517647</td>\n",
              "      <td>0.584314</td>\n",
              "      <td>0.807843</td>\n",
              "      <td>0.521569</td>\n",
              "      <td>0.588235</td>\n",
              "      <td>0.800000</td>\n",
              "      <td>0.517647</td>\n",
              "      <td>0.588235</td>\n",
              "      <td>0.788235</td>\n",
              "      <td>0.513726</td>\n",
              "      <td>0.576471</td>\n",
              "      <td>0.796078</td>\n",
              "      <td>0.517647</td>\n",
              "      <td>0.580392</td>\n",
              "      <td>0.800000</td>\n",
              "      <td>0.521569</td>\n",
              "      <td>0.588235</td>\n",
              "      <td>0.780392</td>\n",
              "      <td>0.501961</td>\n",
              "      <td>0.564706</td>\n",
              "      <td>0.776471</td>\n",
              "      <td>0.494118</td>\n",
              "      <td>0.556863</td>\n",
              "      <td>ISIC_0028318</td>\n",
              "      <td>nv</td>\n",
              "    </tr>\n",
              "    <tr>\n",
              "      <th>4</th>\n",
              "      <td>0.823529</td>\n",
              "      <td>0.600000</td>\n",
              "      <td>0.533333</td>\n",
              "      <td>0.823529</td>\n",
              "      <td>0.584314</td>\n",
              "      <td>0.513726</td>\n",
              "      <td>0.827451</td>\n",
              "      <td>0.607843</td>\n",
              "      <td>0.541176</td>\n",
              "      <td>0.823529</td>\n",
              "      <td>0.611765</td>\n",
              "      <td>0.545098</td>\n",
              "      <td>0.843137</td>\n",
              "      <td>0.647059</td>\n",
              "      <td>0.600000</td>\n",
              "      <td>0.843137</td>\n",
              "      <td>0.666667</td>\n",
              "      <td>0.615686</td>\n",
              "      <td>0.847059</td>\n",
              "      <td>0.662745</td>\n",
              "      <td>0.611765</td>\n",
              "      <td>0.843137</td>\n",
              "      <td>0.654902</td>\n",
              "      <td>0.603922</td>\n",
              "      <td>0.843137</td>\n",
              "      <td>0.654902</td>\n",
              "      <td>0.607843</td>\n",
              "      <td>0.850980</td>\n",
              "      <td>0.666667</td>\n",
              "      <td>0.615686</td>\n",
              "      <td>0.854902</td>\n",
              "      <td>0.678431</td>\n",
              "      <td>0.650980</td>\n",
              "      <td>0.874510</td>\n",
              "      <td>0.694118</td>\n",
              "      <td>0.678431</td>\n",
              "      <td>0.874510</td>\n",
              "      <td>0.694118</td>\n",
              "      <td>0.698039</td>\n",
              "      <td>0.870588</td>\n",
              "      <td>...</td>\n",
              "      <td>0.698039</td>\n",
              "      <td>0.733333</td>\n",
              "      <td>0.858824</td>\n",
              "      <td>0.662745</td>\n",
              "      <td>0.654902</td>\n",
              "      <td>0.858824</td>\n",
              "      <td>0.643137</td>\n",
              "      <td>0.596078</td>\n",
              "      <td>0.843137</td>\n",
              "      <td>0.619608</td>\n",
              "      <td>0.545098</td>\n",
              "      <td>0.843137</td>\n",
              "      <td>0.603922</td>\n",
              "      <td>0.521569</td>\n",
              "      <td>0.854902</td>\n",
              "      <td>0.631373</td>\n",
              "      <td>0.564706</td>\n",
              "      <td>0.866667</td>\n",
              "      <td>0.686275</td>\n",
              "      <td>0.639216</td>\n",
              "      <td>0.858824</td>\n",
              "      <td>0.666667</td>\n",
              "      <td>0.619608</td>\n",
              "      <td>0.858824</td>\n",
              "      <td>0.674510</td>\n",
              "      <td>0.607843</td>\n",
              "      <td>0.831373</td>\n",
              "      <td>0.627451</td>\n",
              "      <td>0.552941</td>\n",
              "      <td>0.784314</td>\n",
              "      <td>0.545098</td>\n",
              "      <td>0.450980</td>\n",
              "      <td>0.788235</td>\n",
              "      <td>0.545098</td>\n",
              "      <td>0.450980</td>\n",
              "      <td>0.831373</td>\n",
              "      <td>0.596078</td>\n",
              "      <td>0.490196</td>\n",
              "      <td>ISIC_0028314</td>\n",
              "      <td>akiec</td>\n",
              "    </tr>\n",
              "  </tbody>\n",
              "</table>\n",
              "<p>5 rows × 49154 columns</p>\n",
              "</div>"
            ],
            "text/plain": [
              "          0         1         2  ...     49151         label     dx\n",
              "0  0.890196  0.529412  0.529412  ...  0.415686  ISIC_0028278     nv\n",
              "1  0.784314  0.517647  0.690196  ...  0.658824  ISIC_0028271     nv\n",
              "2  0.886275  0.541176  0.588235  ...  0.529412  ISIC_0028300     nv\n",
              "3  0.839216  0.533333  0.611765  ...  0.556863  ISIC_0028318     nv\n",
              "4  0.823529  0.600000  0.533333  ...  0.490196  ISIC_0028314  akiec\n",
              "\n",
              "[5 rows x 49154 columns]"
            ]
          },
          "metadata": {
            "tags": []
          },
          "execution_count": 27
        }
      ]
    },
    {
      "cell_type": "code",
      "metadata": {
        "id": "itlg3jTkY5Km",
        "colab_type": "code",
        "outputId": "638acafb-80a9-4c72-905f-03e90ff27a6c",
        "colab": {
          "base_uri": "https://localhost:8080/",
          "height": 156
        }
      },
      "source": [
        "df_total_scaled.dx.value_counts()"
      ],
      "execution_count": 58,
      "outputs": [
        {
          "output_type": "execute_result",
          "data": {
            "text/plain": [
              "nv       6705\n",
              "mel      1113\n",
              "bkl      1099\n",
              "bcc       514\n",
              "akiec     327\n",
              "vasc      142\n",
              "df        115\n",
              "Name: dx, dtype: int64"
            ]
          },
          "metadata": {
            "tags": []
          },
          "execution_count": 58
        }
      ]
    },
    {
      "cell_type": "code",
      "metadata": {
        "id": "5Fg9rpPvZFkC",
        "colab_type": "code",
        "outputId": "652e0976-11b1-4af4-e6c8-58c34e095a31",
        "colab": {
          "base_uri": "https://localhost:8080/",
          "height": 286
        }
      },
      "source": [
        "# extract data\n",
        "df_data=df_total_scaled.iloc[:,:-2]\n",
        "df_label = df_total_scaled.iloc[:,-1]\n",
        "print(df_data.shape)\n",
        "print(df_label.shape)\n",
        "df_data.head()"
      ],
      "execution_count": 59,
      "outputs": [
        {
          "output_type": "stream",
          "text": [
            "(10015, 49152)\n",
            "(10015,)\n"
          ],
          "name": "stdout"
        },
        {
          "output_type": "execute_result",
          "data": {
            "text/html": [
              "<div>\n",
              "<style scoped>\n",
              "    .dataframe tbody tr th:only-of-type {\n",
              "        vertical-align: middle;\n",
              "    }\n",
              "\n",
              "    .dataframe tbody tr th {\n",
              "        vertical-align: top;\n",
              "    }\n",
              "\n",
              "    .dataframe thead th {\n",
              "        text-align: right;\n",
              "    }\n",
              "</style>\n",
              "<table border=\"1\" class=\"dataframe\">\n",
              "  <thead>\n",
              "    <tr style=\"text-align: right;\">\n",
              "      <th></th>\n",
              "      <th>0</th>\n",
              "      <th>1</th>\n",
              "      <th>2</th>\n",
              "      <th>3</th>\n",
              "      <th>4</th>\n",
              "      <th>5</th>\n",
              "      <th>6</th>\n",
              "      <th>7</th>\n",
              "      <th>8</th>\n",
              "      <th>9</th>\n",
              "      <th>10</th>\n",
              "      <th>11</th>\n",
              "      <th>12</th>\n",
              "      <th>13</th>\n",
              "      <th>14</th>\n",
              "      <th>15</th>\n",
              "      <th>16</th>\n",
              "      <th>17</th>\n",
              "      <th>18</th>\n",
              "      <th>19</th>\n",
              "      <th>20</th>\n",
              "      <th>21</th>\n",
              "      <th>22</th>\n",
              "      <th>23</th>\n",
              "      <th>24</th>\n",
              "      <th>25</th>\n",
              "      <th>26</th>\n",
              "      <th>27</th>\n",
              "      <th>28</th>\n",
              "      <th>29</th>\n",
              "      <th>30</th>\n",
              "      <th>31</th>\n",
              "      <th>32</th>\n",
              "      <th>33</th>\n",
              "      <th>34</th>\n",
              "      <th>35</th>\n",
              "      <th>36</th>\n",
              "      <th>37</th>\n",
              "      <th>38</th>\n",
              "      <th>39</th>\n",
              "      <th>...</th>\n",
              "      <th>49112</th>\n",
              "      <th>49113</th>\n",
              "      <th>49114</th>\n",
              "      <th>49115</th>\n",
              "      <th>49116</th>\n",
              "      <th>49117</th>\n",
              "      <th>49118</th>\n",
              "      <th>49119</th>\n",
              "      <th>49120</th>\n",
              "      <th>49121</th>\n",
              "      <th>49122</th>\n",
              "      <th>49123</th>\n",
              "      <th>49124</th>\n",
              "      <th>49125</th>\n",
              "      <th>49126</th>\n",
              "      <th>49127</th>\n",
              "      <th>49128</th>\n",
              "      <th>49129</th>\n",
              "      <th>49130</th>\n",
              "      <th>49131</th>\n",
              "      <th>49132</th>\n",
              "      <th>49133</th>\n",
              "      <th>49134</th>\n",
              "      <th>49135</th>\n",
              "      <th>49136</th>\n",
              "      <th>49137</th>\n",
              "      <th>49138</th>\n",
              "      <th>49139</th>\n",
              "      <th>49140</th>\n",
              "      <th>49141</th>\n",
              "      <th>49142</th>\n",
              "      <th>49143</th>\n",
              "      <th>49144</th>\n",
              "      <th>49145</th>\n",
              "      <th>49146</th>\n",
              "      <th>49147</th>\n",
              "      <th>49148</th>\n",
              "      <th>49149</th>\n",
              "      <th>49150</th>\n",
              "      <th>49151</th>\n",
              "    </tr>\n",
              "  </thead>\n",
              "  <tbody>\n",
              "    <tr>\n",
              "      <th>0</th>\n",
              "      <td>0.890196</td>\n",
              "      <td>0.529412</td>\n",
              "      <td>0.529412</td>\n",
              "      <td>0.909804</td>\n",
              "      <td>0.549020</td>\n",
              "      <td>0.549020</td>\n",
              "      <td>0.913725</td>\n",
              "      <td>0.556863</td>\n",
              "      <td>0.552941</td>\n",
              "      <td>0.909804</td>\n",
              "      <td>0.552941</td>\n",
              "      <td>0.541176</td>\n",
              "      <td>0.913725</td>\n",
              "      <td>0.556863</td>\n",
              "      <td>0.556863</td>\n",
              "      <td>0.917647</td>\n",
              "      <td>0.552941</td>\n",
              "      <td>0.560784</td>\n",
              "      <td>0.909804</td>\n",
              "      <td>0.537255</td>\n",
              "      <td>0.541176</td>\n",
              "      <td>0.866667</td>\n",
              "      <td>0.490196</td>\n",
              "      <td>0.474510</td>\n",
              "      <td>0.870588</td>\n",
              "      <td>0.494118</td>\n",
              "      <td>0.486275</td>\n",
              "      <td>0.894118</td>\n",
              "      <td>0.529412</td>\n",
              "      <td>0.517647</td>\n",
              "      <td>0.901961</td>\n",
              "      <td>0.537255</td>\n",
              "      <td>0.529412</td>\n",
              "      <td>0.905882</td>\n",
              "      <td>0.541176</td>\n",
              "      <td>0.529412</td>\n",
              "      <td>0.913725</td>\n",
              "      <td>0.549020</td>\n",
              "      <td>0.545098</td>\n",
              "      <td>0.921569</td>\n",
              "      <td>...</td>\n",
              "      <td>0.294118</td>\n",
              "      <td>0.721569</td>\n",
              "      <td>0.349020</td>\n",
              "      <td>0.286275</td>\n",
              "      <td>0.737255</td>\n",
              "      <td>0.356863</td>\n",
              "      <td>0.298039</td>\n",
              "      <td>0.737255</td>\n",
              "      <td>0.364706</td>\n",
              "      <td>0.294118</td>\n",
              "      <td>0.745098</td>\n",
              "      <td>0.376471</td>\n",
              "      <td>0.305882</td>\n",
              "      <td>0.760784</td>\n",
              "      <td>0.403922</td>\n",
              "      <td>0.337255</td>\n",
              "      <td>0.752941</td>\n",
              "      <td>0.407843</td>\n",
              "      <td>0.337255</td>\n",
              "      <td>0.768627</td>\n",
              "      <td>0.423529</td>\n",
              "      <td>0.352941</td>\n",
              "      <td>0.780392</td>\n",
              "      <td>0.454902</td>\n",
              "      <td>0.400000</td>\n",
              "      <td>0.768627</td>\n",
              "      <td>0.462745</td>\n",
              "      <td>0.411765</td>\n",
              "      <td>0.768627</td>\n",
              "      <td>0.462745</td>\n",
              "      <td>0.407843</td>\n",
              "      <td>0.780392</td>\n",
              "      <td>0.466667</td>\n",
              "      <td>0.423529</td>\n",
              "      <td>0.776471</td>\n",
              "      <td>0.474510</td>\n",
              "      <td>0.431373</td>\n",
              "      <td>0.768627</td>\n",
              "      <td>0.466667</td>\n",
              "      <td>0.415686</td>\n",
              "    </tr>\n",
              "    <tr>\n",
              "      <th>1</th>\n",
              "      <td>0.784314</td>\n",
              "      <td>0.517647</td>\n",
              "      <td>0.690196</td>\n",
              "      <td>0.796078</td>\n",
              "      <td>0.529412</td>\n",
              "      <td>0.686275</td>\n",
              "      <td>0.772549</td>\n",
              "      <td>0.501961</td>\n",
              "      <td>0.650980</td>\n",
              "      <td>0.756863</td>\n",
              "      <td>0.478431</td>\n",
              "      <td>0.623529</td>\n",
              "      <td>0.745098</td>\n",
              "      <td>0.458824</td>\n",
              "      <td>0.603922</td>\n",
              "      <td>0.745098</td>\n",
              "      <td>0.454902</td>\n",
              "      <td>0.603922</td>\n",
              "      <td>0.768627</td>\n",
              "      <td>0.486275</td>\n",
              "      <td>0.635294</td>\n",
              "      <td>0.760784</td>\n",
              "      <td>0.474510</td>\n",
              "      <td>0.615686</td>\n",
              "      <td>0.776471</td>\n",
              "      <td>0.517647</td>\n",
              "      <td>0.678431</td>\n",
              "      <td>0.788235</td>\n",
              "      <td>0.537255</td>\n",
              "      <td>0.713726</td>\n",
              "      <td>0.788235</td>\n",
              "      <td>0.529412</td>\n",
              "      <td>0.694118</td>\n",
              "      <td>0.725490</td>\n",
              "      <td>0.494118</td>\n",
              "      <td>0.650980</td>\n",
              "      <td>0.650980</td>\n",
              "      <td>0.458824</td>\n",
              "      <td>0.603922</td>\n",
              "      <td>0.709804</td>\n",
              "      <td>...</td>\n",
              "      <td>0.733333</td>\n",
              "      <td>0.776471</td>\n",
              "      <td>0.592157</td>\n",
              "      <td>0.733333</td>\n",
              "      <td>0.772549</td>\n",
              "      <td>0.584314</td>\n",
              "      <td>0.737255</td>\n",
              "      <td>0.749020</td>\n",
              "      <td>0.533333</td>\n",
              "      <td>0.631373</td>\n",
              "      <td>0.760784</td>\n",
              "      <td>0.549020</td>\n",
              "      <td>0.643137</td>\n",
              "      <td>0.768627</td>\n",
              "      <td>0.568627</td>\n",
              "      <td>0.705882</td>\n",
              "      <td>0.776471</td>\n",
              "      <td>0.588235</td>\n",
              "      <td>0.737255</td>\n",
              "      <td>0.760784</td>\n",
              "      <td>0.568627</td>\n",
              "      <td>0.698039</td>\n",
              "      <td>0.756863</td>\n",
              "      <td>0.564706</td>\n",
              "      <td>0.678431</td>\n",
              "      <td>0.752941</td>\n",
              "      <td>0.568627</td>\n",
              "      <td>0.709804</td>\n",
              "      <td>0.749020</td>\n",
              "      <td>0.568627</td>\n",
              "      <td>0.705882</td>\n",
              "      <td>0.737255</td>\n",
              "      <td>0.549020</td>\n",
              "      <td>0.670588</td>\n",
              "      <td>0.729412</td>\n",
              "      <td>0.525490</td>\n",
              "      <td>0.619608</td>\n",
              "      <td>0.733333</td>\n",
              "      <td>0.552941</td>\n",
              "      <td>0.658824</td>\n",
              "    </tr>\n",
              "    <tr>\n",
              "      <th>2</th>\n",
              "      <td>0.886275</td>\n",
              "      <td>0.541176</td>\n",
              "      <td>0.588235</td>\n",
              "      <td>0.890196</td>\n",
              "      <td>0.541176</td>\n",
              "      <td>0.596078</td>\n",
              "      <td>0.901961</td>\n",
              "      <td>0.552941</td>\n",
              "      <td>0.603922</td>\n",
              "      <td>0.901961</td>\n",
              "      <td>0.545098</td>\n",
              "      <td>0.588235</td>\n",
              "      <td>0.890196</td>\n",
              "      <td>0.533333</td>\n",
              "      <td>0.584314</td>\n",
              "      <td>0.890196</td>\n",
              "      <td>0.517647</td>\n",
              "      <td>0.576471</td>\n",
              "      <td>0.894118</td>\n",
              "      <td>0.505882</td>\n",
              "      <td>0.584314</td>\n",
              "      <td>0.913725</td>\n",
              "      <td>0.549020</td>\n",
              "      <td>0.600000</td>\n",
              "      <td>0.917647</td>\n",
              "      <td>0.560784</td>\n",
              "      <td>0.607843</td>\n",
              "      <td>0.909804</td>\n",
              "      <td>0.556863</td>\n",
              "      <td>0.588235</td>\n",
              "      <td>0.913725</td>\n",
              "      <td>0.568627</td>\n",
              "      <td>0.611765</td>\n",
              "      <td>0.909804</td>\n",
              "      <td>0.576471</td>\n",
              "      <td>0.611765</td>\n",
              "      <td>0.905882</td>\n",
              "      <td>0.572549</td>\n",
              "      <td>0.607843</td>\n",
              "      <td>0.909804</td>\n",
              "      <td>...</td>\n",
              "      <td>0.564706</td>\n",
              "      <td>0.862745</td>\n",
              "      <td>0.580392</td>\n",
              "      <td>0.560784</td>\n",
              "      <td>0.843137</td>\n",
              "      <td>0.568627</td>\n",
              "      <td>0.552941</td>\n",
              "      <td>0.835294</td>\n",
              "      <td>0.549020</td>\n",
              "      <td>0.537255</td>\n",
              "      <td>0.839216</td>\n",
              "      <td>0.560784</td>\n",
              "      <td>0.541176</td>\n",
              "      <td>0.839216</td>\n",
              "      <td>0.552941</td>\n",
              "      <td>0.525490</td>\n",
              "      <td>0.839216</td>\n",
              "      <td>0.549020</td>\n",
              "      <td>0.525490</td>\n",
              "      <td>0.827451</td>\n",
              "      <td>0.533333</td>\n",
              "      <td>0.513726</td>\n",
              "      <td>0.815686</td>\n",
              "      <td>0.521569</td>\n",
              "      <td>0.494118</td>\n",
              "      <td>0.815686</td>\n",
              "      <td>0.529412</td>\n",
              "      <td>0.505882</td>\n",
              "      <td>0.811765</td>\n",
              "      <td>0.521569</td>\n",
              "      <td>0.505882</td>\n",
              "      <td>0.823529</td>\n",
              "      <td>0.537255</td>\n",
              "      <td>0.525490</td>\n",
              "      <td>0.831373</td>\n",
              "      <td>0.556863</td>\n",
              "      <td>0.549020</td>\n",
              "      <td>0.827451</td>\n",
              "      <td>0.560784</td>\n",
              "      <td>0.529412</td>\n",
              "    </tr>\n",
              "    <tr>\n",
              "      <th>3</th>\n",
              "      <td>0.839216</td>\n",
              "      <td>0.533333</td>\n",
              "      <td>0.611765</td>\n",
              "      <td>0.831373</td>\n",
              "      <td>0.529412</td>\n",
              "      <td>0.607843</td>\n",
              "      <td>0.854902</td>\n",
              "      <td>0.545098</td>\n",
              "      <td>0.623529</td>\n",
              "      <td>0.874510</td>\n",
              "      <td>0.560784</td>\n",
              "      <td>0.643137</td>\n",
              "      <td>0.886275</td>\n",
              "      <td>0.560784</td>\n",
              "      <td>0.647059</td>\n",
              "      <td>0.878431</td>\n",
              "      <td>0.552941</td>\n",
              "      <td>0.639216</td>\n",
              "      <td>0.862745</td>\n",
              "      <td>0.537255</td>\n",
              "      <td>0.627451</td>\n",
              "      <td>0.850980</td>\n",
              "      <td>0.521569</td>\n",
              "      <td>0.619608</td>\n",
              "      <td>0.850980</td>\n",
              "      <td>0.521569</td>\n",
              "      <td>0.619608</td>\n",
              "      <td>0.847059</td>\n",
              "      <td>0.521569</td>\n",
              "      <td>0.619608</td>\n",
              "      <td>0.847059</td>\n",
              "      <td>0.525490</td>\n",
              "      <td>0.627451</td>\n",
              "      <td>0.847059</td>\n",
              "      <td>0.525490</td>\n",
              "      <td>0.631373</td>\n",
              "      <td>0.839216</td>\n",
              "      <td>0.525490</td>\n",
              "      <td>0.635294</td>\n",
              "      <td>0.858824</td>\n",
              "      <td>...</td>\n",
              "      <td>0.584314</td>\n",
              "      <td>0.796078</td>\n",
              "      <td>0.521569</td>\n",
              "      <td>0.576471</td>\n",
              "      <td>0.807843</td>\n",
              "      <td>0.525490</td>\n",
              "      <td>0.588235</td>\n",
              "      <td>0.807843</td>\n",
              "      <td>0.521569</td>\n",
              "      <td>0.584314</td>\n",
              "      <td>0.803922</td>\n",
              "      <td>0.525490</td>\n",
              "      <td>0.580392</td>\n",
              "      <td>0.796078</td>\n",
              "      <td>0.517647</td>\n",
              "      <td>0.576471</td>\n",
              "      <td>0.803922</td>\n",
              "      <td>0.517647</td>\n",
              "      <td>0.584314</td>\n",
              "      <td>0.807843</td>\n",
              "      <td>0.521569</td>\n",
              "      <td>0.588235</td>\n",
              "      <td>0.800000</td>\n",
              "      <td>0.517647</td>\n",
              "      <td>0.588235</td>\n",
              "      <td>0.788235</td>\n",
              "      <td>0.513726</td>\n",
              "      <td>0.576471</td>\n",
              "      <td>0.796078</td>\n",
              "      <td>0.517647</td>\n",
              "      <td>0.580392</td>\n",
              "      <td>0.800000</td>\n",
              "      <td>0.521569</td>\n",
              "      <td>0.588235</td>\n",
              "      <td>0.780392</td>\n",
              "      <td>0.501961</td>\n",
              "      <td>0.564706</td>\n",
              "      <td>0.776471</td>\n",
              "      <td>0.494118</td>\n",
              "      <td>0.556863</td>\n",
              "    </tr>\n",
              "    <tr>\n",
              "      <th>4</th>\n",
              "      <td>0.823529</td>\n",
              "      <td>0.600000</td>\n",
              "      <td>0.533333</td>\n",
              "      <td>0.823529</td>\n",
              "      <td>0.584314</td>\n",
              "      <td>0.513726</td>\n",
              "      <td>0.827451</td>\n",
              "      <td>0.607843</td>\n",
              "      <td>0.541176</td>\n",
              "      <td>0.823529</td>\n",
              "      <td>0.611765</td>\n",
              "      <td>0.545098</td>\n",
              "      <td>0.843137</td>\n",
              "      <td>0.647059</td>\n",
              "      <td>0.600000</td>\n",
              "      <td>0.843137</td>\n",
              "      <td>0.666667</td>\n",
              "      <td>0.615686</td>\n",
              "      <td>0.847059</td>\n",
              "      <td>0.662745</td>\n",
              "      <td>0.611765</td>\n",
              "      <td>0.843137</td>\n",
              "      <td>0.654902</td>\n",
              "      <td>0.603922</td>\n",
              "      <td>0.843137</td>\n",
              "      <td>0.654902</td>\n",
              "      <td>0.607843</td>\n",
              "      <td>0.850980</td>\n",
              "      <td>0.666667</td>\n",
              "      <td>0.615686</td>\n",
              "      <td>0.854902</td>\n",
              "      <td>0.678431</td>\n",
              "      <td>0.650980</td>\n",
              "      <td>0.874510</td>\n",
              "      <td>0.694118</td>\n",
              "      <td>0.678431</td>\n",
              "      <td>0.874510</td>\n",
              "      <td>0.694118</td>\n",
              "      <td>0.698039</td>\n",
              "      <td>0.870588</td>\n",
              "      <td>...</td>\n",
              "      <td>0.764706</td>\n",
              "      <td>0.878431</td>\n",
              "      <td>0.698039</td>\n",
              "      <td>0.733333</td>\n",
              "      <td>0.858824</td>\n",
              "      <td>0.662745</td>\n",
              "      <td>0.654902</td>\n",
              "      <td>0.858824</td>\n",
              "      <td>0.643137</td>\n",
              "      <td>0.596078</td>\n",
              "      <td>0.843137</td>\n",
              "      <td>0.619608</td>\n",
              "      <td>0.545098</td>\n",
              "      <td>0.843137</td>\n",
              "      <td>0.603922</td>\n",
              "      <td>0.521569</td>\n",
              "      <td>0.854902</td>\n",
              "      <td>0.631373</td>\n",
              "      <td>0.564706</td>\n",
              "      <td>0.866667</td>\n",
              "      <td>0.686275</td>\n",
              "      <td>0.639216</td>\n",
              "      <td>0.858824</td>\n",
              "      <td>0.666667</td>\n",
              "      <td>0.619608</td>\n",
              "      <td>0.858824</td>\n",
              "      <td>0.674510</td>\n",
              "      <td>0.607843</td>\n",
              "      <td>0.831373</td>\n",
              "      <td>0.627451</td>\n",
              "      <td>0.552941</td>\n",
              "      <td>0.784314</td>\n",
              "      <td>0.545098</td>\n",
              "      <td>0.450980</td>\n",
              "      <td>0.788235</td>\n",
              "      <td>0.545098</td>\n",
              "      <td>0.450980</td>\n",
              "      <td>0.831373</td>\n",
              "      <td>0.596078</td>\n",
              "      <td>0.490196</td>\n",
              "    </tr>\n",
              "  </tbody>\n",
              "</table>\n",
              "<p>5 rows × 49152 columns</p>\n",
              "</div>"
            ],
            "text/plain": [
              "      0         1         2      ...     49149     49150     49151\n",
              "0  0.890196  0.529412  0.529412  ...  0.768627  0.466667  0.415686\n",
              "1  0.784314  0.517647  0.690196  ...  0.733333  0.552941  0.658824\n",
              "2  0.886275  0.541176  0.588235  ...  0.827451  0.560784  0.529412\n",
              "3  0.839216  0.533333  0.611765  ...  0.776471  0.494118  0.556863\n",
              "4  0.823529  0.600000  0.533333  ...  0.831373  0.596078  0.490196\n",
              "\n",
              "[5 rows x 49152 columns]"
            ]
          },
          "metadata": {
            "tags": []
          },
          "execution_count": 59
        }
      ]
    },
    {
      "cell_type": "markdown",
      "metadata": {
        "id": "Jqz2dFQGS7Qh",
        "colab_type": "text"
      },
      "source": [
        "**Dictionary for Melanoma types**"
      ]
    },
    {
      "cell_type": "code",
      "metadata": {
        "id": "c4xobcrKZ6uW",
        "colab_type": "code",
        "outputId": "75a248e6-98f4-475f-9781-a7e4668c1683",
        "colab": {
          "base_uri": "https://localhost:8080/",
          "height": 263
        }
      },
      "source": [
        "dx_dict = dict({ 'nv': 4,'mel':6 ,'bkl':2, 'bcc':1 ,'akiec':0, 'vasc':5 ,'df':3})\n",
        "df_label=df_label.map(dx_dict)\n",
        "df_dx=pd.DataFrame(list(dx_dict.items()),columns=['val','id'])\n",
        "df_dx.sort_values('id',inplace=True)\n",
        "df_dx"
      ],
      "execution_count": 60,
      "outputs": [
        {
          "output_type": "execute_result",
          "data": {
            "text/html": [
              "<div>\n",
              "<style scoped>\n",
              "    .dataframe tbody tr th:only-of-type {\n",
              "        vertical-align: middle;\n",
              "    }\n",
              "\n",
              "    .dataframe tbody tr th {\n",
              "        vertical-align: top;\n",
              "    }\n",
              "\n",
              "    .dataframe thead th {\n",
              "        text-align: right;\n",
              "    }\n",
              "</style>\n",
              "<table border=\"1\" class=\"dataframe\">\n",
              "  <thead>\n",
              "    <tr style=\"text-align: right;\">\n",
              "      <th></th>\n",
              "      <th>val</th>\n",
              "      <th>id</th>\n",
              "    </tr>\n",
              "  </thead>\n",
              "  <tbody>\n",
              "    <tr>\n",
              "      <th>4</th>\n",
              "      <td>akiec</td>\n",
              "      <td>0</td>\n",
              "    </tr>\n",
              "    <tr>\n",
              "      <th>3</th>\n",
              "      <td>bcc</td>\n",
              "      <td>1</td>\n",
              "    </tr>\n",
              "    <tr>\n",
              "      <th>2</th>\n",
              "      <td>bkl</td>\n",
              "      <td>2</td>\n",
              "    </tr>\n",
              "    <tr>\n",
              "      <th>6</th>\n",
              "      <td>df</td>\n",
              "      <td>3</td>\n",
              "    </tr>\n",
              "    <tr>\n",
              "      <th>0</th>\n",
              "      <td>nv</td>\n",
              "      <td>4</td>\n",
              "    </tr>\n",
              "    <tr>\n",
              "      <th>5</th>\n",
              "      <td>vasc</td>\n",
              "      <td>5</td>\n",
              "    </tr>\n",
              "    <tr>\n",
              "      <th>1</th>\n",
              "      <td>mel</td>\n",
              "      <td>6</td>\n",
              "    </tr>\n",
              "  </tbody>\n",
              "</table>\n",
              "</div>"
            ],
            "text/plain": [
              "     val  id\n",
              "4  akiec   0\n",
              "3    bcc   1\n",
              "2    bkl   2\n",
              "6     df   3\n",
              "0     nv   4\n",
              "5   vasc   5\n",
              "1    mel   6"
            ]
          },
          "metadata": {
            "tags": []
          },
          "execution_count": 60
        }
      ]
    },
    {
      "cell_type": "markdown",
      "metadata": {
        "id": "0yuFVNU2pfEs",
        "colab_type": "text"
      },
      "source": [
        "**Splitting Data - Train and Test**"
      ]
    },
    {
      "cell_type": "code",
      "metadata": {
        "id": "l3aarQRApX2i",
        "colab_type": "code",
        "colab": {}
      },
      "source": [
        "from sklearn.model_selection import train_test_split\n",
        "\n",
        "data_train, data_test, label_train, label_test=  train_test_split(df_data, df_label, test_size=0.1, random_state=100, shuffle=True, stratify=df_label)"
      ],
      "execution_count": 0,
      "outputs": []
    },
    {
      "cell_type": "code",
      "metadata": {
        "id": "lpfQl7ZVpubE",
        "colab_type": "code",
        "outputId": "9fc384d5-9284-43ae-e2b5-1cf01a4e7852",
        "colab": {
          "base_uri": "https://localhost:8080/",
          "height": 156
        }
      },
      "source": [
        "label_train.value_counts()"
      ],
      "execution_count": 0,
      "outputs": [
        {
          "output_type": "execute_result",
          "data": {
            "text/plain": [
              "4    6034\n",
              "6    1002\n",
              "2     989\n",
              "1     463\n",
              "0     294\n",
              "5     128\n",
              "3     103\n",
              "Name: dx, dtype: int64"
            ]
          },
          "metadata": {
            "tags": []
          },
          "execution_count": 16
        }
      ]
    },
    {
      "cell_type": "code",
      "metadata": {
        "id": "WphDe-wfpyj8",
        "colab_type": "code",
        "outputId": "3fb4455d-44a7-49f8-deb3-8c2eed1a4f86",
        "colab": {
          "base_uri": "https://localhost:8080/",
          "height": 156
        }
      },
      "source": [
        "label_test.value_counts()"
      ],
      "execution_count": 0,
      "outputs": [
        {
          "output_type": "execute_result",
          "data": {
            "text/plain": [
              "4    671\n",
              "6    111\n",
              "2    110\n",
              "1     51\n",
              "0     33\n",
              "5     14\n",
              "3     12\n",
              "Name: dx, dtype: int64"
            ]
          },
          "metadata": {
            "tags": []
          },
          "execution_count": 17
        }
      ]
    },
    {
      "cell_type": "code",
      "metadata": {
        "id": "nLh3zS84p1OG",
        "colab_type": "code",
        "outputId": "cc0def79-a16f-402b-8786-cfbfaf1a1c97",
        "colab": {
          "base_uri": "https://localhost:8080/",
          "height": 35
        }
      },
      "source": [
        "# covnert train data to numpy array\n",
        "mat_128_128_3 = data_train.to_numpy()\n",
        "row, col = mat_128_128_3.shape\n",
        "print(mat_128_128_3.shape)"
      ],
      "execution_count": 0,
      "outputs": [
        {
          "output_type": "stream",
          "text": [
            "(9013, 49152)\n"
          ],
          "name": "stdout"
        }
      ]
    },
    {
      "cell_type": "code",
      "metadata": {
        "id": "Hp5MRaNEqMav",
        "colab_type": "code",
        "outputId": "b2a7e7b7-f63a-4ded-f59a-52513e4533c7",
        "colab": {
          "base_uri": "https://localhost:8080/",
          "height": 35
        }
      },
      "source": [
        "import math\n",
        "w=h=int(math.sqrt(col/3))\n",
        "w"
      ],
      "execution_count": 0,
      "outputs": [
        {
          "output_type": "execute_result",
          "data": {
            "text/plain": [
              "128"
            ]
          },
          "metadata": {
            "tags": []
          },
          "execution_count": 32
        }
      ]
    },
    {
      "cell_type": "code",
      "metadata": {
        "id": "7cYiY4BiqB6W",
        "colab_type": "code",
        "outputId": "b5983f8d-ef6c-434e-de1b-8faae05996f3",
        "colab": {
          "base_uri": "https://localhost:8080/",
          "height": 35
        }
      },
      "source": [
        "mat_128_128_3 = mat_128_128_3.reshape((row,w,h,3))\n",
        "mat_128_128_3.shape"
      ],
      "execution_count": 0,
      "outputs": [
        {
          "output_type": "execute_result",
          "data": {
            "text/plain": [
              "(9013, 128, 128, 3)"
            ]
          },
          "metadata": {
            "tags": []
          },
          "execution_count": 33
        }
      ]
    },
    {
      "cell_type": "code",
      "metadata": {
        "id": "FpxfZHsOs7Al",
        "colab_type": "code",
        "outputId": "008598fa-945a-43cc-9189-8db8a962b6fa",
        "colab": {
          "base_uri": "https://localhost:8080/",
          "height": 69
        }
      },
      "source": [
        "# reshaping test data\n",
        "mat_data_test = data_test.to_numpy()\n",
        "row,col=mat_data_test.shape\n",
        "print(mat_data_test.shape)\n",
        "w=h=int(math.sqrt(col/3))\n",
        "print(w)\n",
        "mat_data_test = mat_data_test.reshape((row,w,h,3))\n",
        "print(mat_data_test.shape)"
      ],
      "execution_count": 0,
      "outputs": [
        {
          "output_type": "stream",
          "text": [
            "(1002, 49152)\n",
            "128\n",
            "(1002, 128, 128, 3)\n"
          ],
          "name": "stdout"
        }
      ]
    },
    {
      "cell_type": "code",
      "metadata": {
        "id": "Qa58d4YXTtQ7",
        "colab_type": "code",
        "outputId": "d90d85f9-eb89-445c-8343-8f5d914509a4",
        "colab": {
          "base_uri": "https://localhost:8080/",
          "height": 52
        }
      },
      "source": [
        "# convert labels to categorical - train\n",
        "from keras.utils import to_categorical\n",
        "mat_label_train = to_categorical(label_train)\n",
        "print(mat_label_train.shape)\n",
        "\n",
        "# convert test labels to categorical \n",
        "mat_label_test = to_categorical(label_test)\n",
        "print(mat_label_test.shape)"
      ],
      "execution_count": 0,
      "outputs": [
        {
          "output_type": "stream",
          "text": [
            "(9013, 7)\n",
            "(1002, 7)\n"
          ],
          "name": "stdout"
        }
      ]
    },
    {
      "cell_type": "markdown",
      "metadata": {
        "id": "qa4JCTB_qv-L",
        "colab_type": "text"
      },
      "source": [
        "**Building a CNN for 10015, 128 x 128 Colored Images**"
      ]
    },
    {
      "cell_type": "markdown",
      "metadata": {
        "id": "FL-ySPzyZR4B",
        "colab_type": "text"
      },
      "source": [
        "**MobileNet**"
      ]
    },
    {
      "cell_type": "code",
      "metadata": {
        "id": "GX1bXpn6ZXbF",
        "colab_type": "code",
        "colab": {}
      },
      "source": [
        "from tensorflow import  keras\n",
        "#tf.compat.v1.disable_eager_execution()\n",
        "from keras.applications import MobileNet\n"
      ],
      "execution_count": 0,
      "outputs": []
    },
    {
      "cell_type": "code",
      "metadata": {
        "id": "rs_PB_rHLAKY",
        "colab_type": "code",
        "outputId": "81c333f6-5ffb-463b-a7fb-4ccdcf2806e9",
        "colab": {
          "base_uri": "https://localhost:8080/",
          "height": 1000
        }
      },
      "source": [
        "base_mobilenet = MobileNet(weights='imagenet',include_top=False, input_shape=(128,128,3))\n",
        "base_mobilenet.summary()"
      ],
      "execution_count": 0,
      "outputs": [
        {
          "output_type": "stream",
          "text": [
            "Model: \"mobilenet_1.00_128\"\n",
            "_________________________________________________________________\n",
            "Layer (type)                 Output Shape              Param #   \n",
            "=================================================================\n",
            "input_5 (InputLayer)         (None, 128, 128, 3)       0         \n",
            "_________________________________________________________________\n",
            "conv1_pad (ZeroPadding2D)    (None, 129, 129, 3)       0         \n",
            "_________________________________________________________________\n",
            "conv1 (Conv2D)               (None, 64, 64, 32)        864       \n",
            "_________________________________________________________________\n",
            "conv1_bn (BatchNormalization (None, 64, 64, 32)        128       \n",
            "_________________________________________________________________\n",
            "conv1_relu (ReLU)            (None, 64, 64, 32)        0         \n",
            "_________________________________________________________________\n",
            "conv_dw_1 (DepthwiseConv2D)  (None, 64, 64, 32)        288       \n",
            "_________________________________________________________________\n",
            "conv_dw_1_bn (BatchNormaliza (None, 64, 64, 32)        128       \n",
            "_________________________________________________________________\n",
            "conv_dw_1_relu (ReLU)        (None, 64, 64, 32)        0         \n",
            "_________________________________________________________________\n",
            "conv_pw_1 (Conv2D)           (None, 64, 64, 64)        2048      \n",
            "_________________________________________________________________\n",
            "conv_pw_1_bn (BatchNormaliza (None, 64, 64, 64)        256       \n",
            "_________________________________________________________________\n",
            "conv_pw_1_relu (ReLU)        (None, 64, 64, 64)        0         \n",
            "_________________________________________________________________\n",
            "conv_pad_2 (ZeroPadding2D)   (None, 65, 65, 64)        0         \n",
            "_________________________________________________________________\n",
            "conv_dw_2 (DepthwiseConv2D)  (None, 32, 32, 64)        576       \n",
            "_________________________________________________________________\n",
            "conv_dw_2_bn (BatchNormaliza (None, 32, 32, 64)        256       \n",
            "_________________________________________________________________\n",
            "conv_dw_2_relu (ReLU)        (None, 32, 32, 64)        0         \n",
            "_________________________________________________________________\n",
            "conv_pw_2 (Conv2D)           (None, 32, 32, 128)       8192      \n",
            "_________________________________________________________________\n",
            "conv_pw_2_bn (BatchNormaliza (None, 32, 32, 128)       512       \n",
            "_________________________________________________________________\n",
            "conv_pw_2_relu (ReLU)        (None, 32, 32, 128)       0         \n",
            "_________________________________________________________________\n",
            "conv_dw_3 (DepthwiseConv2D)  (None, 32, 32, 128)       1152      \n",
            "_________________________________________________________________\n",
            "conv_dw_3_bn (BatchNormaliza (None, 32, 32, 128)       512       \n",
            "_________________________________________________________________\n",
            "conv_dw_3_relu (ReLU)        (None, 32, 32, 128)       0         \n",
            "_________________________________________________________________\n",
            "conv_pw_3 (Conv2D)           (None, 32, 32, 128)       16384     \n",
            "_________________________________________________________________\n",
            "conv_pw_3_bn (BatchNormaliza (None, 32, 32, 128)       512       \n",
            "_________________________________________________________________\n",
            "conv_pw_3_relu (ReLU)        (None, 32, 32, 128)       0         \n",
            "_________________________________________________________________\n",
            "conv_pad_4 (ZeroPadding2D)   (None, 33, 33, 128)       0         \n",
            "_________________________________________________________________\n",
            "conv_dw_4 (DepthwiseConv2D)  (None, 16, 16, 128)       1152      \n",
            "_________________________________________________________________\n",
            "conv_dw_4_bn (BatchNormaliza (None, 16, 16, 128)       512       \n",
            "_________________________________________________________________\n",
            "conv_dw_4_relu (ReLU)        (None, 16, 16, 128)       0         \n",
            "_________________________________________________________________\n",
            "conv_pw_4 (Conv2D)           (None, 16, 16, 256)       32768     \n",
            "_________________________________________________________________\n",
            "conv_pw_4_bn (BatchNormaliza (None, 16, 16, 256)       1024      \n",
            "_________________________________________________________________\n",
            "conv_pw_4_relu (ReLU)        (None, 16, 16, 256)       0         \n",
            "_________________________________________________________________\n",
            "conv_dw_5 (DepthwiseConv2D)  (None, 16, 16, 256)       2304      \n",
            "_________________________________________________________________\n",
            "conv_dw_5_bn (BatchNormaliza (None, 16, 16, 256)       1024      \n",
            "_________________________________________________________________\n",
            "conv_dw_5_relu (ReLU)        (None, 16, 16, 256)       0         \n",
            "_________________________________________________________________\n",
            "conv_pw_5 (Conv2D)           (None, 16, 16, 256)       65536     \n",
            "_________________________________________________________________\n",
            "conv_pw_5_bn (BatchNormaliza (None, 16, 16, 256)       1024      \n",
            "_________________________________________________________________\n",
            "conv_pw_5_relu (ReLU)        (None, 16, 16, 256)       0         \n",
            "_________________________________________________________________\n",
            "conv_pad_6 (ZeroPadding2D)   (None, 17, 17, 256)       0         \n",
            "_________________________________________________________________\n",
            "conv_dw_6 (DepthwiseConv2D)  (None, 8, 8, 256)         2304      \n",
            "_________________________________________________________________\n",
            "conv_dw_6_bn (BatchNormaliza (None, 8, 8, 256)         1024      \n",
            "_________________________________________________________________\n",
            "conv_dw_6_relu (ReLU)        (None, 8, 8, 256)         0         \n",
            "_________________________________________________________________\n",
            "conv_pw_6 (Conv2D)           (None, 8, 8, 512)         131072    \n",
            "_________________________________________________________________\n",
            "conv_pw_6_bn (BatchNormaliza (None, 8, 8, 512)         2048      \n",
            "_________________________________________________________________\n",
            "conv_pw_6_relu (ReLU)        (None, 8, 8, 512)         0         \n",
            "_________________________________________________________________\n",
            "conv_dw_7 (DepthwiseConv2D)  (None, 8, 8, 512)         4608      \n",
            "_________________________________________________________________\n",
            "conv_dw_7_bn (BatchNormaliza (None, 8, 8, 512)         2048      \n",
            "_________________________________________________________________\n",
            "conv_dw_7_relu (ReLU)        (None, 8, 8, 512)         0         \n",
            "_________________________________________________________________\n",
            "conv_pw_7 (Conv2D)           (None, 8, 8, 512)         262144    \n",
            "_________________________________________________________________\n",
            "conv_pw_7_bn (BatchNormaliza (None, 8, 8, 512)         2048      \n",
            "_________________________________________________________________\n",
            "conv_pw_7_relu (ReLU)        (None, 8, 8, 512)         0         \n",
            "_________________________________________________________________\n",
            "conv_dw_8 (DepthwiseConv2D)  (None, 8, 8, 512)         4608      \n",
            "_________________________________________________________________\n",
            "conv_dw_8_bn (BatchNormaliza (None, 8, 8, 512)         2048      \n",
            "_________________________________________________________________\n",
            "conv_dw_8_relu (ReLU)        (None, 8, 8, 512)         0         \n",
            "_________________________________________________________________\n",
            "conv_pw_8 (Conv2D)           (None, 8, 8, 512)         262144    \n",
            "_________________________________________________________________\n",
            "conv_pw_8_bn (BatchNormaliza (None, 8, 8, 512)         2048      \n",
            "_________________________________________________________________\n",
            "conv_pw_8_relu (ReLU)        (None, 8, 8, 512)         0         \n",
            "_________________________________________________________________\n",
            "conv_dw_9 (DepthwiseConv2D)  (None, 8, 8, 512)         4608      \n",
            "_________________________________________________________________\n",
            "conv_dw_9_bn (BatchNormaliza (None, 8, 8, 512)         2048      \n",
            "_________________________________________________________________\n",
            "conv_dw_9_relu (ReLU)        (None, 8, 8, 512)         0         \n",
            "_________________________________________________________________\n",
            "conv_pw_9 (Conv2D)           (None, 8, 8, 512)         262144    \n",
            "_________________________________________________________________\n",
            "conv_pw_9_bn (BatchNormaliza (None, 8, 8, 512)         2048      \n",
            "_________________________________________________________________\n",
            "conv_pw_9_relu (ReLU)        (None, 8, 8, 512)         0         \n",
            "_________________________________________________________________\n",
            "conv_dw_10 (DepthwiseConv2D) (None, 8, 8, 512)         4608      \n",
            "_________________________________________________________________\n",
            "conv_dw_10_bn (BatchNormaliz (None, 8, 8, 512)         2048      \n",
            "_________________________________________________________________\n",
            "conv_dw_10_relu (ReLU)       (None, 8, 8, 512)         0         \n",
            "_________________________________________________________________\n",
            "conv_pw_10 (Conv2D)          (None, 8, 8, 512)         262144    \n",
            "_________________________________________________________________\n",
            "conv_pw_10_bn (BatchNormaliz (None, 8, 8, 512)         2048      \n",
            "_________________________________________________________________\n",
            "conv_pw_10_relu (ReLU)       (None, 8, 8, 512)         0         \n",
            "_________________________________________________________________\n",
            "conv_dw_11 (DepthwiseConv2D) (None, 8, 8, 512)         4608      \n",
            "_________________________________________________________________\n",
            "conv_dw_11_bn (BatchNormaliz (None, 8, 8, 512)         2048      \n",
            "_________________________________________________________________\n",
            "conv_dw_11_relu (ReLU)       (None, 8, 8, 512)         0         \n",
            "_________________________________________________________________\n",
            "conv_pw_11 (Conv2D)          (None, 8, 8, 512)         262144    \n",
            "_________________________________________________________________\n",
            "conv_pw_11_bn (BatchNormaliz (None, 8, 8, 512)         2048      \n",
            "_________________________________________________________________\n",
            "conv_pw_11_relu (ReLU)       (None, 8, 8, 512)         0         \n",
            "_________________________________________________________________\n",
            "conv_pad_12 (ZeroPadding2D)  (None, 9, 9, 512)         0         \n",
            "_________________________________________________________________\n",
            "conv_dw_12 (DepthwiseConv2D) (None, 4, 4, 512)         4608      \n",
            "_________________________________________________________________\n",
            "conv_dw_12_bn (BatchNormaliz (None, 4, 4, 512)         2048      \n",
            "_________________________________________________________________\n",
            "conv_dw_12_relu (ReLU)       (None, 4, 4, 512)         0         \n",
            "_________________________________________________________________\n",
            "conv_pw_12 (Conv2D)          (None, 4, 4, 1024)        524288    \n",
            "_________________________________________________________________\n",
            "conv_pw_12_bn (BatchNormaliz (None, 4, 4, 1024)        4096      \n",
            "_________________________________________________________________\n",
            "conv_pw_12_relu (ReLU)       (None, 4, 4, 1024)        0         \n",
            "_________________________________________________________________\n",
            "conv_dw_13 (DepthwiseConv2D) (None, 4, 4, 1024)        9216      \n",
            "_________________________________________________________________\n",
            "conv_dw_13_bn (BatchNormaliz (None, 4, 4, 1024)        4096      \n",
            "_________________________________________________________________\n",
            "conv_dw_13_relu (ReLU)       (None, 4, 4, 1024)        0         \n",
            "_________________________________________________________________\n",
            "conv_pw_13 (Conv2D)          (None, 4, 4, 1024)        1048576   \n",
            "_________________________________________________________________\n",
            "conv_pw_13_bn (BatchNormaliz (None, 4, 4, 1024)        4096      \n",
            "_________________________________________________________________\n",
            "conv_pw_13_relu (ReLU)       (None, 4, 4, 1024)        0         \n",
            "=================================================================\n",
            "Total params: 3,228,864\n",
            "Trainable params: 3,206,976\n",
            "Non-trainable params: 21,888\n",
            "_________________________________________________________________\n"
          ],
          "name": "stdout"
        }
      ]
    },
    {
      "cell_type": "code",
      "metadata": {
        "id": "qZpDtU4NZdoG",
        "colab_type": "code",
        "outputId": "a04eee36-532d-4335-aa3d-00e3255842b9",
        "colab": {
          "base_uri": "https://localhost:8080/",
          "height": 468
        }
      },
      "source": [
        "from keras import layers, regularizers, optimizers\n",
        "from keras import models\n",
        "\n",
        "model_mobilenet=models.Sequential()\n",
        "\n",
        "\n",
        "\n",
        "base_mobilenet = MobileNet(weights='imagenet',include_top=False, input_shape=(128,128,3))\n",
        "\n",
        "model_mobilenet.add(base_mobilenet)\n",
        "\n",
        "#connecting covnet o/p to dense layer\n",
        "model_mobilenet.add(layers.Flatten())  # flatten output of covnet (3,3, 64) (h,w,channels) to 3*3*64\n",
        "model_mobilenet.add(layers.Dropout(0.4))\n",
        "model_mobilenet.add(layers.Dense(1024,activation='relu'))\n",
        "model_mobilenet.add(layers.Dropout(0.3))\n",
        "model_mobilenet.add(layers.Dense(128,activation='relu'))\n",
        "model_mobilenet.add(layers.Dropout(0.2))\n",
        "model_mobilenet.add(layers.Dense(64,activation='relu'))\n",
        "model_mobilenet.add(layers.Dense(7,activation='softmax'))\n",
        "\n",
        "model_mobilenet.summary()\n"
      ],
      "execution_count": 0,
      "outputs": [
        {
          "output_type": "stream",
          "text": [
            "Model: \"sequential_3\"\n",
            "_________________________________________________________________\n",
            "Layer (type)                 Output Shape              Param #   \n",
            "=================================================================\n",
            "mobilenet_1.00_128 (Model)   (None, 4, 4, 1024)        3228864   \n",
            "_________________________________________________________________\n",
            "flatten_3 (Flatten)          (None, 16384)             0         \n",
            "_________________________________________________________________\n",
            "dropout_7 (Dropout)          (None, 16384)             0         \n",
            "_________________________________________________________________\n",
            "dense_9 (Dense)              (None, 1024)              16778240  \n",
            "_________________________________________________________________\n",
            "dropout_8 (Dropout)          (None, 1024)              0         \n",
            "_________________________________________________________________\n",
            "dense_10 (Dense)             (None, 128)               131200    \n",
            "_________________________________________________________________\n",
            "dropout_9 (Dropout)          (None, 128)               0         \n",
            "_________________________________________________________________\n",
            "dense_11 (Dense)             (None, 64)                8256      \n",
            "_________________________________________________________________\n",
            "dense_12 (Dense)             (None, 7)                 455       \n",
            "=================================================================\n",
            "Total params: 20,147,015\n",
            "Trainable params: 20,125,127\n",
            "Non-trainable params: 21,888\n",
            "_________________________________________________________________\n"
          ],
          "name": "stdout"
        }
      ]
    },
    {
      "cell_type": "code",
      "metadata": {
        "id": "9NS-2ASt9GVB",
        "colab_type": "code",
        "outputId": "7a59ae27-966a-4b94-f87c-3096ab196ff2",
        "colab": {
          "base_uri": "https://localhost:8080/",
          "height": 52
        }
      },
      "source": [
        "print('Total weights : ',len(model_mobilenet.weights))\n",
        "print('Trainable weights : ',len(model_mobilenet.trainable_weights))"
      ],
      "execution_count": 0,
      "outputs": [
        {
          "output_type": "stream",
          "text": [
            "Total weights :  143\n",
            "Trainable weights :  8\n"
          ],
          "name": "stdout"
        }
      ]
    },
    {
      "cell_type": "code",
      "metadata": {
        "id": "bJQyZQ53_P6U",
        "colab_type": "code",
        "outputId": "00eb550b-786f-4de4-b96e-b582ff0dea3c",
        "colab": {
          "base_uri": "https://localhost:8080/",
          "height": 35
        }
      },
      "source": [
        "mat_128_128_3.shape"
      ],
      "execution_count": 0,
      "outputs": [
        {
          "output_type": "execute_result",
          "data": {
            "text/plain": [
              "(9013, 128, 128, 3)"
            ]
          },
          "metadata": {
            "tags": []
          },
          "execution_count": 23
        }
      ]
    },
    {
      "cell_type": "code",
      "metadata": {
        "id": "IXG7zj4pZ46d",
        "colab_type": "code",
        "outputId": "833fc77a-85d6-4694-dcfd-d73537632b7d",
        "colab": {
          "base_uri": "https://localhost:8080/",
          "height": 901
        }
      },
      "source": [
        "#compiling \n",
        "model_mobilenet.compile(optimizer= optimizers.RMSprop(lr=1e-4) ,loss='categorical_crossentropy',metrics=['acc'])\n",
        "\n",
        "#early stopping\n",
        "earlystopping = keras.callbacks.EarlyStopping(patience=15, restore_best_weights=True)\n",
        "\n",
        "history = model_mobilenet.fit(mat_128_128_3,mat_label_train,epochs=250,batch_size=512, validation_split=0.15 ,callbacks=[earlystopping]) # batch_size =64, acc = 69\n",
        "\n",
        "#history = model_mobilenet.fit(mat_128_128_3,mat_label_train,epochs=100,batch_size=512, validation_split=0.1 )\n",
        "\n",
        "#model_mobilenet.save('CNN_MobileNet.h5')"
      ],
      "execution_count": 0,
      "outputs": [
        {
          "output_type": "stream",
          "text": [
            "Train on 7661 samples, validate on 1352 samples\n",
            "Epoch 1/250\n",
            "7661/7661 [==============================] - 81s 11ms/step - loss: 1.2814 - acc: 0.6406 - val_loss: 1.4621 - val_acc: 0.6701\n",
            "Epoch 2/250\n",
            "7661/7661 [==============================] - 71s 9ms/step - loss: 0.8128 - acc: 0.7132 - val_loss: 1.8343 - val_acc: 0.6686\n",
            "Epoch 3/250\n",
            "7661/7661 [==============================] - 70s 9ms/step - loss: 0.7034 - acc: 0.7429 - val_loss: 1.3934 - val_acc: 0.6746\n",
            "Epoch 4/250\n",
            "7661/7661 [==============================] - 70s 9ms/step - loss: 0.6086 - acc: 0.7786 - val_loss: 1.6979 - val_acc: 0.6731\n",
            "Epoch 5/250\n",
            "7661/7661 [==============================] - 70s 9ms/step - loss: 0.5228 - acc: 0.8059 - val_loss: 1.2758 - val_acc: 0.6923\n",
            "Epoch 6/250\n",
            "7661/7661 [==============================] - 71s 9ms/step - loss: 0.4361 - acc: 0.8384 - val_loss: 1.3372 - val_acc: 0.7012\n",
            "Epoch 7/250\n",
            "7661/7661 [==============================] - 70s 9ms/step - loss: 0.3775 - acc: 0.8585 - val_loss: 1.2592 - val_acc: 0.7093\n",
            "Epoch 8/250\n",
            "7661/7661 [==============================] - 70s 9ms/step - loss: 0.2959 - acc: 0.8904 - val_loss: 0.9885 - val_acc: 0.7441\n",
            "Epoch 9/250\n",
            "7661/7661 [==============================] - 70s 9ms/step - loss: 0.2470 - acc: 0.9082 - val_loss: 1.3615 - val_acc: 0.7367\n",
            "Epoch 10/250\n",
            "7661/7661 [==============================] - 70s 9ms/step - loss: 0.1914 - acc: 0.9324 - val_loss: 0.9187 - val_acc: 0.7670\n",
            "Epoch 11/250\n",
            "7661/7661 [==============================] - 70s 9ms/step - loss: 0.1665 - acc: 0.9398 - val_loss: 0.9525 - val_acc: 0.7722\n",
            "Epoch 12/250\n",
            "7661/7661 [==============================] - 70s 9ms/step - loss: 0.1378 - acc: 0.9484 - val_loss: 1.0278 - val_acc: 0.7714\n",
            "Epoch 13/250\n",
            "7661/7661 [==============================] - 70s 9ms/step - loss: 0.0882 - acc: 0.9702 - val_loss: 1.1625 - val_acc: 0.7737\n",
            "Epoch 14/250\n",
            "7661/7661 [==============================] - 77s 10ms/step - loss: 0.0699 - acc: 0.9748 - val_loss: 1.2935 - val_acc: 0.7751\n",
            "Epoch 15/250\n",
            "7661/7661 [==============================] - 69s 9ms/step - loss: 0.0870 - acc: 0.9698 - val_loss: 1.0249 - val_acc: 0.7774\n",
            "Epoch 16/250\n",
            "7661/7661 [==============================] - 70s 9ms/step - loss: 0.0460 - acc: 0.9845 - val_loss: 1.0455 - val_acc: 0.7722\n",
            "Epoch 17/250\n",
            "7661/7661 [==============================] - 70s 9ms/step - loss: 0.0393 - acc: 0.9873 - val_loss: 1.0908 - val_acc: 0.7936\n",
            "Epoch 18/250\n",
            "7661/7661 [==============================] - 70s 9ms/step - loss: 0.0262 - acc: 0.9920 - val_loss: 1.1181 - val_acc: 0.7951\n",
            "Epoch 19/250\n",
            "7661/7661 [==============================] - 70s 9ms/step - loss: 0.0416 - acc: 0.9856 - val_loss: 1.4127 - val_acc: 0.7981\n",
            "Epoch 20/250\n",
            "7661/7661 [==============================] - 69s 9ms/step - loss: 0.0228 - acc: 0.9926 - val_loss: 1.3963 - val_acc: 0.7981\n",
            "Epoch 21/250\n",
            "7661/7661 [==============================] - 69s 9ms/step - loss: 0.0163 - acc: 0.9941 - val_loss: 1.4454 - val_acc: 0.8010\n",
            "Epoch 22/250\n",
            "7661/7661 [==============================] - 70s 9ms/step - loss: 0.0224 - acc: 0.9937 - val_loss: 1.2909 - val_acc: 0.8025\n",
            "Epoch 23/250\n",
            "7661/7661 [==============================] - 69s 9ms/step - loss: 0.0161 - acc: 0.9950 - val_loss: 1.4674 - val_acc: 0.8047\n",
            "Epoch 24/250\n",
            "7661/7661 [==============================] - 68s 9ms/step - loss: 0.0183 - acc: 0.9945 - val_loss: 2.7849 - val_acc: 0.7618\n",
            "Epoch 25/250\n",
            "7661/7661 [==============================] - 68s 9ms/step - loss: 0.0340 - acc: 0.9896 - val_loss: 1.2958 - val_acc: 0.8077\n"
          ],
          "name": "stdout"
        }
      ]
    },
    {
      "cell_type": "code",
      "metadata": {
        "id": "5Qtqei7Y7iU6",
        "colab_type": "code",
        "colab": {}
      },
      "source": [
        "model_mobilenet.save('CNN_MobileNet_May5.h5')"
      ],
      "execution_count": 0,
      "outputs": []
    },
    {
      "cell_type": "code",
      "metadata": {
        "id": "L7LvzTe3CQNo",
        "colab_type": "code",
        "outputId": "f408b1da-6c8d-4f65-b165-77d78770b8bf",
        "colab": {
          "base_uri": "https://localhost:8080/",
          "height": 52
        }
      },
      "source": [
        "# test accuracy\n",
        "test_loss, test_acc = model_mobilenet.evaluate(mat_data_test,mat_label_test)\n",
        "print('Test Loss : ',test_loss,' Test Acc : ',test_acc)                       # test loss = 0.66, test_acc = 0.76"
      ],
      "execution_count": 0,
      "outputs": [
        {
          "output_type": "stream",
          "text": [
            "1002/1002 [==============================] - 3s 3ms/step\n",
            "Test Loss :  0.9709897623239401  Test Acc :  0.7614770531654358\n"
          ],
          "name": "stdout"
        }
      ]
    },
    {
      "cell_type": "code",
      "metadata": {
        "id": "BOurUBMoCYPp",
        "colab_type": "code",
        "outputId": "9a409374-c08c-4c5b-e834-1a6a36db3959",
        "colab": {
          "base_uri": "https://localhost:8080/",
          "height": 324
        }
      },
      "source": [
        "pd.DataFrame(history.history).plot(figsize=(8,5))\n",
        "plt.grid(True)\n",
        "plt.gca().set_ylim(0,1)\n",
        "plt.show()"
      ],
      "execution_count": 0,
      "outputs": [
        {
          "output_type": "display_data",
          "data": {
            "image/png": "[encoded data removed]",
            "text/plain": [
              "<Figure size 576x360 with 1 Axes>"
            ]
          },
          "metadata": {
            "tags": [],
            "needs_background": "light"
          }
        }
      ]
    },
    {
      "cell_type": "code",
      "metadata": {
        "id": "VE-HP_EhdchS",
        "colab_type": "code",
        "outputId": "09fa09a6-c25d-47f1-8fc0-09189cb182cb",
        "colab": {
          "base_uri": "https://localhost:8080/",
          "height": 263
        }
      },
      "source": [
        "# predict\n",
        "pred=model_mobilenet.predict(mat_data_test)\n",
        "\n",
        "# conf mat\n",
        "cnf_mat_1 = confusion_matrix(label_test,list(map(np.argmax,pred)))\n",
        "row_sums_1 = cnf_mat_1.sum(axis=1, keepdims=True)\n",
        "cnf_p_1 = cnf_mat_1/row_sums_1\n",
        "\n",
        "# view confusion matrix in class accuracy %\n",
        "cnf_mat_1 = confusion_matrix(label_test,list(map(np.argmax,pred)))\n",
        "row_sums_1 = cnf_mat_1.sum(axis=1, keepdims=True)\n",
        "cnf_p_1 = cnf_mat_1/row_sums_1\n",
        "class_acc_1 = np.diag(cnf_p_1)\n",
        "#class_acc_1\n",
        "class_acc_df = pd.DataFrame({ 'Class':df_dx['val'].values, 'Acc':class_acc_1 })\n",
        "\n",
        "#cnf_df = pd.DataFrame(data=cnf_mat,columns=df_dx['val'].values , index=df_dx['val'].values )\n",
        "cnf_p_df = pd.DataFrame(data=cnf_p_1,columns=df_dx['val'].values , index=df_dx['val'].values )\n",
        "cnf_df"
      ],
      "execution_count": 0,
      "outputs": [
        {
          "output_type": "execute_result",
          "data": {
            "text/html": [
              "<div>\n",
              "<style scoped>\n",
              "    .dataframe tbody tr th:only-of-type {\n",
              "        vertical-align: middle;\n",
              "    }\n",
              "\n",
              "    .dataframe tbody tr th {\n",
              "        vertical-align: top;\n",
              "    }\n",
              "\n",
              "    .dataframe thead th {\n",
              "        text-align: right;\n",
              "    }\n",
              "</style>\n",
              "<table border=\"1\" class=\"dataframe\">\n",
              "  <thead>\n",
              "    <tr style=\"text-align: right;\">\n",
              "      <th></th>\n",
              "      <th>akiec</th>\n",
              "      <th>bcc</th>\n",
              "      <th>bkl</th>\n",
              "      <th>df</th>\n",
              "      <th>nv</th>\n",
              "      <th>vasc</th>\n",
              "      <th>mel</th>\n",
              "    </tr>\n",
              "  </thead>\n",
              "  <tbody>\n",
              "    <tr>\n",
              "      <th>akiec</th>\n",
              "      <td>14</td>\n",
              "      <td>2</td>\n",
              "      <td>10</td>\n",
              "      <td>0</td>\n",
              "      <td>5</td>\n",
              "      <td>0</td>\n",
              "      <td>2</td>\n",
              "    </tr>\n",
              "    <tr>\n",
              "      <th>bcc</th>\n",
              "      <td>6</td>\n",
              "      <td>23</td>\n",
              "      <td>5</td>\n",
              "      <td>0</td>\n",
              "      <td>16</td>\n",
              "      <td>0</td>\n",
              "      <td>1</td>\n",
              "    </tr>\n",
              "    <tr>\n",
              "      <th>bkl</th>\n",
              "      <td>8</td>\n",
              "      <td>1</td>\n",
              "      <td>57</td>\n",
              "      <td>0</td>\n",
              "      <td>39</td>\n",
              "      <td>1</td>\n",
              "      <td>4</td>\n",
              "    </tr>\n",
              "    <tr>\n",
              "      <th>df</th>\n",
              "      <td>0</td>\n",
              "      <td>0</td>\n",
              "      <td>3</td>\n",
              "      <td>1</td>\n",
              "      <td>8</td>\n",
              "      <td>0</td>\n",
              "      <td>0</td>\n",
              "    </tr>\n",
              "    <tr>\n",
              "      <th>nv</th>\n",
              "      <td>3</td>\n",
              "      <td>3</td>\n",
              "      <td>17</td>\n",
              "      <td>0</td>\n",
              "      <td>640</td>\n",
              "      <td>3</td>\n",
              "      <td>5</td>\n",
              "    </tr>\n",
              "    <tr>\n",
              "      <th>vasc</th>\n",
              "      <td>0</td>\n",
              "      <td>0</td>\n",
              "      <td>2</td>\n",
              "      <td>0</td>\n",
              "      <td>6</td>\n",
              "      <td>6</td>\n",
              "      <td>0</td>\n",
              "    </tr>\n",
              "    <tr>\n",
              "      <th>mel</th>\n",
              "      <td>6</td>\n",
              "      <td>3</td>\n",
              "      <td>14</td>\n",
              "      <td>1</td>\n",
              "      <td>64</td>\n",
              "      <td>1</td>\n",
              "      <td>22</td>\n",
              "    </tr>\n",
              "  </tbody>\n",
              "</table>\n",
              "</div>"
            ],
            "text/plain": [
              "       akiec  bcc  bkl  df   nv  vasc  mel\n",
              "akiec     14    2   10   0    5     0    2\n",
              "bcc        6   23    5   0   16     0    1\n",
              "bkl        8    1   57   0   39     1    4\n",
              "df         0    0    3   1    8     0    0\n",
              "nv         3    3   17   0  640     3    5\n",
              "vasc       0    0    2   0    6     6    0\n",
              "mel        6    3   14   1   64     1   22"
            ]
          },
          "metadata": {
            "tags": []
          },
          "execution_count": 31
        }
      ]
    },
    {
      "cell_type": "code",
      "metadata": {
        "id": "CgA0gD2cEexX",
        "colab_type": "code",
        "outputId": "2028faf4-c5f9-4349-899d-b7da0d7a50a0",
        "colab": {
          "base_uri": "https://localhost:8080/",
          "height": 263
        }
      },
      "source": [
        "class_acc_df"
      ],
      "execution_count": 0,
      "outputs": [
        {
          "output_type": "execute_result",
          "data": {
            "text/html": [
              "<div>\n",
              "<style scoped>\n",
              "    .dataframe tbody tr th:only-of-type {\n",
              "        vertical-align: middle;\n",
              "    }\n",
              "\n",
              "    .dataframe tbody tr th {\n",
              "        vertical-align: top;\n",
              "    }\n",
              "\n",
              "    .dataframe thead th {\n",
              "        text-align: right;\n",
              "    }\n",
              "</style>\n",
              "<table border=\"1\" class=\"dataframe\">\n",
              "  <thead>\n",
              "    <tr style=\"text-align: right;\">\n",
              "      <th></th>\n",
              "      <th>Class</th>\n",
              "      <th>Acc</th>\n",
              "    </tr>\n",
              "  </thead>\n",
              "  <tbody>\n",
              "    <tr>\n",
              "      <th>0</th>\n",
              "      <td>akiec</td>\n",
              "      <td>0.424242</td>\n",
              "    </tr>\n",
              "    <tr>\n",
              "      <th>1</th>\n",
              "      <td>bcc</td>\n",
              "      <td>0.450980</td>\n",
              "    </tr>\n",
              "    <tr>\n",
              "      <th>2</th>\n",
              "      <td>bkl</td>\n",
              "      <td>0.518182</td>\n",
              "    </tr>\n",
              "    <tr>\n",
              "      <th>3</th>\n",
              "      <td>df</td>\n",
              "      <td>0.083333</td>\n",
              "    </tr>\n",
              "    <tr>\n",
              "      <th>4</th>\n",
              "      <td>nv</td>\n",
              "      <td>0.953800</td>\n",
              "    </tr>\n",
              "    <tr>\n",
              "      <th>5</th>\n",
              "      <td>vasc</td>\n",
              "      <td>0.428571</td>\n",
              "    </tr>\n",
              "    <tr>\n",
              "      <th>6</th>\n",
              "      <td>mel</td>\n",
              "      <td>0.198198</td>\n",
              "    </tr>\n",
              "  </tbody>\n",
              "</table>\n",
              "</div>"
            ],
            "text/plain": [
              "   Class       Acc\n",
              "0  akiec  0.424242\n",
              "1    bcc  0.450980\n",
              "2    bkl  0.518182\n",
              "3     df  0.083333\n",
              "4     nv  0.953800\n",
              "5   vasc  0.428571\n",
              "6    mel  0.198198"
            ]
          },
          "metadata": {
            "tags": []
          },
          "execution_count": 43
        }
      ]
    },
    {
      "cell_type": "code",
      "metadata": {
        "id": "5ob62G0wKGi5",
        "colab_type": "code",
        "colab": {}
      },
      "source": [
        "from sklearn.metrics import precision_recall_curve, precision_score,recall_score\n",
        "p = precision_score(mat_label_test,pred)"
      ],
      "execution_count": 0,
      "outputs": []
    },
    {
      "cell_type": "code",
      "metadata": {
        "id": "r_ADhwfzGpGC",
        "colab_type": "code",
        "outputId": "3d23d4ba-d215-4a88-e676-5352e8e5c32e",
        "colab": {
          "base_uri": "https://localhost:8080/",
          "height": 283
        }
      },
      "source": [
        "plt.imshow(cnf_p_1,cmap=plt.cm.gray)"
      ],
      "execution_count": 0,
      "outputs": [
        {
          "output_type": "execute_result",
          "data": {
            "text/plain": [
              "<matplotlib.image.AxesImage at 0x7fb63a62f1d0>"
            ]
          },
          "metadata": {
            "tags": []
          },
          "execution_count": 45
        },
        {
          "output_type": "display_data",
          "data": {
            "image/png": "[encoded data removed]",
            "text/plain": [
              "<Figure size 432x288 with 1 Axes>"
            ]
          },
          "metadata": {
            "tags": [],
            "needs_background": "light"
          }
        }
      ]
    },
    {
      "cell_type": "markdown",
      "metadata": {
        "id": "_n3R9TWBLykB",
        "colab_type": "text"
      },
      "source": [
        "**Pretrained MobileNet -Feature Extraction using Data Augmentation**\n"
      ]
    },
    {
      "cell_type": "code",
      "metadata": {
        "id": "yr2KHuqw9cHx",
        "colab_type": "code",
        "outputId": "bc88405f-f524-47c7-d22a-941f7c9dd0bb",
        "colab": {
          "base_uri": "https://localhost:8080/",
          "height": 52
        }
      },
      "source": [
        "# Setting up Image generator\n",
        "\n",
        "train_dir='/content/gdrive/My Drive/Deep Learning Project/Skin Cancer Detection/dataset/RR_Train_Test_Val_Data_Augmentation/train'\n",
        "val_dir='/content/gdrive/My Drive/Deep Learning Project/Skin Cancer Detection/dataset/RR_Train_Test_Val_Data_Augmentation/test'\n",
        "test_dir = '/content/gdrive/My Drive/Deep Learning Project/Skin Cancer Detection/dataset/RR_Train_Test_Val_Data_Augmentation/val'\n",
        "\n",
        "train_datagen = ImageDataGenerator(rescale=1./255, rotation_range=40, horizontal_flip=True,fill_mode='nearest')\n",
        "val_datagen = ImageDataGenerator(rescale=1./255)\n",
        "\n",
        "train_generator = train_datagen.flow_from_directory(train_dir, target_size=(128,128), batch_size=32, class_mode='categorical',shuffle=True)\n",
        "\n",
        "val_generator = val_datagen.flow_from_directory(val_dir, target_size=(128,128), batch_size=32, class_mode='categorical', shuffle=True)\n",
        "\n"
      ],
      "execution_count": 10,
      "outputs": [
        {
          "output_type": "stream",
          "text": [
            "Found 8111 images belonging to 7 classes.\n",
            "Found 1002 images belonging to 7 classes.\n"
          ],
          "name": "stdout"
        }
      ]
    },
    {
      "cell_type": "code",
      "metadata": {
        "id": "NeOqrJTbVQd0",
        "colab_type": "code",
        "outputId": "53b59506-28c8-49b0-8f4c-5f93405a2da1",
        "colab": {
          "base_uri": "https://localhost:8080/",
          "height": 35
        }
      },
      "source": [
        "test_datagen = ImageDataGenerator(rescale=1./255)\n",
        "\n",
        "test_generator = val_datagen.flow_from_directory(test_dir, target_size=(128,128), batch_size=32, class_mode='categorical', shuffle=True)"
      ],
      "execution_count": 20,
      "outputs": [
        {
          "output_type": "stream",
          "text": [
            "Found 902 images belonging to 7 classes.\n"
          ],
          "name": "stdout"
        }
      ]
    },
    {
      "cell_type": "code",
      "metadata": {
        "id": "1B9C_k3ea2ce",
        "colab_type": "code",
        "colab": {}
      },
      "source": [
        "train_size=8111 \n",
        "val_size = 1002 \n",
        "test_size = 902\n",
        "\n",
        "batch_size=32"
      ],
      "execution_count": 0,
      "outputs": []
    },
    {
      "cell_type": "code",
      "metadata": {
        "id": "bmOjQT7tsMdT",
        "colab_type": "code",
        "outputId": "69e20fe5-d964-4af8-f278-369ee9555098",
        "colab": {
          "base_uri": "https://localhost:8080/",
          "height": 468
        }
      },
      "source": [
        "from tensorflow import  keras\n",
        "#tf.compat.v1.disable_eager_execution()\n",
        "from keras.applications import MobileNet\n",
        "from keras import layers, regularizers, optimizers\n",
        "from keras import models\n",
        "\n",
        "base_mobilenet = MobileNet(weights='imagenet',include_top=False, input_shape=(128,128,3))\n",
        "#base_mobilenet = MobileNet(weights='imagenet', input_shape=(128,128,3))\n",
        "#base_mobilenet.summary()\n",
        "\n",
        "model_mobilenet=models.Sequential()\n",
        "\n",
        "#base_mobilenet = MobileNet(weights='imagenet',include_top=False, input_shape=(128,128,3))\n",
        "model_mobilenet.add(base_mobilenet)\n",
        "\n",
        "#connecting covnet o/p to dense layer\n",
        "model_mobilenet.add(layers.Flatten())  # flatten output of covnet (3,3, 64) (h,w,channels) to 3*3*64\n",
        "model_mobilenet.add(layers.Dropout(0.4))\n",
        "model_mobilenet.add(layers.Dense(1024,activation='relu'))\n",
        "model_mobilenet.add(layers.Dropout(0.3))\n",
        "model_mobilenet.add(layers.Dense(128,activation='relu'))\n",
        "model_mobilenet.add(layers.Dropout(0.2))\n",
        "model_mobilenet.add(layers.Dense(64,activation='relu'))\n",
        "model_mobilenet.add(layers.Dense(7,activation='sigmoid'))\n",
        "\n",
        "model_mobilenet.summary()\n"
      ],
      "execution_count": 14,
      "outputs": [
        {
          "output_type": "stream",
          "text": [
            "Model: \"sequential_1\"\n",
            "_________________________________________________________________\n",
            "Layer (type)                 Output Shape              Param #   \n",
            "=================================================================\n",
            "mobilenet_1.00_128 (Model)   (None, 4, 4, 1024)        3228864   \n",
            "_________________________________________________________________\n",
            "flatten_1 (Flatten)          (None, 16384)             0         \n",
            "_________________________________________________________________\n",
            "dropout_1 (Dropout)          (None, 16384)             0         \n",
            "_________________________________________________________________\n",
            "dense_1 (Dense)              (None, 1024)              16778240  \n",
            "_________________________________________________________________\n",
            "dropout_2 (Dropout)          (None, 1024)              0         \n",
            "_________________________________________________________________\n",
            "dense_2 (Dense)              (None, 128)               131200    \n",
            "_________________________________________________________________\n",
            "dropout_3 (Dropout)          (None, 128)               0         \n",
            "_________________________________________________________________\n",
            "dense_3 (Dense)              (None, 64)                8256      \n",
            "_________________________________________________________________\n",
            "dense_4 (Dense)              (None, 7)                 455       \n",
            "=================================================================\n",
            "Total params: 20,147,015\n",
            "Trainable params: 20,125,127\n",
            "Non-trainable params: 21,888\n",
            "_________________________________________________________________\n"
          ],
          "name": "stdout"
        }
      ]
    },
    {
      "cell_type": "code",
      "metadata": {
        "id": "LkuoJ2I335LW",
        "colab_type": "code",
        "outputId": "661be816-0cf6-451e-a4d8-03dd320d87a2",
        "colab": {
          "base_uri": "https://localhost:8080/",
          "height": 69
        }
      },
      "source": [
        "print('Total weights : ',len(model_mobilenet.weights))\n",
        "print('Trainable weights : ',len(model_mobilenet.trainable_weights))\n",
        "print('Non Trainable weights : ',len(model_mobilenet.non_trainable_weights))"
      ],
      "execution_count": 0,
      "outputs": [
        {
          "output_type": "stream",
          "text": [
            "Total weights :  143\n",
            "Trainable weights :  89\n",
            "Non Trainable weights :  54\n"
          ],
          "name": "stdout"
        }
      ]
    },
    {
      "cell_type": "code",
      "metadata": {
        "id": "Hx_Sekg8bvdY",
        "colab_type": "code",
        "colab": {
          "base_uri": "https://localhost:8080/",
          "height": 1000
        },
        "outputId": "ed6d51e6-545a-463d-c80e-cd130b308ebf"
      },
      "source": [
        "#compiling \n",
        "model_mobilenet.compile(optimizer= optimizers.RMSprop(lr=1e-4) ,loss='categorical_crossentropy',metrics=['acc'])\n",
        "\n",
        "history=model_mobilenet.fit_generator(train_generator,steps_per_epoch=(train_size/batch_size),epochs=40,validation_data=val_generator,validation_steps=(val_size/batch_size))\n",
        "model_mobilenet.save('CNN_MobileNet_May5_DA.h5')"
      ],
      "execution_count": 15,
      "outputs": [
        {
          "output_type": "stream",
          "text": [
            "Epoch 1/40\n",
            "254/253 [==============================] - 345s 1s/step - loss: 0.9547 - acc: 0.6702 - val_loss: 3.2532 - val_acc: 0.6697\n",
            "Epoch 2/40\n",
            "254/253 [==============================] - 127s 501ms/step - loss: 0.7818 - acc: 0.6767 - val_loss: 1.2304 - val_acc: 0.6707\n",
            "Epoch 3/40\n",
            "254/253 [==============================] - 127s 500ms/step - loss: 0.7110 - acc: 0.6875 - val_loss: 0.6937 - val_acc: 0.6796\n",
            "Epoch 4/40\n",
            "254/253 [==============================] - 127s 500ms/step - loss: 0.6532 - acc: 0.7475 - val_loss: 1.2438 - val_acc: 0.7385\n",
            "Epoch 5/40\n",
            "254/253 [==============================] - 128s 505ms/step - loss: 0.5970 - acc: 0.7851 - val_loss: 0.8280 - val_acc: 0.7565\n",
            "Epoch 6/40\n",
            "254/253 [==============================] - 127s 499ms/step - loss: 0.5555 - acc: 0.8073 - val_loss: 1.0964 - val_acc: 0.7625\n",
            "Epoch 7/40\n",
            "254/253 [==============================] - 127s 502ms/step - loss: 0.5051 - acc: 0.8211 - val_loss: 1.7806 - val_acc: 0.7844\n",
            "Epoch 8/40\n",
            "254/253 [==============================] - 126s 497ms/step - loss: 0.4750 - acc: 0.8332 - val_loss: 1.0333 - val_acc: 0.7934\n",
            "Epoch 9/40\n",
            "254/253 [==============================] - 127s 500ms/step - loss: 0.4401 - acc: 0.8433 - val_loss: 2.1815 - val_acc: 0.8114\n",
            "Epoch 10/40\n",
            "254/253 [==============================] - 128s 503ms/step - loss: 0.4287 - acc: 0.8558 - val_loss: 1.2860 - val_acc: 0.8174\n",
            "Epoch 11/40\n",
            "254/253 [==============================] - 127s 500ms/step - loss: 0.3945 - acc: 0.8648 - val_loss: 0.2389 - val_acc: 0.8124\n",
            "Epoch 12/40\n",
            "254/253 [==============================] - 128s 503ms/step - loss: 0.3698 - acc: 0.8651 - val_loss: 2.5329 - val_acc: 0.8204\n",
            "Epoch 13/40\n",
            "254/253 [==============================] - 127s 500ms/step - loss: 0.3596 - acc: 0.8768 - val_loss: 0.3156 - val_acc: 0.8263\n",
            "Epoch 14/40\n",
            "254/253 [==============================] - 128s 502ms/step - loss: 0.3373 - acc: 0.8850 - val_loss: 0.8745 - val_acc: 0.8114\n",
            "Epoch 15/40\n",
            "254/253 [==============================] - 128s 502ms/step - loss: 0.3275 - acc: 0.8847 - val_loss: 0.4279 - val_acc: 0.8244\n",
            "Epoch 16/40\n",
            "254/253 [==============================] - 127s 500ms/step - loss: 0.3180 - acc: 0.8952 - val_loss: 0.3844 - val_acc: 0.8353\n",
            "Epoch 17/40\n",
            "254/253 [==============================] - 127s 502ms/step - loss: 0.2971 - acc: 0.9033 - val_loss: 0.9839 - val_acc: 0.8144\n",
            "Epoch 18/40\n",
            "254/253 [==============================] - 127s 501ms/step - loss: 0.2787 - acc: 0.9077 - val_loss: 0.4722 - val_acc: 0.8134\n",
            "Epoch 19/40\n",
            "254/253 [==============================] - 128s 505ms/step - loss: 0.2756 - acc: 0.9107 - val_loss: 0.4887 - val_acc: 0.8054\n",
            "Epoch 20/40\n",
            "254/253 [==============================] - 127s 501ms/step - loss: 0.2711 - acc: 0.9133 - val_loss: 0.3407 - val_acc: 0.8383\n",
            "Epoch 21/40\n",
            "254/253 [==============================] - 127s 500ms/step - loss: 0.2602 - acc: 0.9201 - val_loss: 1.6428 - val_acc: 0.8393\n",
            "Epoch 22/40\n",
            "254/253 [==============================] - 128s 502ms/step - loss: 0.2431 - acc: 0.9242 - val_loss: 1.8877 - val_acc: 0.8403\n",
            "Epoch 23/40\n",
            "254/253 [==============================] - 127s 499ms/step - loss: 0.2252 - acc: 0.9223 - val_loss: 0.0994 - val_acc: 0.8313\n",
            "Epoch 24/40\n",
            "254/253 [==============================] - 128s 503ms/step - loss: 0.2305 - acc: 0.9284 - val_loss: 0.0416 - val_acc: 0.8244\n",
            "Epoch 25/40\n",
            "254/253 [==============================] - 127s 500ms/step - loss: 0.2362 - acc: 0.9248 - val_loss: 0.9155 - val_acc: 0.7774\n",
            "Epoch 26/40\n",
            "254/253 [==============================] - 127s 500ms/step - loss: 0.2114 - acc: 0.9319 - val_loss: 0.7070 - val_acc: 0.7745\n",
            "Epoch 27/40\n",
            "254/253 [==============================] - 128s 503ms/step - loss: 0.2086 - acc: 0.9365 - val_loss: 0.0437 - val_acc: 0.7914\n",
            "Epoch 28/40\n",
            "254/253 [==============================] - 127s 501ms/step - loss: 0.1971 - acc: 0.9372 - val_loss: 0.0960 - val_acc: 0.8273\n",
            "Epoch 29/40\n",
            "254/253 [==============================] - 128s 503ms/step - loss: 0.1925 - acc: 0.9386 - val_loss: 1.8728 - val_acc: 0.8313\n",
            "Epoch 30/40\n",
            "254/253 [==============================] - 127s 501ms/step - loss: 0.2132 - acc: 0.9390 - val_loss: 2.3847 - val_acc: 0.8094\n",
            "Epoch 31/40\n",
            "254/253 [==============================] - 128s 502ms/step - loss: 0.1791 - acc: 0.9443 - val_loss: 1.6310 - val_acc: 0.8423\n",
            "Epoch 32/40\n",
            "254/253 [==============================] - 128s 502ms/step - loss: 0.1890 - acc: 0.9464 - val_loss: 0.2666 - val_acc: 0.8124\n",
            "Epoch 33/40\n",
            "254/253 [==============================] - 128s 503ms/step - loss: 0.1647 - acc: 0.9470 - val_loss: 0.2227 - val_acc: 0.8293\n",
            "Epoch 34/40\n",
            "254/253 [==============================] - 128s 504ms/step - loss: 0.1699 - acc: 0.9488 - val_loss: 0.7351 - val_acc: 0.8353\n",
            "Epoch 35/40\n",
            "254/253 [==============================] - 128s 503ms/step - loss: 0.1707 - acc: 0.9492 - val_loss: 1.1610 - val_acc: 0.8244\n",
            "Epoch 36/40\n",
            "254/253 [==============================] - 128s 505ms/step - loss: 0.1715 - acc: 0.9507 - val_loss: 1.6132 - val_acc: 0.8074\n",
            "Epoch 37/40\n",
            "254/253 [==============================] - 128s 505ms/step - loss: 0.1490 - acc: 0.9570 - val_loss: 0.0595 - val_acc: 0.8174\n",
            "Epoch 38/40\n",
            "254/253 [==============================] - 128s 503ms/step - loss: 0.1531 - acc: 0.9572 - val_loss: 3.7018 - val_acc: 0.8323\n",
            "Epoch 39/40\n",
            "254/253 [==============================] - 129s 506ms/step - loss: 0.1452 - acc: 0.9583 - val_loss: 0.6558 - val_acc: 0.8343\n",
            "Epoch 40/40\n",
            "254/253 [==============================] - 129s 507ms/step - loss: 0.1471 - acc: 0.9614 - val_loss: 1.7278 - val_acc: 0.8383\n"
          ],
          "name": "stdout"
        }
      ]
    },
    {
      "cell_type": "code",
      "metadata": {
        "id": "0uanebjLUz8k",
        "colab_type": "code",
        "outputId": "db3cf57c-eb11-4980-a041-9f0e58b7d8a1",
        "colab": {
          "base_uri": "https://localhost:8080/",
          "height": 35
        }
      },
      "source": [
        "# test accuracy\n",
        "test_loss, test_acc = model_mobilenet.evaluate_generator(test_generator, steps=50)    # change model name\n",
        "print('Test Loss : ',test_loss,' Test Acc : ',test_acc)                               # test loss = 0.66, test_acc = 0.76"
      ],
      "execution_count": 21,
      "outputs": [
        {
          "output_type": "stream",
          "text": [
            "Test Loss :  2.1438980102539062  Test Acc :  0.8329097628593445\n"
          ],
          "name": "stdout"
        }
      ]
    },
    {
      "cell_type": "code",
      "metadata": {
        "id": "TsRD6mDk0wt2",
        "colab_type": "code",
        "colab": {
          "base_uri": "https://localhost:8080/",
          "height": 35
        },
        "outputId": "46fab15f-4049-49a1-906c-76544030b804"
      },
      "source": [
        "# test accuracy\n",
        "test_loss_2, test_acc_2 = model_mobilenet.evaluate_generator(test_generator, steps=(test_size/batch_size))    # change model name\n",
        "print('Test Loss : ',test_loss_2,' Test Acc : ',test_acc_2)                                                    # test loss = 0.66, test_acc = 0.76"
      ],
      "execution_count": 22,
      "outputs": [
        {
          "output_type": "stream",
          "text": [
            "Test Loss :  0.3546014726161957  Test Acc :  0.8292682766914368\n"
          ],
          "name": "stdout"
        }
      ]
    },
    {
      "cell_type": "code",
      "metadata": {
        "id": "acaSL0ULU4Cs",
        "colab_type": "code",
        "outputId": "9f8a0940-6b13-45cc-9e02-1267232a1d29",
        "colab": {
          "base_uri": "https://localhost:8080/",
          "height": 324
        }
      },
      "source": [
        "pd.DataFrame(history.history).plot(figsize=(8,5))\n",
        "plt.grid(True)\n",
        "plt.gca().set_ylim(0,1)\n",
        "plt.show()"
      ],
      "execution_count": 18,
      "outputs": [
        {
          "output_type": "display_data",
          "data": {
            "image/png": "[encoded data removed]",
            "text/plain": [
              "<Figure size 576x360 with 1 Axes>"
            ]
          },
          "metadata": {
            "tags": [],
            "needs_background": "light"
          }
        }
      ]
    },
    {
      "cell_type": "code",
      "metadata": {
        "id": "6DKjxaSx1M_T",
        "colab_type": "code",
        "colab": {
          "base_uri": "https://localhost:8080/",
          "height": 35
        },
        "outputId": "828fbce3-cb8a-4894-8f84-1e94ac78754c"
      },
      "source": [
        "# setting up a test generator for prediction\n",
        "pred_datagen = ImageDataGenerator(rescale=1./255)\n",
        "pred_generator = pred_datagen.flow_from_directory(test_dir, target_size=(128,128), batch_size=20 ,class_mode=None, shuffle=False)"
      ],
      "execution_count": 44,
      "outputs": [
        {
          "output_type": "stream",
          "text": [
            "Found 902 images belonging to 7 classes.\n"
          ],
          "name": "stdout"
        }
      ]
    },
    {
      "cell_type": "code",
      "metadata": {
        "id": "OUvo59SZRiHy",
        "colab_type": "code",
        "outputId": "795c87ba-bd47-47ae-d69d-562a32dffb07",
        "colab": {
          "base_uri": "https://localhost:8080/",
          "height": 35
        }
      },
      "source": [
        "# predict\n",
        "pred=model_mobilenet.predict_generator(pred_generator, steps=902/20)"
      ],
      "execution_count": 24,
      "outputs": [
        {
          "output_type": "stream",
          "text": [
            "46/45 [==============================] - 17s 360ms/step\n"
          ],
          "name": "stdout"
        }
      ]
    },
    {
      "cell_type": "code",
      "metadata": {
        "id": "j8mVSebc3bJ5",
        "colab_type": "code",
        "colab": {
          "base_uri": "https://localhost:8080/",
          "height": 263
        },
        "outputId": "cba42838-4264-4e4c-a977-cf1c047a632c"
      },
      "source": [
        "# predict\n",
        "pred=model_mobilenet.predict_generator(pred_generator, steps=902/20)\n",
        "true_val = pred_generator.classes\n",
        "#len(true_val)\n",
        "predicted = list(map(np.argmax,pred))\n",
        "\n",
        "\n",
        "# conf mat\n",
        "cnf_mat_2 = confusion_matrix(true_val,predicted)\n",
        "row_sums_2 = cnf_mat_2.sum(axis=1, keepdims=True)\n",
        "cnf_p_2 = cnf_mat_2/row_sums_2\n",
        "\n",
        "# view confusion matrix in class accuracy %\n",
        "class_acc_2 = np.diag(cnf_p_2)\n",
        "#class_acc_1\n",
        "class_acc_df_2 = pd.DataFrame({ 'Class':df_dx['val'].values, 'Acc':class_acc_2 })\n",
        "\n",
        "#cnf_df = pd.DataFrame(data=cnf_mat,columns=df_dx['val'].values , index=df_dx['val'].values )\n",
        "cnf_df_2 = pd.DataFrame(data=cnf_mat_2,columns=df_dx['val'].values , index=df_dx['val'].values )\n",
        "cnf_df_2"
      ],
      "execution_count": 61,
      "outputs": [
        {
          "output_type": "execute_result",
          "data": {
            "text/html": [
              "<div>\n",
              "<style scoped>\n",
              "    .dataframe tbody tr th:only-of-type {\n",
              "        vertical-align: middle;\n",
              "    }\n",
              "\n",
              "    .dataframe tbody tr th {\n",
              "        vertical-align: top;\n",
              "    }\n",
              "\n",
              "    .dataframe thead th {\n",
              "        text-align: right;\n",
              "    }\n",
              "</style>\n",
              "<table border=\"1\" class=\"dataframe\">\n",
              "  <thead>\n",
              "    <tr style=\"text-align: right;\">\n",
              "      <th></th>\n",
              "      <th>akiec</th>\n",
              "      <th>bcc</th>\n",
              "      <th>bkl</th>\n",
              "      <th>df</th>\n",
              "      <th>nv</th>\n",
              "      <th>vasc</th>\n",
              "      <th>mel</th>\n",
              "    </tr>\n",
              "  </thead>\n",
              "  <tbody>\n",
              "    <tr>\n",
              "      <th>akiec</th>\n",
              "      <td>4</td>\n",
              "      <td>4</td>\n",
              "      <td>7</td>\n",
              "      <td>3</td>\n",
              "      <td>11</td>\n",
              "      <td>1</td>\n",
              "      <td>0</td>\n",
              "    </tr>\n",
              "    <tr>\n",
              "      <th>bcc</th>\n",
              "      <td>3</td>\n",
              "      <td>27</td>\n",
              "      <td>7</td>\n",
              "      <td>2</td>\n",
              "      <td>4</td>\n",
              "      <td>3</td>\n",
              "      <td>0</td>\n",
              "    </tr>\n",
              "    <tr>\n",
              "      <th>bkl</th>\n",
              "      <td>0</td>\n",
              "      <td>0</td>\n",
              "      <td>63</td>\n",
              "      <td>4</td>\n",
              "      <td>7</td>\n",
              "      <td>25</td>\n",
              "      <td>0</td>\n",
              "    </tr>\n",
              "    <tr>\n",
              "      <th>df</th>\n",
              "      <td>0</td>\n",
              "      <td>0</td>\n",
              "      <td>2</td>\n",
              "      <td>8</td>\n",
              "      <td>0</td>\n",
              "      <td>0</td>\n",
              "      <td>0</td>\n",
              "    </tr>\n",
              "    <tr>\n",
              "      <th>nv</th>\n",
              "      <td>0</td>\n",
              "      <td>1</td>\n",
              "      <td>9</td>\n",
              "      <td>0</td>\n",
              "      <td>63</td>\n",
              "      <td>27</td>\n",
              "      <td>0</td>\n",
              "    </tr>\n",
              "    <tr>\n",
              "      <th>vasc</th>\n",
              "      <td>0</td>\n",
              "      <td>1</td>\n",
              "      <td>12</td>\n",
              "      <td>1</td>\n",
              "      <td>14</td>\n",
              "      <td>576</td>\n",
              "      <td>0</td>\n",
              "    </tr>\n",
              "    <tr>\n",
              "      <th>mel</th>\n",
              "      <td>0</td>\n",
              "      <td>0</td>\n",
              "      <td>0</td>\n",
              "      <td>0</td>\n",
              "      <td>3</td>\n",
              "      <td>3</td>\n",
              "      <td>7</td>\n",
              "    </tr>\n",
              "  </tbody>\n",
              "</table>\n",
              "</div>"
            ],
            "text/plain": [
              "       akiec  bcc  bkl  df  nv  vasc  mel\n",
              "akiec      4    4    7   3  11     1    0\n",
              "bcc        3   27    7   2   4     3    0\n",
              "bkl        0    0   63   4   7    25    0\n",
              "df         0    0    2   8   0     0    0\n",
              "nv         0    1    9   0  63    27    0\n",
              "vasc       0    1   12   1  14   576    0\n",
              "mel        0    0    0   0   3     3    7"
            ]
          },
          "metadata": {
            "tags": []
          },
          "execution_count": 61
        }
      ]
    },
    {
      "cell_type": "code",
      "metadata": {
        "id": "0nkaGKQu6iaT",
        "colab_type": "code",
        "colab": {
          "base_uri": "https://localhost:8080/",
          "height": 263
        },
        "outputId": "bbdfd0ff-842b-403f-80e7-ac03b27cdf63"
      },
      "source": [
        "class_acc_df_2"
      ],
      "execution_count": 62,
      "outputs": [
        {
          "output_type": "execute_result",
          "data": {
            "text/html": [
              "<div>\n",
              "<style scoped>\n",
              "    .dataframe tbody tr th:only-of-type {\n",
              "        vertical-align: middle;\n",
              "    }\n",
              "\n",
              "    .dataframe tbody tr th {\n",
              "        vertical-align: top;\n",
              "    }\n",
              "\n",
              "    .dataframe thead th {\n",
              "        text-align: right;\n",
              "    }\n",
              "</style>\n",
              "<table border=\"1\" class=\"dataframe\">\n",
              "  <thead>\n",
              "    <tr style=\"text-align: right;\">\n",
              "      <th></th>\n",
              "      <th>Class</th>\n",
              "      <th>Acc</th>\n",
              "    </tr>\n",
              "  </thead>\n",
              "  <tbody>\n",
              "    <tr>\n",
              "      <th>0</th>\n",
              "      <td>akiec</td>\n",
              "      <td>0.133333</td>\n",
              "    </tr>\n",
              "    <tr>\n",
              "      <th>1</th>\n",
              "      <td>bcc</td>\n",
              "      <td>0.586957</td>\n",
              "    </tr>\n",
              "    <tr>\n",
              "      <th>2</th>\n",
              "      <td>bkl</td>\n",
              "      <td>0.636364</td>\n",
              "    </tr>\n",
              "    <tr>\n",
              "      <th>3</th>\n",
              "      <td>df</td>\n",
              "      <td>0.800000</td>\n",
              "    </tr>\n",
              "    <tr>\n",
              "      <th>4</th>\n",
              "      <td>nv</td>\n",
              "      <td>0.630000</td>\n",
              "    </tr>\n",
              "    <tr>\n",
              "      <th>5</th>\n",
              "      <td>vasc</td>\n",
              "      <td>0.953642</td>\n",
              "    </tr>\n",
              "    <tr>\n",
              "      <th>6</th>\n",
              "      <td>mel</td>\n",
              "      <td>0.538462</td>\n",
              "    </tr>\n",
              "  </tbody>\n",
              "</table>\n",
              "</div>"
            ],
            "text/plain": [
              "   Class       Acc\n",
              "0  akiec  0.133333\n",
              "1    bcc  0.586957\n",
              "2    bkl  0.636364\n",
              "3     df  0.800000\n",
              "4     nv  0.630000\n",
              "5   vasc  0.953642\n",
              "6    mel  0.538462"
            ]
          },
          "metadata": {
            "tags": []
          },
          "execution_count": 62
        }
      ]
    },
    {
      "cell_type": "code",
      "metadata": {
        "id": "XEsg8c4t8STj",
        "colab_type": "code",
        "colab": {
          "base_uri": "https://localhost:8080/",
          "height": 283
        },
        "outputId": "4f218ee5-7f95-4276-e335-98da4cfe8e8a"
      },
      "source": [
        "plt.imshow(cnf_p_2,cmap=plt.cm.gray)"
      ],
      "execution_count": 63,
      "outputs": [
        {
          "output_type": "execute_result",
          "data": {
            "text/plain": [
              "<matplotlib.image.AxesImage at 0x7f605db46ba8>"
            ]
          },
          "metadata": {
            "tags": []
          },
          "execution_count": 63
        },
        {
          "output_type": "display_data",
          "data": {
            "image/png": "[encoded data removed]",
            "text/plain": [
              "<Figure size 432x288 with 1 Axes>"
            ]
          },
          "metadata": {
            "tags": [],
            "needs_background": "light"
          }
        }
      ]
    },
    {
      "cell_type": "markdown",
      "metadata": {
        "id": "8BdIZj-qc8Oy",
        "colab_type": "text"
      },
      "source": [
        "**MobileNet - Balanced Images**"
      ]
    },
    {
      "cell_type": "code",
      "metadata": {
        "id": "KTwo8HpEEuUW",
        "colab_type": "code",
        "colab": {
          "base_uri": "https://localhost:8080/",
          "height": 52
        },
        "outputId": "04af618e-a80b-4427-91d3-5b344e6d13b3"
      },
      "source": [
        "# Setting up Image generator to Balanced class folder\n",
        "\n",
        "train_dir='/content/gdrive/My Drive/Deep Learning Project/Skin Cancer Detection/dataset/RR_Balanced_Data'\n",
        "val_dir='/content/gdrive/My Drive/Deep Learning Project/Skin Cancer Detection/dataset/RR_Train_Test_Val_Data_Augmentation/test'\n",
        "test_dir = '/content/gdrive/My Drive/Deep Learning Project/Skin Cancer Detection/dataset/RR_Train_Test_Val_Data_Augmentation/val'\n",
        "\n",
        "train_datagen = ImageDataGenerator(rescale=1./255, rotation_range=40, horizontal_flip=True,fill_mode='nearest')\n",
        "val_datagen = ImageDataGenerator(rescale=1./255)\n",
        "\n",
        "train_generator = train_datagen.flow_from_directory(train_dir, target_size=(150,150), batch_size=32, class_mode='categorical',shuffle=True)\n",
        "\n",
        "val_generator = val_datagen.flow_from_directory(val_dir, target_size=(150,150), batch_size=32, class_mode='categorical', shuffle=True)\n",
        "\n"
      ],
      "execution_count": 5,
      "outputs": [
        {
          "output_type": "stream",
          "text": [
            "Found 38853 images belonging to 7 classes.\n",
            "Found 1002 images belonging to 7 classes.\n"
          ],
          "name": "stdout"
        }
      ]
    },
    {
      "cell_type": "code",
      "metadata": {
        "id": "YW4VgIHaFMAW",
        "colab_type": "code",
        "colab": {}
      },
      "source": [
        "train_size=38853  \n",
        "val_size = 1002 \n",
        "test_size = 902\n",
        "\n",
        "batch_size=128"
      ],
      "execution_count": 0,
      "outputs": []
    },
    {
      "cell_type": "code",
      "metadata": {
        "id": "1istfZKyB95x",
        "colab_type": "code",
        "colab": {
          "base_uri": "https://localhost:8080/",
          "height": 557
        },
        "outputId": "4ed48513-e619-4ab8-c65e-566676326f59"
      },
      "source": [
        "from tensorflow import  keras\n",
        "#tf.compat.v1.disable_eager_execution()\n",
        "from keras.applications import MobileNet\n",
        "from keras import layers, regularizers, optimizers\n",
        "from keras import models\n",
        "\n",
        "base_mobilenet = MobileNet(weights='imagenet',include_top=False, input_shape=(150,150,3))\n",
        "#base_mobilenet = MobileNet(weights='imagenet', input_shape=(128,128,3))\n",
        "#base_mobilenet.summary()\n",
        "\n",
        "model_mobilenet=models.Sequential()\n",
        "\n",
        "#base_mobilenet = MobileNet(weights='imagenet',include_top=False, input_shape=(128,128,3))\n",
        "model_mobilenet.add(base_mobilenet)\n",
        "\n",
        "#connecting covnet o/p to dense layer\n",
        "model_mobilenet.add(layers.Flatten())  # flatten output of covnet (3,3, 64) (h,w,channels) to 3*3*64\n",
        "model_mobilenet.add(layers.Dropout(0.4))\n",
        "model_mobilenet.add(layers.Dense(1024,activation='relu'))\n",
        "model_mobilenet.add(layers.Dropout(0.3))\n",
        "model_mobilenet.add(layers.Dense(128,activation='relu'))\n",
        "model_mobilenet.add(layers.Dropout(0.2))\n",
        "model_mobilenet.add(layers.Dense(64,activation='relu'))\n",
        "model_mobilenet.add(layers.Dense(7,activation='sigmoid'))\n",
        "\n",
        "model_mobilenet.summary()\n"
      ],
      "execution_count": 7,
      "outputs": [
        {
          "output_type": "stream",
          "text": [
            "/usr/local/lib/python3.6/dist-packages/keras_applications/mobilenet.py:207: UserWarning: `input_shape` is undefined or non-square, or `rows` is not in [128, 160, 192, 224]. Weights for input shape (224, 224) will be loaded as the default.\n",
            "  warnings.warn('`input_shape` is undefined or non-square, '\n"
          ],
          "name": "stderr"
        },
        {
          "output_type": "stream",
          "text": [
            "Downloading data from https://github.com/fchollet/deep-learning-models/releases/download/v0.6/mobilenet_1_0_224_tf_no_top.h5\n",
            "17227776/17225924 [==============================] - 1s 0us/step\n",
            "Model: \"sequential_1\"\n",
            "_________________________________________________________________\n",
            "Layer (type)                 Output Shape              Param #   \n",
            "=================================================================\n",
            "mobilenet_1.00_224 (Model)   (None, 4, 4, 1024)        3228864   \n",
            "_________________________________________________________________\n",
            "flatten_1 (Flatten)          (None, 16384)             0         \n",
            "_________________________________________________________________\n",
            "dropout_1 (Dropout)          (None, 16384)             0         \n",
            "_________________________________________________________________\n",
            "dense_1 (Dense)              (None, 1024)              16778240  \n",
            "_________________________________________________________________\n",
            "dropout_2 (Dropout)          (None, 1024)              0         \n",
            "_________________________________________________________________\n",
            "dense_2 (Dense)              (None, 128)               131200    \n",
            "_________________________________________________________________\n",
            "dropout_3 (Dropout)          (None, 128)               0         \n",
            "_________________________________________________________________\n",
            "dense_3 (Dense)              (None, 64)                8256      \n",
            "_________________________________________________________________\n",
            "dense_4 (Dense)              (None, 7)                 455       \n",
            "=================================================================\n",
            "Total params: 20,147,015\n",
            "Trainable params: 20,125,127\n",
            "Non-trainable params: 21,888\n",
            "_________________________________________________________________\n"
          ],
          "name": "stdout"
        }
      ]
    },
    {
      "cell_type": "code",
      "metadata": {
        "id": "cZ0aBOchFU3y",
        "colab_type": "code",
        "colab": {
          "base_uri": "https://localhost:8080/",
          "height": 69
        },
        "outputId": "a045a3ce-520f-4d99-f148-b26a0efe99c6"
      },
      "source": [
        "print('Total weights : ',len(model_mobilenet.weights))\n",
        "print('Trainable weights : ',len(model_mobilenet.trainable_weights))\n",
        "print('Non Trainable weights : ',len(model_mobilenet.non_trainable_weights))"
      ],
      "execution_count": 8,
      "outputs": [
        {
          "output_type": "stream",
          "text": [
            "Total weights :  143\n",
            "Trainable weights :  89\n",
            "Non Trainable weights :  54\n"
          ],
          "name": "stdout"
        }
      ]
    },
    {
      "cell_type": "code",
      "metadata": {
        "id": "YiGttx2WFf5Q",
        "colab_type": "code",
        "colab": {
          "base_uri": "https://localhost:8080/",
          "height": 884
        },
        "outputId": "c5fbba93-966b-431e-9703-dcdf4e574086"
      },
      "source": [
        "#compiling \n",
        "model_mobilenet.compile(optimizer= optimizers.RMSprop(lr=1e-4) ,loss='categorical_crossentropy',metrics=['acc'])\n",
        "\n",
        "history=model_mobilenet.fit_generator(train_generator,steps_per_epoch=250,epochs=25,validation_data=val_generator,validation_steps=(val_size/32))\n",
        "model_mobilenet.save('CNN_MobileNet_May5_DA_Balanced.h5')"
      ],
      "execution_count": 10,
      "outputs": [
        {
          "output_type": "stream",
          "text": [
            "Epoch 1/25\n",
            "250/250 [==============================] - 2523s 10s/step - loss: 1.5976 - acc: 0.3550 - val_loss: 0.9154 - val_acc: 0.6916\n",
            "Epoch 2/25\n",
            "250/250 [==============================] - 2177s 9s/step - loss: 1.0557 - acc: 0.6326 - val_loss: 1.2891 - val_acc: 0.6916\n",
            "Epoch 3/25\n",
            "250/250 [==============================] - 2286s 9s/step - loss: 0.8505 - acc: 0.7109 - val_loss: 0.9227 - val_acc: 0.6966\n",
            "Epoch 4/25\n",
            "250/250 [==============================] - 2268s 9s/step - loss: 0.7255 - acc: 0.7494 - val_loss: 0.5412 - val_acc: 0.7066\n",
            "Epoch 5/25\n",
            "250/250 [==============================] - 1940s 8s/step - loss: 0.6631 - acc: 0.7794 - val_loss: 3.5215 - val_acc: 0.7066\n",
            "Epoch 6/25\n",
            "250/250 [==============================] - 96s 383ms/step - loss: 0.5578 - acc: 0.8084 - val_loss: 1.6118 - val_acc: 0.6976\n",
            "Epoch 7/25\n",
            "250/250 [==============================] - 95s 379ms/step - loss: 0.5269 - acc: 0.8229 - val_loss: 5.4630 - val_acc: 0.7026\n",
            "Epoch 8/25\n",
            "250/250 [==============================] - 95s 381ms/step - loss: 0.4924 - acc: 0.8391 - val_loss: 3.8783 - val_acc: 0.7066\n",
            "Epoch 9/25\n",
            "250/250 [==============================] - 95s 380ms/step - loss: 0.4747 - acc: 0.8503 - val_loss: 4.4600 - val_acc: 0.6956\n",
            "Epoch 10/25\n",
            "250/250 [==============================] - 95s 381ms/step - loss: 0.4413 - acc: 0.8593 - val_loss: 4.0994 - val_acc: 0.6846\n",
            "Epoch 11/25\n",
            "250/250 [==============================] - 94s 378ms/step - loss: 0.2252 - acc: 0.5676 - val_loss: 1.1921e-07 - val_acc: 0.0329\n",
            "Epoch 12/25\n",
            "250/250 [==============================] - 95s 379ms/step - loss: 1.1921e-07 - acc: 0.1480 - val_loss: 1.1921e-07 - val_acc: 0.0329\n",
            "Epoch 13/25\n",
            "250/250 [==============================] - 95s 381ms/step - loss: 1.1921e-07 - acc: 0.1420 - val_loss: 1.1921e-07 - val_acc: 0.0329\n",
            "Epoch 14/25\n",
            "250/250 [==============================] - 94s 377ms/step - loss: 1.1921e-07 - acc: 0.1440 - val_loss: 1.1921e-07 - val_acc: 0.0329\n",
            "Epoch 15/25\n",
            "250/250 [==============================] - 95s 380ms/step - loss: 1.1921e-07 - acc: 0.1412 - val_loss: 1.1921e-07 - val_acc: 0.0329\n",
            "Epoch 16/25\n",
            "250/250 [==============================] - 95s 379ms/step - loss: 1.1921e-07 - acc: 0.1400 - val_loss: 1.1921e-07 - val_acc: 0.0329\n",
            "Epoch 17/25\n",
            "250/250 [==============================] - 95s 378ms/step - loss: 1.1921e-07 - acc: 0.1421 - val_loss: 1.1921e-07 - val_acc: 0.0329\n",
            "Epoch 18/25\n",
            "250/250 [==============================] - 94s 378ms/step - loss: 1.1921e-07 - acc: 0.1452 - val_loss: 1.1921e-07 - val_acc: 0.0329\n",
            "Epoch 19/25\n",
            "250/250 [==============================] - 95s 380ms/step - loss: 1.1921e-07 - acc: 0.1489 - val_loss: 1.1921e-07 - val_acc: 0.0329\n",
            "Epoch 20/25\n",
            "250/250 [==============================] - 95s 379ms/step - loss: 1.1921e-07 - acc: 0.1396 - val_loss: 1.1921e-07 - val_acc: 0.0329\n",
            "Epoch 21/25\n",
            "250/250 [==============================] - 94s 378ms/step - loss: 1.1921e-07 - acc: 0.1429 - val_loss: 1.1921e-07 - val_acc: 0.0329\n",
            "Epoch 22/25\n",
            "250/250 [==============================] - 94s 376ms/step - loss: 1.1921e-07 - acc: 0.1430 - val_loss: 1.1921e-07 - val_acc: 0.0329\n",
            "Epoch 23/25\n",
            "250/250 [==============================] - 93s 373ms/step - loss: 1.1921e-07 - acc: 0.1460 - val_loss: 1.1921e-07 - val_acc: 0.0329\n",
            "Epoch 24/25\n",
            "250/250 [==============================] - 94s 374ms/step - loss: 1.1921e-07 - acc: 0.1457 - val_loss: 1.1921e-07 - val_acc: 0.0329\n",
            "Epoch 25/25\n",
            "250/250 [==============================] - 94s 378ms/step - loss: 1.1921e-07 - acc: 0.1406 - val_loss: 1.1921e-07 - val_acc: 0.0329\n"
          ],
          "name": "stdout"
        }
      ]
    },
    {
      "cell_type": "code",
      "metadata": {
        "id": "i6tZHeSn8ZQs",
        "colab_type": "code",
        "colab": {}
      },
      "source": [
        "pd.DataFrame(history.history).plot(figsize=(8,5))\n",
        "plt.grid(True)\n",
        "plt.gca().set_ylim(0,1)\n",
        "plt.show()"
      ],
      "execution_count": 0,
      "outputs": []
    },
    {
      "cell_type": "code",
      "metadata": {
        "id": "nntR92EF8igy",
        "colab_type": "code",
        "colab": {}
      },
      "source": [
        "# test accuracy\n",
        "test_loss, test_acc = model_mobilenet.evaluate_generator(test_generator, steps=50)    # change model name\n",
        "print('Test Loss : ',test_loss,' Test Acc : ',test_acc)                               # test loss = 0.66, test_acc = 0.76"
      ],
      "execution_count": 0,
      "outputs": []
    },
    {
      "cell_type": "code",
      "metadata": {
        "id": "REUsoIHwFvbg",
        "colab_type": "code",
        "colab": {
          "base_uri": "https://localhost:8080/",
          "height": 35
        },
        "outputId": "c877ec28-18c7-46cb-bf13-2d510935ee47"
      },
      "source": [
        "# setting up a test generator for prediction\n",
        "pred_datagen = ImageDataGenerator(rescale=1./255)\n",
        "pred_generator = pred_datagen.flow_from_directory(test_dir, target_size=(128,128), batch_size=20 ,class_mode=None, shuffle=False)"
      ],
      "execution_count": 11,
      "outputs": [
        {
          "output_type": "stream",
          "text": [
            "Found 902 images belonging to 7 classes.\n"
          ],
          "name": "stdout"
        }
      ]
    },
    {
      "cell_type": "code",
      "metadata": {
        "id": "r4tQEPmAFz0F",
        "colab_type": "code",
        "colab": {}
      },
      "source": [
        "# predict\n",
        "pred=model_mobilenet.predict_generator(pred_generator, steps=902/20)\n",
        "true_val = pred_generator.classes\n",
        "#len(true_val)\n",
        "predicted = list(map(np.argmax,pred))\n",
        "\n",
        "\n",
        "# conf mat\n",
        "cnf_mat_3 = confusion_matrix(true_val,predicted)\n",
        "row_sums_3 = cnf_mat_3.sum(axis=1, keepdims=True)\n",
        "cnf_p_3 = cnf_mat_3/row_sums_3\n",
        "\n",
        "# view confusion matrix in class accuracy %\n",
        "class_acc_3 = np.diag(cnf_p_3)\n",
        "#class_acc_1\n",
        "class_acc_df_3 = pd.DataFrame({ 'Class':df_dx['val'].values, 'Acc':class_acc_3 })\n",
        "\n",
        "#cnf_df = pd.DataFrame(data=cnf_mat,columns=df_dx['val'].values , index=df_dx['val'].values )\n",
        "cnf_df_3 = pd.DataFrame(data=cnf_mat_3,columns=df_dx['val'].values , index=df_dx['val'].values )\n",
        "cnf_df_3"
      ],
      "execution_count": 0,
      "outputs": []
    }
  ]
}