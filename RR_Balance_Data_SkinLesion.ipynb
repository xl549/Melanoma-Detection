{
  "nbformat": 4,
  "nbformat_minor": 0,
  "metadata": {
    "colab": {
      "name": "RR_Balance_Data_SkinLesion.ipynb",
      "provenance": [],
      "collapsed_sections": [],
      "machine_shape": "hm",
      "include_colab_link": true
    },
    "kernelspec": {
      "name": "python3",
      "display_name": "Python 3"
    },
    "accelerator": "GPU"
  },
  "cells": [
    {
      "cell_type": "markdown",
      "metadata": {
        "id": "view-in-github",
        "colab_type": "text"
      },
      "source": [
        "<a href=\"https://colab.research.google.com/github/RadhikaR88/Melanoma-Detection/blob/master/RR_Balance_Data_SkinLesion.ipynb\" target=\"_parent\"><img src=\"https://colab.research.google.com/assets/colab-badge.svg\" alt=\"Open In Colab\"/></a>"
      ]
    },
    {
      "cell_type": "markdown",
      "metadata": {
        "id": "V0-8OfF73Yg9",
        "colab_type": "text"
      },
      "source": [
        "**Balancing Classes of Skin Lesion Dataset - Generating images using Data Augmentation**\n",
        "\n",
        "Generated Images are stored at : /content/drive/My Drive/Deep Learning Project/Skin Cancer Detection/dataset/RR_Balanced_Data"
      ]
    },
    {
      "cell_type": "code",
      "metadata": {
        "id": "OxEk76oN-ogy",
        "colab_type": "code",
        "outputId": "420cd0dc-a3a6-4f16-fc0a-c538f0ab8b61",
        "colab": {
          "base_uri": "https://localhost:8080/",
          "height": 124
        }
      },
      "source": [
        "# mount drive\n",
        "\n",
        "from google.colab import drive\n",
        "drive.mount('/content/gdrive')\n",
        "\n",
        "#%cd '/content/gdrive/My Drive/Deep Learning Project/Skin Cancer Detection/dataset'"
      ],
      "execution_count": 0,
      "outputs": [
        {
          "output_type": "stream",
          "text": [
            "Go to this URL in a browser: https://accounts.google.com/o/oauth2/auth?client_id=947318989803-6bn6qk8qdgf4n4g3pfee6491hc0brc4i.apps.googleusercontent.com&redirect_uri=urn%3aietf%3awg%3aoauth%3a2.0%3aoob&response_type=code&scope=email%20https%3a%2f%2fwww.googleapis.com%2fauth%2fdocs.test%20https%3a%2f%2fwww.googleapis.com%2fauth%2fdrive%20https%3a%2f%2fwww.googleapis.com%2fauth%2fdrive.photos.readonly%20https%3a%2f%2fwww.googleapis.com%2fauth%2fpeopleapi.readonly\n",
            "\n",
            "Enter your authorization code:\n",
            "··········\n",
            "Mounted at /content/gdrive\n"
          ],
          "name": "stdout"
        }
      ]
    },
    {
      "cell_type": "code",
      "metadata": {
        "id": "Luosk6CvQ3pC",
        "colab_type": "code",
        "colab": {}
      },
      "source": [
        "# trick to increase RAM on google colab\n",
        "a=[]\n",
        "while(1):\n",
        "  a.append('1')"
      ],
      "execution_count": 0,
      "outputs": []
    },
    {
      "cell_type": "code",
      "metadata": {
        "id": "uCgh8Hi4-0E9",
        "colab_type": "code",
        "colab": {}
      },
      "source": [
        "import numpy as np\n",
        "import pandas as pd\n",
        "import os\n",
        "import matplotlib.pyplot as plt\n"
      ],
      "execution_count": 0,
      "outputs": []
    },
    {
      "cell_type": "code",
      "metadata": {
        "id": "Wd6AqYKjzu-O",
        "colab_type": "code",
        "outputId": "5e2aa9a9-a243-4cdf-e403-881ddee0c342",
        "colab": {
          "base_uri": "https://localhost:8080/",
          "height": 35
        }
      },
      "source": [
        "os.getcwd()"
      ],
      "execution_count": 0,
      "outputs": [
        {
          "output_type": "execute_result",
          "data": {
            "text/plain": [
              "'/content'"
            ]
          },
          "metadata": {
            "tags": []
          },
          "execution_count": 8
        }
      ]
    },
    {
      "cell_type": "code",
      "metadata": {
        "id": "C-_NGr_Nz0dA",
        "colab_type": "code",
        "outputId": "b5097273-36a5-47a9-a1c4-3d139ea5dffd",
        "colab": {
          "base_uri": "https://localhost:8080/",
          "height": 35
        }
      },
      "source": [
        "%cd '/content/gdrive/My Drive/Deep Learning Project/Skin Cancer Detection/dataset'"
      ],
      "execution_count": 0,
      "outputs": [
        {
          "output_type": "stream",
          "text": [
            "/content/gdrive/My Drive/Deep Learning Project/Skin Cancer Detection/dataset\n"
          ],
          "name": "stdout"
        }
      ]
    },
    {
      "cell_type": "markdown",
      "metadata": {
        "id": "m2YznmIa7ZvR",
        "colab_type": "text"
      },
      "source": [
        "Read 128 x 128 unscaled data and used Balanced Batch generator to compensate imbalanced train data"
      ]
    },
    {
      "cell_type": "code",
      "metadata": {
        "id": "DYTdhkkf7l-K",
        "colab_type": "code",
        "colab": {}
      },
      "source": [
        "# reading the numeric file\n",
        "np_p1 = np.load('/content/gdrive/My Drive/Deep Learning Project/Skin Cancer Detection/dataset/Rescaled_Data/Image_128_128_3_Unscaled/Image_128_128_part1.npy', allow_pickle=True)\n",
        "np_p2 = np.load('/content/gdrive/My Drive/Deep Learning Project/Skin Cancer Detection/dataset/Rescaled_Data/Image_128_128_3_Unscaled/Image_128_128_part2.npy', allow_pickle=True)"
      ],
      "execution_count": 0,
      "outputs": []
    },
    {
      "cell_type": "code",
      "metadata": {
        "id": "_rxxzLWoGWMJ",
        "colab_type": "code",
        "colab": {}
      },
      "source": [
        "# reading the numeric file\n",
        "np_p1 = np.load('/content/gdrive/My Drive/Deep Learning Project/Skin Cancer Detection/dataset/Rescaled_Data/Image_150_150_3_Scaled/Image_150_150_scaled_P1.npy', allow_pickle=True)\n",
        "np_p2 = np.load('/content/gdrive/My Drive/Deep Learning Project/Skin Cancer Detection/dataset/Rescaled_Data/Image_150_150_3_Scaled/Image_150_150_scaled_P2.npy', allow_pickle=True)"
      ],
      "execution_count": 0,
      "outputs": []
    },
    {
      "cell_type": "code",
      "metadata": {
        "id": "oHMTDUs1JyaF",
        "colab_type": "code",
        "colab": {}
      },
      "source": [
        "# read merged unscaled data\n",
        "np_merge_unscaled = np.load('/content/gdrive/My Drive/Deep Learning Project/Skin Cancer Detection/dataset/Rescaled_Data/Image_150_150_3_Unscaled/Image_150_150_unscaled_Merged.npy', allow_pickle=True)\n"
      ],
      "execution_count": 0,
      "outputs": []
    },
    {
      "cell_type": "code",
      "metadata": {
        "id": "SWNwM2cu6K58",
        "colab_type": "code",
        "outputId": "aec4b55e-9b31-4552-b695-19c71d8850ff",
        "colab": {
          "base_uri": "https://localhost:8080/",
          "height": 34
        }
      },
      "source": [
        "np_p1.shape"
      ],
      "execution_count": 0,
      "outputs": [
        {
          "output_type": "execute_result",
          "data": {
            "text/plain": [
              "(5000, 49153)"
            ]
          },
          "metadata": {
            "tags": []
          },
          "execution_count": 5
        }
      ]
    },
    {
      "cell_type": "code",
      "metadata": {
        "id": "rCUXMOUW6NEj",
        "colab_type": "code",
        "outputId": "3311147c-e9f8-4219-a10f-8b6b480d6fd4",
        "colab": {
          "base_uri": "https://localhost:8080/",
          "height": 35
        }
      },
      "source": [
        "np_p1[0]"
      ],
      "execution_count": 0,
      "outputs": [
        {
          "output_type": "execute_result",
          "data": {
            "text/plain": [
              "array([227, 135, 135, ..., 119, 106, 'ISIC_0028278'], dtype=object)"
            ]
          },
          "metadata": {
            "tags": []
          },
          "execution_count": 7
        }
      ]
    },
    {
      "cell_type": "code",
      "metadata": {
        "id": "0Y-FNa-56ZJm",
        "colab_type": "code",
        "outputId": "205432bc-0e3e-4e51-e9b1-f273bca267b6",
        "colab": {
          "base_uri": "https://localhost:8080/",
          "height": 35
        }
      },
      "source": [
        "np_p2.shape"
      ],
      "execution_count": 0,
      "outputs": [
        {
          "output_type": "execute_result",
          "data": {
            "text/plain": [
              "(5015, 49153)"
            ]
          },
          "metadata": {
            "tags": []
          },
          "execution_count": 6
        }
      ]
    },
    {
      "cell_type": "code",
      "metadata": {
        "id": "HfGAZmNcKN4i",
        "colab_type": "code",
        "outputId": "b06313f4-342f-4359-d770-1e3b285c7f65",
        "colab": {
          "base_uri": "https://localhost:8080/",
          "height": 67
        }
      },
      "source": [
        "# concatenate\n",
        "data=np.concatenate((np_p1[:,:-1],np_p2[:,:-1]),axis=0)\n",
        "data=data.astype('float32')/255   # scale data between 0 and 1\n",
        "data.shape\n",
        "\n",
        "# get labels\n",
        "image_id = np.concatenate((np_p1[:,-1],np_p2[:,-1]), axis=0)\n",
        "image_id.shape\n",
        "\n",
        "# combine part 1 and part 2\n",
        "df_total_scaled = pd.DataFrame(data)\n",
        "print(df_total_scaled.shape)\n",
        "print(df_total_scaled.columns)\n",
        "df_total_scaled['image_id']=image_id\n",
        "print(df_total_scaled.shape)\n",
        "\n",
        "# use metadata for mapping dx_types\n",
        "metadata = pd.read_csv('HAM10000_metadata.csv')\n",
        "\n",
        "# image id - dx dictionary\n",
        "image_dict = dict(zip(metadata.image_id, metadata.dx))\n",
        "\n",
        "# map labels\n",
        "df_total_scaled['dx']=df_total_scaled['image_id'].map(image_dict)"
      ],
      "execution_count": 0,
      "outputs": [
        {
          "output_type": "stream",
          "text": [
            "(10015, 49152)\n",
            "RangeIndex(start=0, stop=49152, step=1)\n",
            "(10015, 49153)\n"
          ],
          "name": "stdout"
        }
      ]
    },
    {
      "cell_type": "code",
      "metadata": {
        "id": "WrEHOrSdKMJx",
        "colab_type": "code",
        "outputId": "1ad5f644-3fa7-4469-9935-c5921491916a",
        "colab": {
          "base_uri": "https://localhost:8080/",
          "height": 251
        }
      },
      "source": [
        "df_total_scaled.head()"
      ],
      "execution_count": 0,
      "outputs": [
        {
          "output_type": "execute_result",
          "data": {
            "text/html": [
              "<div>\n",
              "<style scoped>\n",
              "    .dataframe tbody tr th:only-of-type {\n",
              "        vertical-align: middle;\n",
              "    }\n",
              "\n",
              "    .dataframe tbody tr th {\n",
              "        vertical-align: top;\n",
              "    }\n",
              "\n",
              "    .dataframe thead th {\n",
              "        text-align: right;\n",
              "    }\n",
              "</style>\n",
              "<table border=\"1\" class=\"dataframe\">\n",
              "  <thead>\n",
              "    <tr style=\"text-align: right;\">\n",
              "      <th></th>\n",
              "      <th>0</th>\n",
              "      <th>1</th>\n",
              "      <th>2</th>\n",
              "      <th>3</th>\n",
              "      <th>4</th>\n",
              "      <th>5</th>\n",
              "      <th>6</th>\n",
              "      <th>7</th>\n",
              "      <th>8</th>\n",
              "      <th>9</th>\n",
              "      <th>10</th>\n",
              "      <th>11</th>\n",
              "      <th>12</th>\n",
              "      <th>13</th>\n",
              "      <th>14</th>\n",
              "      <th>15</th>\n",
              "      <th>16</th>\n",
              "      <th>17</th>\n",
              "      <th>18</th>\n",
              "      <th>19</th>\n",
              "      <th>20</th>\n",
              "      <th>21</th>\n",
              "      <th>22</th>\n",
              "      <th>23</th>\n",
              "      <th>24</th>\n",
              "      <th>25</th>\n",
              "      <th>26</th>\n",
              "      <th>27</th>\n",
              "      <th>28</th>\n",
              "      <th>29</th>\n",
              "      <th>30</th>\n",
              "      <th>31</th>\n",
              "      <th>32</th>\n",
              "      <th>33</th>\n",
              "      <th>34</th>\n",
              "      <th>35</th>\n",
              "      <th>36</th>\n",
              "      <th>37</th>\n",
              "      <th>38</th>\n",
              "      <th>39</th>\n",
              "      <th>...</th>\n",
              "      <th>49114</th>\n",
              "      <th>49115</th>\n",
              "      <th>49116</th>\n",
              "      <th>49117</th>\n",
              "      <th>49118</th>\n",
              "      <th>49119</th>\n",
              "      <th>49120</th>\n",
              "      <th>49121</th>\n",
              "      <th>49122</th>\n",
              "      <th>49123</th>\n",
              "      <th>49124</th>\n",
              "      <th>49125</th>\n",
              "      <th>49126</th>\n",
              "      <th>49127</th>\n",
              "      <th>49128</th>\n",
              "      <th>49129</th>\n",
              "      <th>49130</th>\n",
              "      <th>49131</th>\n",
              "      <th>49132</th>\n",
              "      <th>49133</th>\n",
              "      <th>49134</th>\n",
              "      <th>49135</th>\n",
              "      <th>49136</th>\n",
              "      <th>49137</th>\n",
              "      <th>49138</th>\n",
              "      <th>49139</th>\n",
              "      <th>49140</th>\n",
              "      <th>49141</th>\n",
              "      <th>49142</th>\n",
              "      <th>49143</th>\n",
              "      <th>49144</th>\n",
              "      <th>49145</th>\n",
              "      <th>49146</th>\n",
              "      <th>49147</th>\n",
              "      <th>49148</th>\n",
              "      <th>49149</th>\n",
              "      <th>49150</th>\n",
              "      <th>49151</th>\n",
              "      <th>image_id</th>\n",
              "      <th>dx</th>\n",
              "    </tr>\n",
              "  </thead>\n",
              "  <tbody>\n",
              "    <tr>\n",
              "      <th>0</th>\n",
              "      <td>0.890196</td>\n",
              "      <td>0.529412</td>\n",
              "      <td>0.529412</td>\n",
              "      <td>0.909804</td>\n",
              "      <td>0.549020</td>\n",
              "      <td>0.549020</td>\n",
              "      <td>0.913725</td>\n",
              "      <td>0.556863</td>\n",
              "      <td>0.552941</td>\n",
              "      <td>0.909804</td>\n",
              "      <td>0.552941</td>\n",
              "      <td>0.541176</td>\n",
              "      <td>0.913725</td>\n",
              "      <td>0.556863</td>\n",
              "      <td>0.556863</td>\n",
              "      <td>0.917647</td>\n",
              "      <td>0.552941</td>\n",
              "      <td>0.560784</td>\n",
              "      <td>0.909804</td>\n",
              "      <td>0.537255</td>\n",
              "      <td>0.541176</td>\n",
              "      <td>0.866667</td>\n",
              "      <td>0.490196</td>\n",
              "      <td>0.474510</td>\n",
              "      <td>0.870588</td>\n",
              "      <td>0.494118</td>\n",
              "      <td>0.486275</td>\n",
              "      <td>0.894118</td>\n",
              "      <td>0.529412</td>\n",
              "      <td>0.517647</td>\n",
              "      <td>0.901961</td>\n",
              "      <td>0.537255</td>\n",
              "      <td>0.529412</td>\n",
              "      <td>0.905882</td>\n",
              "      <td>0.541176</td>\n",
              "      <td>0.529412</td>\n",
              "      <td>0.913725</td>\n",
              "      <td>0.549020</td>\n",
              "      <td>0.545098</td>\n",
              "      <td>0.921569</td>\n",
              "      <td>...</td>\n",
              "      <td>0.349020</td>\n",
              "      <td>0.286275</td>\n",
              "      <td>0.737255</td>\n",
              "      <td>0.356863</td>\n",
              "      <td>0.298039</td>\n",
              "      <td>0.737255</td>\n",
              "      <td>0.364706</td>\n",
              "      <td>0.294118</td>\n",
              "      <td>0.745098</td>\n",
              "      <td>0.376471</td>\n",
              "      <td>0.305882</td>\n",
              "      <td>0.760784</td>\n",
              "      <td>0.403922</td>\n",
              "      <td>0.337255</td>\n",
              "      <td>0.752941</td>\n",
              "      <td>0.407843</td>\n",
              "      <td>0.337255</td>\n",
              "      <td>0.768627</td>\n",
              "      <td>0.423529</td>\n",
              "      <td>0.352941</td>\n",
              "      <td>0.780392</td>\n",
              "      <td>0.454902</td>\n",
              "      <td>0.400000</td>\n",
              "      <td>0.768627</td>\n",
              "      <td>0.462745</td>\n",
              "      <td>0.411765</td>\n",
              "      <td>0.768627</td>\n",
              "      <td>0.462745</td>\n",
              "      <td>0.407843</td>\n",
              "      <td>0.780392</td>\n",
              "      <td>0.466667</td>\n",
              "      <td>0.423529</td>\n",
              "      <td>0.776471</td>\n",
              "      <td>0.474510</td>\n",
              "      <td>0.431373</td>\n",
              "      <td>0.768627</td>\n",
              "      <td>0.466667</td>\n",
              "      <td>0.415686</td>\n",
              "      <td>ISIC_0028278</td>\n",
              "      <td>nv</td>\n",
              "    </tr>\n",
              "    <tr>\n",
              "      <th>1</th>\n",
              "      <td>0.784314</td>\n",
              "      <td>0.517647</td>\n",
              "      <td>0.690196</td>\n",
              "      <td>0.796078</td>\n",
              "      <td>0.529412</td>\n",
              "      <td>0.686275</td>\n",
              "      <td>0.772549</td>\n",
              "      <td>0.501961</td>\n",
              "      <td>0.650980</td>\n",
              "      <td>0.756863</td>\n",
              "      <td>0.478431</td>\n",
              "      <td>0.623529</td>\n",
              "      <td>0.745098</td>\n",
              "      <td>0.458824</td>\n",
              "      <td>0.603922</td>\n",
              "      <td>0.745098</td>\n",
              "      <td>0.454902</td>\n",
              "      <td>0.603922</td>\n",
              "      <td>0.768627</td>\n",
              "      <td>0.486275</td>\n",
              "      <td>0.635294</td>\n",
              "      <td>0.760784</td>\n",
              "      <td>0.474510</td>\n",
              "      <td>0.615686</td>\n",
              "      <td>0.776471</td>\n",
              "      <td>0.517647</td>\n",
              "      <td>0.678431</td>\n",
              "      <td>0.788235</td>\n",
              "      <td>0.537255</td>\n",
              "      <td>0.713726</td>\n",
              "      <td>0.788235</td>\n",
              "      <td>0.529412</td>\n",
              "      <td>0.694118</td>\n",
              "      <td>0.725490</td>\n",
              "      <td>0.494118</td>\n",
              "      <td>0.650980</td>\n",
              "      <td>0.650980</td>\n",
              "      <td>0.458824</td>\n",
              "      <td>0.603922</td>\n",
              "      <td>0.709804</td>\n",
              "      <td>...</td>\n",
              "      <td>0.592157</td>\n",
              "      <td>0.733333</td>\n",
              "      <td>0.772549</td>\n",
              "      <td>0.584314</td>\n",
              "      <td>0.737255</td>\n",
              "      <td>0.749020</td>\n",
              "      <td>0.533333</td>\n",
              "      <td>0.631373</td>\n",
              "      <td>0.760784</td>\n",
              "      <td>0.549020</td>\n",
              "      <td>0.643137</td>\n",
              "      <td>0.768627</td>\n",
              "      <td>0.568627</td>\n",
              "      <td>0.705882</td>\n",
              "      <td>0.776471</td>\n",
              "      <td>0.588235</td>\n",
              "      <td>0.737255</td>\n",
              "      <td>0.760784</td>\n",
              "      <td>0.568627</td>\n",
              "      <td>0.698039</td>\n",
              "      <td>0.756863</td>\n",
              "      <td>0.564706</td>\n",
              "      <td>0.678431</td>\n",
              "      <td>0.752941</td>\n",
              "      <td>0.568627</td>\n",
              "      <td>0.709804</td>\n",
              "      <td>0.749020</td>\n",
              "      <td>0.568627</td>\n",
              "      <td>0.705882</td>\n",
              "      <td>0.737255</td>\n",
              "      <td>0.549020</td>\n",
              "      <td>0.670588</td>\n",
              "      <td>0.729412</td>\n",
              "      <td>0.525490</td>\n",
              "      <td>0.619608</td>\n",
              "      <td>0.733333</td>\n",
              "      <td>0.552941</td>\n",
              "      <td>0.658824</td>\n",
              "      <td>ISIC_0028271</td>\n",
              "      <td>nv</td>\n",
              "    </tr>\n",
              "    <tr>\n",
              "      <th>2</th>\n",
              "      <td>0.886275</td>\n",
              "      <td>0.541176</td>\n",
              "      <td>0.588235</td>\n",
              "      <td>0.890196</td>\n",
              "      <td>0.541176</td>\n",
              "      <td>0.596078</td>\n",
              "      <td>0.901961</td>\n",
              "      <td>0.552941</td>\n",
              "      <td>0.603922</td>\n",
              "      <td>0.901961</td>\n",
              "      <td>0.545098</td>\n",
              "      <td>0.588235</td>\n",
              "      <td>0.890196</td>\n",
              "      <td>0.533333</td>\n",
              "      <td>0.584314</td>\n",
              "      <td>0.890196</td>\n",
              "      <td>0.517647</td>\n",
              "      <td>0.576471</td>\n",
              "      <td>0.894118</td>\n",
              "      <td>0.505882</td>\n",
              "      <td>0.584314</td>\n",
              "      <td>0.913725</td>\n",
              "      <td>0.549020</td>\n",
              "      <td>0.600000</td>\n",
              "      <td>0.917647</td>\n",
              "      <td>0.560784</td>\n",
              "      <td>0.607843</td>\n",
              "      <td>0.909804</td>\n",
              "      <td>0.556863</td>\n",
              "      <td>0.588235</td>\n",
              "      <td>0.913725</td>\n",
              "      <td>0.568627</td>\n",
              "      <td>0.611765</td>\n",
              "      <td>0.909804</td>\n",
              "      <td>0.576471</td>\n",
              "      <td>0.611765</td>\n",
              "      <td>0.905882</td>\n",
              "      <td>0.572549</td>\n",
              "      <td>0.607843</td>\n",
              "      <td>0.909804</td>\n",
              "      <td>...</td>\n",
              "      <td>0.580392</td>\n",
              "      <td>0.560784</td>\n",
              "      <td>0.843137</td>\n",
              "      <td>0.568627</td>\n",
              "      <td>0.552941</td>\n",
              "      <td>0.835294</td>\n",
              "      <td>0.549020</td>\n",
              "      <td>0.537255</td>\n",
              "      <td>0.839216</td>\n",
              "      <td>0.560784</td>\n",
              "      <td>0.541176</td>\n",
              "      <td>0.839216</td>\n",
              "      <td>0.552941</td>\n",
              "      <td>0.525490</td>\n",
              "      <td>0.839216</td>\n",
              "      <td>0.549020</td>\n",
              "      <td>0.525490</td>\n",
              "      <td>0.827451</td>\n",
              "      <td>0.533333</td>\n",
              "      <td>0.513726</td>\n",
              "      <td>0.815686</td>\n",
              "      <td>0.521569</td>\n",
              "      <td>0.494118</td>\n",
              "      <td>0.815686</td>\n",
              "      <td>0.529412</td>\n",
              "      <td>0.505882</td>\n",
              "      <td>0.811765</td>\n",
              "      <td>0.521569</td>\n",
              "      <td>0.505882</td>\n",
              "      <td>0.823529</td>\n",
              "      <td>0.537255</td>\n",
              "      <td>0.525490</td>\n",
              "      <td>0.831373</td>\n",
              "      <td>0.556863</td>\n",
              "      <td>0.549020</td>\n",
              "      <td>0.827451</td>\n",
              "      <td>0.560784</td>\n",
              "      <td>0.529412</td>\n",
              "      <td>ISIC_0028300</td>\n",
              "      <td>nv</td>\n",
              "    </tr>\n",
              "    <tr>\n",
              "      <th>3</th>\n",
              "      <td>0.839216</td>\n",
              "      <td>0.533333</td>\n",
              "      <td>0.611765</td>\n",
              "      <td>0.831373</td>\n",
              "      <td>0.529412</td>\n",
              "      <td>0.607843</td>\n",
              "      <td>0.854902</td>\n",
              "      <td>0.545098</td>\n",
              "      <td>0.623529</td>\n",
              "      <td>0.874510</td>\n",
              "      <td>0.560784</td>\n",
              "      <td>0.643137</td>\n",
              "      <td>0.886275</td>\n",
              "      <td>0.560784</td>\n",
              "      <td>0.647059</td>\n",
              "      <td>0.878431</td>\n",
              "      <td>0.552941</td>\n",
              "      <td>0.639216</td>\n",
              "      <td>0.862745</td>\n",
              "      <td>0.537255</td>\n",
              "      <td>0.627451</td>\n",
              "      <td>0.850980</td>\n",
              "      <td>0.521569</td>\n",
              "      <td>0.619608</td>\n",
              "      <td>0.850980</td>\n",
              "      <td>0.521569</td>\n",
              "      <td>0.619608</td>\n",
              "      <td>0.847059</td>\n",
              "      <td>0.521569</td>\n",
              "      <td>0.619608</td>\n",
              "      <td>0.847059</td>\n",
              "      <td>0.525490</td>\n",
              "      <td>0.627451</td>\n",
              "      <td>0.847059</td>\n",
              "      <td>0.525490</td>\n",
              "      <td>0.631373</td>\n",
              "      <td>0.839216</td>\n",
              "      <td>0.525490</td>\n",
              "      <td>0.635294</td>\n",
              "      <td>0.858824</td>\n",
              "      <td>...</td>\n",
              "      <td>0.521569</td>\n",
              "      <td>0.576471</td>\n",
              "      <td>0.807843</td>\n",
              "      <td>0.525490</td>\n",
              "      <td>0.588235</td>\n",
              "      <td>0.807843</td>\n",
              "      <td>0.521569</td>\n",
              "      <td>0.584314</td>\n",
              "      <td>0.803922</td>\n",
              "      <td>0.525490</td>\n",
              "      <td>0.580392</td>\n",
              "      <td>0.796078</td>\n",
              "      <td>0.517647</td>\n",
              "      <td>0.576471</td>\n",
              "      <td>0.803922</td>\n",
              "      <td>0.517647</td>\n",
              "      <td>0.584314</td>\n",
              "      <td>0.807843</td>\n",
              "      <td>0.521569</td>\n",
              "      <td>0.588235</td>\n",
              "      <td>0.800000</td>\n",
              "      <td>0.517647</td>\n",
              "      <td>0.588235</td>\n",
              "      <td>0.788235</td>\n",
              "      <td>0.513726</td>\n",
              "      <td>0.576471</td>\n",
              "      <td>0.796078</td>\n",
              "      <td>0.517647</td>\n",
              "      <td>0.580392</td>\n",
              "      <td>0.800000</td>\n",
              "      <td>0.521569</td>\n",
              "      <td>0.588235</td>\n",
              "      <td>0.780392</td>\n",
              "      <td>0.501961</td>\n",
              "      <td>0.564706</td>\n",
              "      <td>0.776471</td>\n",
              "      <td>0.494118</td>\n",
              "      <td>0.556863</td>\n",
              "      <td>ISIC_0028318</td>\n",
              "      <td>nv</td>\n",
              "    </tr>\n",
              "    <tr>\n",
              "      <th>4</th>\n",
              "      <td>0.823529</td>\n",
              "      <td>0.600000</td>\n",
              "      <td>0.533333</td>\n",
              "      <td>0.823529</td>\n",
              "      <td>0.584314</td>\n",
              "      <td>0.513726</td>\n",
              "      <td>0.827451</td>\n",
              "      <td>0.607843</td>\n",
              "      <td>0.541176</td>\n",
              "      <td>0.823529</td>\n",
              "      <td>0.611765</td>\n",
              "      <td>0.545098</td>\n",
              "      <td>0.843137</td>\n",
              "      <td>0.647059</td>\n",
              "      <td>0.600000</td>\n",
              "      <td>0.843137</td>\n",
              "      <td>0.666667</td>\n",
              "      <td>0.615686</td>\n",
              "      <td>0.847059</td>\n",
              "      <td>0.662745</td>\n",
              "      <td>0.611765</td>\n",
              "      <td>0.843137</td>\n",
              "      <td>0.654902</td>\n",
              "      <td>0.603922</td>\n",
              "      <td>0.843137</td>\n",
              "      <td>0.654902</td>\n",
              "      <td>0.607843</td>\n",
              "      <td>0.850980</td>\n",
              "      <td>0.666667</td>\n",
              "      <td>0.615686</td>\n",
              "      <td>0.854902</td>\n",
              "      <td>0.678431</td>\n",
              "      <td>0.650980</td>\n",
              "      <td>0.874510</td>\n",
              "      <td>0.694118</td>\n",
              "      <td>0.678431</td>\n",
              "      <td>0.874510</td>\n",
              "      <td>0.694118</td>\n",
              "      <td>0.698039</td>\n",
              "      <td>0.870588</td>\n",
              "      <td>...</td>\n",
              "      <td>0.698039</td>\n",
              "      <td>0.733333</td>\n",
              "      <td>0.858824</td>\n",
              "      <td>0.662745</td>\n",
              "      <td>0.654902</td>\n",
              "      <td>0.858824</td>\n",
              "      <td>0.643137</td>\n",
              "      <td>0.596078</td>\n",
              "      <td>0.843137</td>\n",
              "      <td>0.619608</td>\n",
              "      <td>0.545098</td>\n",
              "      <td>0.843137</td>\n",
              "      <td>0.603922</td>\n",
              "      <td>0.521569</td>\n",
              "      <td>0.854902</td>\n",
              "      <td>0.631373</td>\n",
              "      <td>0.564706</td>\n",
              "      <td>0.866667</td>\n",
              "      <td>0.686275</td>\n",
              "      <td>0.639216</td>\n",
              "      <td>0.858824</td>\n",
              "      <td>0.666667</td>\n",
              "      <td>0.619608</td>\n",
              "      <td>0.858824</td>\n",
              "      <td>0.674510</td>\n",
              "      <td>0.607843</td>\n",
              "      <td>0.831373</td>\n",
              "      <td>0.627451</td>\n",
              "      <td>0.552941</td>\n",
              "      <td>0.784314</td>\n",
              "      <td>0.545098</td>\n",
              "      <td>0.450980</td>\n",
              "      <td>0.788235</td>\n",
              "      <td>0.545098</td>\n",
              "      <td>0.450980</td>\n",
              "      <td>0.831373</td>\n",
              "      <td>0.596078</td>\n",
              "      <td>0.490196</td>\n",
              "      <td>ISIC_0028314</td>\n",
              "      <td>akiec</td>\n",
              "    </tr>\n",
              "  </tbody>\n",
              "</table>\n",
              "<p>5 rows × 49154 columns</p>\n",
              "</div>"
            ],
            "text/plain": [
              "          0         1         2  ...     49151      image_id     dx\n",
              "0  0.890196  0.529412  0.529412  ...  0.415686  ISIC_0028278     nv\n",
              "1  0.784314  0.517647  0.690196  ...  0.658824  ISIC_0028271     nv\n",
              "2  0.886275  0.541176  0.588235  ...  0.529412  ISIC_0028300     nv\n",
              "3  0.839216  0.533333  0.611765  ...  0.556863  ISIC_0028318     nv\n",
              "4  0.823529  0.600000  0.533333  ...  0.490196  ISIC_0028314  akiec\n",
              "\n",
              "[5 rows x 49154 columns]"
            ]
          },
          "metadata": {
            "tags": []
          },
          "execution_count": 9
        }
      ]
    },
    {
      "cell_type": "code",
      "metadata": {
        "id": "b7DMIclDK_M1",
        "colab_type": "code",
        "colab": {}
      },
      "source": [
        "# split to train - val - test\n",
        "from sklearn.model_selection import train_test_split\n",
        "d_data_train, data_test, d_label_train, df_label_test=  train_test_split(df_total_scaled, df_total_scaled.iloc[:,-2:], \n",
        "                                                                  test_size=0.1, \n",
        "                                                                  random_state=100, \n",
        "                                                                  shuffle=True, stratify=df_total_scaled['dx'])\n"
      ],
      "execution_count": 0,
      "outputs": []
    },
    {
      "cell_type": "code",
      "metadata": {
        "id": "sr9wBNP5LbyZ",
        "colab_type": "code",
        "colab": {}
      },
      "source": [
        "data_train, data_val, df_label_train, df_label_val=  train_test_split(d_data_train, d_label_train, \n",
        "                                                                  test_size=0.1, \n",
        "                                                                  random_state=100, \n",
        "                                                                  shuffle=True, stratify=d_label_train['dx'])"
      ],
      "execution_count": 0,
      "outputs": []
    },
    {
      "cell_type": "code",
      "metadata": {
        "id": "iNERRHegLg9R",
        "colab_type": "code",
        "colab": {}
      },
      "source": [
        "# verify split counts\n",
        "print('Train Data :',data_train.shape,' Train Label : ',df_label_train.shape)\n",
        "print('Val Data   :',data_val.shape,'  Val Label : ',df_label_val.shape)\n",
        "print('Test Data  :',data_test.shape,' Test Label : ',df_label_test.shape)"
      ],
      "execution_count": 0,
      "outputs": []
    },
    {
      "cell_type": "code",
      "metadata": {
        "id": "_3pDe-o-MY4E",
        "colab_type": "code",
        "outputId": "43da9e4e-b508-4d3f-8ac9-ec65dcbb5338",
        "colab": {
          "base_uri": "https://localhost:8080/",
          "height": 185
        }
      },
      "source": [
        "# verify label proportions in train-val-test\n",
        "print('train data :')\n",
        "print(data_train.shape)\n",
        "df_label_train['dx'].value_counts()"
      ],
      "execution_count": 0,
      "outputs": [
        {
          "output_type": "stream",
          "text": [
            "train data :\n",
            "(8111, 49154)\n"
          ],
          "name": "stdout"
        },
        {
          "output_type": "execute_result",
          "data": {
            "text/plain": [
              "nv       5430\n",
              "mel       902\n",
              "bkl       890\n",
              "bcc       417\n",
              "akiec     264\n",
              "vasc      115\n",
              "df         93\n",
              "Name: dx, dtype: int64"
            ]
          },
          "metadata": {
            "tags": []
          },
          "execution_count": 10
        }
      ]
    },
    {
      "cell_type": "code",
      "metadata": {
        "id": "Cim0hETIb54W",
        "colab_type": "code",
        "outputId": "46439014-8ea8-472f-eb71-97dec90bd590",
        "colab": {
          "base_uri": "https://localhost:8080/",
          "height": 185
        }
      },
      "source": [
        "# verify label proportions in train-val-test\n",
        "print('train data :')\n",
        "print(data_train.shape)\n",
        "df_label_train['dx'].value_counts(normalize=True)"
      ],
      "execution_count": 0,
      "outputs": [
        {
          "output_type": "stream",
          "text": [
            "train data :\n",
            "(8111, 49154)\n"
          ],
          "name": "stdout"
        },
        {
          "output_type": "execute_result",
          "data": {
            "text/plain": [
              "nv       0.669461\n",
              "mel      0.111207\n",
              "bkl      0.109728\n",
              "bcc      0.051412\n",
              "akiec    0.032548\n",
              "vasc     0.014178\n",
              "df       0.011466\n",
              "Name: dx, dtype: float64"
            ]
          },
          "metadata": {
            "tags": []
          },
          "execution_count": 11
        }
      ]
    },
    {
      "cell_type": "code",
      "metadata": {
        "id": "qyIckD6JMsUv",
        "colab_type": "code",
        "outputId": "ccaca722-04d8-4f4e-fb10-3065b92d579a",
        "colab": {
          "base_uri": "https://localhost:8080/",
          "height": 185
        }
      },
      "source": [
        "# verify label proportions in train-val-test\n",
        "print('val data :')\n",
        "print(data_val.shape)\n",
        "df_label_val['dx'].value_counts()"
      ],
      "execution_count": 0,
      "outputs": [
        {
          "output_type": "stream",
          "text": [
            "val data :\n",
            "(902, 49154)\n"
          ],
          "name": "stdout"
        },
        {
          "output_type": "execute_result",
          "data": {
            "text/plain": [
              "nv       604\n",
              "mel      100\n",
              "bkl       99\n",
              "bcc       46\n",
              "akiec     30\n",
              "vasc      13\n",
              "df        10\n",
              "Name: dx, dtype: int64"
            ]
          },
          "metadata": {
            "tags": []
          },
          "execution_count": 12
        }
      ]
    },
    {
      "cell_type": "code",
      "metadata": {
        "id": "DpggNj5BMeel",
        "colab_type": "code",
        "outputId": "c973e5e7-be5c-470f-f4b0-ef2c5e67b5c9",
        "colab": {
          "base_uri": "https://localhost:8080/",
          "height": 185
        }
      },
      "source": [
        "# verify label proportions in train-val-test\n",
        "print('test data :')\n",
        "print(data_test.shape)\n",
        "df_label_test['dx'].value_counts()"
      ],
      "execution_count": 0,
      "outputs": [
        {
          "output_type": "stream",
          "text": [
            "test data :\n",
            "(1002, 49154)\n"
          ],
          "name": "stdout"
        },
        {
          "output_type": "execute_result",
          "data": {
            "text/plain": [
              "nv       671\n",
              "mel      111\n",
              "bkl      110\n",
              "bcc       51\n",
              "akiec     33\n",
              "vasc      14\n",
              "df        12\n",
              "Name: dx, dtype: int64"
            ]
          },
          "metadata": {
            "tags": []
          },
          "execution_count": 13
        }
      ]
    },
    {
      "cell_type": "code",
      "metadata": {
        "id": "fz21I9ywPTQh",
        "colab_type": "code",
        "outputId": "b60725de-c31b-49e9-c579-ff7066594273",
        "colab": {
          "base_uri": "https://localhost:8080/",
          "height": 84
        }
      },
      "source": [
        "# convert Labels to categorical\n",
        "from keras.utils import to_categorical\n",
        "\n",
        "# convert labels to categorical - train\n",
        "label_train = df_label_train['dx']\n",
        "#label_train = to_categorical(label_train)\n",
        "print(label_train.shape)\n",
        "\n",
        "# convert labels to categorical - val\n",
        "label_val = df_label_val['dx']\n",
        "#label_val = to_categorical(label_val)\n",
        "print(label_val.shape)\n",
        "\n",
        "# convert test labels to categorical \n",
        "label_test = df_label_test['dx']\n",
        "#label_test = to_categorical(label_test)\n",
        "print(label_test.shape)"
      ],
      "execution_count": 0,
      "outputs": [
        {
          "output_type": "stream",
          "text": [
            "Using TensorFlow backend.\n"
          ],
          "name": "stderr"
        },
        {
          "output_type": "stream",
          "text": [
            "(8111,)\n",
            "(902,)\n",
            "(1002,)\n"
          ],
          "name": "stdout"
        }
      ]
    },
    {
      "cell_type": "code",
      "metadata": {
        "id": "Ya86q4J5Rozk",
        "colab_type": "code",
        "outputId": "f5da7b99-1d11-4e99-b89a-51ad94eebed3",
        "colab": {
          "base_uri": "https://localhost:8080/",
          "height": 185
        }
      },
      "source": [
        "# using one hot encoding\n",
        "from sklearn.preprocessing import LabelEncoder, OneHotEncoder\n",
        "\n",
        "# train label\n",
        "print(label_train.shape)\n",
        "print(label_train[0])\n",
        "\n",
        "# integer encode\n",
        "label_encoder = LabelEncoder()\n",
        "int_encode = label_encoder.fit_transform(label_train.values)\n",
        "print(int_encode.shape)\n",
        "print(int_encode[0])\n",
        "#print(np.argmax(int_encode[0]))\n",
        "\n",
        "# binary encode\n",
        "onehot_encoder = OneHotEncoder(sparse=False)\n",
        "int_encode = int_encode.reshape(len(int_encode),1)\n",
        "onehot_encode = onehot_encoder.fit_transform(int_encode)\n",
        "print(onehot_encode.shape)\n",
        "print(onehot_encode[0])\n",
        "\n",
        "\n",
        "# transform train\n",
        "int_train_label = label_encoder.fit_transform(label_train.values)\n",
        "int_train_label_reshaped = int_train_label.reshape(len(int_train_label),1)\n",
        "onehot_train_label = onehot_encoder.fit_transform(int_train_label_reshaped)\n",
        "\n",
        "# transform val\n",
        "int_val_label = label_encoder.fit_transform(label_val.values)\n",
        "int_val_label_reshaped = int_val_label.reshape(len(int_val_label),1)\n",
        "onehot_val_label = onehot_encoder.fit_transform(int_val_label_reshaped)\n",
        "\n",
        "# transform test\n",
        "int_test_label = label_encoder.fit_transform(label_test.values)\n",
        "int_test_label_reshaped = int_test_label.reshape(len(int_test_label),1)\n",
        "onehot_test_label = onehot_encoder.fit_transform(int_test_label_reshaped)\n",
        "\n",
        "print('\\nTrain Label : ',onehot_train_label.shape)\n",
        "print('Val Label : ',onehot_val_label.shape)\n",
        "print('Test Label : ',onehot_test_label.shape)"
      ],
      "execution_count": 0,
      "outputs": [
        {
          "output_type": "stream",
          "text": [
            "(8111,)\n",
            "nv\n",
            "(8111,)\n",
            "5\n",
            "(8111, 7)\n",
            "[0. 0. 0. 0. 0. 1. 0.]\n",
            "\n",
            "Train Label :  (8111, 7)\n",
            "Val Label :  (902, 7)\n",
            "Test Label :  (1002, 7)\n"
          ],
          "name": "stdout"
        }
      ]
    },
    {
      "cell_type": "markdown",
      "metadata": {
        "id": "K6mpoEwxMwWx",
        "colab_type": "text"
      },
      "source": [
        "**Balanced Data Generator**"
      ]
    },
    {
      "cell_type": "code",
      "metadata": {
        "id": "hWyBAx5_OSZs",
        "colab_type": "code",
        "outputId": "4c9842dd-a8e8-4552-9c92-be136878b553",
        "colab": {
          "base_uri": "https://localhost:8080/",
          "height": 72
        }
      },
      "source": [
        "from imblearn.keras import BalancedBatchGenerator\n",
        "from imblearn.under_sampling import RandomUnderSampler\n",
        "\n",
        "training_generator = BalancedBatchGenerator(data_train[:50], onehot_train_label[:50], sampler=RandomUnderSampler(), batch_size=10)"
      ],
      "execution_count": 0,
      "outputs": [
        {
          "output_type": "stream",
          "text": [
            "/usr/local/lib/python3.6/dist-packages/sklearn/utils/deprecation.py:87: FutureWarning: Function safe_indexing is deprecated; safe_indexing is deprecated in version 0.22 and will be removed in version 0.24.\n",
            "  warnings.warn(msg, category=FutureWarning)\n"
          ],
          "name": "stderr"
        }
      ]
    },
    {
      "cell_type": "markdown",
      "metadata": {
        "id": "bmItzsqfdITd",
        "colab_type": "text"
      },
      "source": [
        "**Image Generator for Balancing Imbalanced Dataset**"
      ]
    },
    {
      "cell_type": "code",
      "metadata": {
        "id": "2BIYPxjkepUM",
        "colab_type": "code",
        "outputId": "8d00e6f1-f4f2-4862-90b5-af60806cb391",
        "colab": {
          "base_uri": "https://localhost:8080/",
          "height": 134
        }
      },
      "source": [
        "import os, os.path\n",
        "\n",
        "#print(len([name for name in os.listdir('.') if os.path.isfile(name) ]))\n",
        "\n",
        "akiec_dir = '/content/gdrive/My Drive/Deep Learning Project/Skin Cancer Detection/dataset/RR_Train_Test_Data_Augmentation/train/akiec'\n",
        "num_akiec_train = len([f for f in os.listdir(akiec_dir) if os.path.isfile(os.path.join(akiec_dir,f))])\n",
        "print('Train akiec : ',num_akiec_train)\n",
        "\n",
        "\n",
        "bcc_dir = '/content/gdrive/My Drive/Deep Learning Project/Skin Cancer Detection/dataset/RR_Train_Test_Data_Augmentation/train/bcc'\n",
        "num_bcc_train = len([f for f in os.listdir(bcc_dir) if os.path.isfile(os.path.join(bcc_dir,f))])\n",
        "print('Train bcc : ',num_bcc_train)\n",
        "\n",
        "bkl_dir = '/content/gdrive/My Drive/Deep Learning Project/Skin Cancer Detection/dataset/RR_Train_Test_Data_Augmentation/train/bkl'\n",
        "num_bkl_train = len([f for f in os.listdir(bkl_dir) if os.path.isfile(os.path.join(bkl_dir,f))])\n",
        "print('Train bkl : ',num_bkl_train)\n",
        "\n",
        "df_dir = '/content/gdrive/My Drive/Deep Learning Project/Skin Cancer Detection/dataset/RR_Train_Test_Data_Augmentation/train/df'\n",
        "num_df_train = len([f for f in os.listdir(df_dir) if os.path.isfile(os.path.join(df_dir,f))])\n",
        "print('Train df : ',num_df_train)\n",
        "\n",
        "mel_dir = '/content/gdrive/My Drive/Deep Learning Project/Skin Cancer Detection/dataset/RR_Train_Test_Data_Augmentation/train/mel'\n",
        "num_mel_train = len([f for f in os.listdir(mel_dir) if os.path.isfile(os.path.join(mel_dir,f))])\n",
        "print('Train mel : ',num_mel_train)\n",
        "\n",
        "nv_dir = '/content/gdrive/My Drive/Deep Learning Project/Skin Cancer Detection/dataset/RR_Train_Test_Data_Augmentation/train/nv'\n",
        "num_nv_train = len([f for f in os.listdir(nv_dir) if os.path.isfile(os.path.join(nv_dir,f))])\n",
        "print('Train nv : ',num_nv_train)\n",
        "\n",
        "vasc_dir = '/content/gdrive/My Drive/Deep Learning Project/Skin Cancer Detection/dataset/RR_Train_Test_Data_Augmentation/train/vasc'\n",
        "num_vasc_train = len([f for f in os.listdir(vasc_dir) if os.path.isfile(os.path.join(vasc_dir,f))])\n",
        "print('Train vasc : ',num_vasc_train)"
      ],
      "execution_count": 0,
      "outputs": [
        {
          "output_type": "stream",
          "text": [
            "Train akiec :  294\n",
            "Train bcc :  463\n",
            "Train bkl :  989\n",
            "Train df :  103\n",
            "Train mel :  1002\n",
            "Train nv :  6034\n",
            "Train vasc :  128\n"
          ],
          "name": "stdout"
        }
      ]
    },
    {
      "cell_type": "code",
      "metadata": {
        "id": "Qmss3_kZCHHY",
        "colab_type": "code",
        "outputId": "7c3a7ede-ac89-4961-fe56-e53a47338758",
        "colab": {
          "base_uri": "https://localhost:8080/",
          "height": 34
        }
      },
      "source": [
        "6034-103"
      ],
      "execution_count": 0,
      "outputs": [
        {
          "output_type": "execute_result",
          "data": {
            "text/plain": [
              "5931"
            ]
          },
          "metadata": {
            "tags": []
          },
          "execution_count": 21
        }
      ]
    },
    {
      "cell_type": "code",
      "metadata": {
        "id": "hhrGqjNd7wI8",
        "colab_type": "code",
        "outputId": "9625b858-5ca8-45b7-8e16-ac182a097ca8",
        "colab": {
          "base_uri": "https://localhost:8080/",
          "height": 168
        }
      },
      "source": [
        "# balancing images to be generated\n",
        "max_class_count = max(num_akiec_train,num_bcc_train,num_bkl_train,num_df_train, num_mel_train, num_nv_train,num_vasc_train)\n",
        "print('Max : ',max_class_count)\n",
        "\n",
        "# diff\n",
        "diff_akiec = max_class_count - num_akiec_train\n",
        "diff_bcc = max_class_count - num_bcc_train\n",
        "diff_bkl = max_class_count - num_bkl_train\n",
        "diff_df = max_class_count - num_df_train\n",
        "diff_mel = max_class_count - num_mel_train\n",
        "diff_nv = max_class_count - num_nv_train\n",
        "diff_vasc = max_class_count - num_vasc_train\n",
        "\n",
        "print('Number of images to be generated to balance the data :')\n",
        "print('Akiec : ',diff_akiec)\n",
        "print('Bcc : ',diff_bcc)\n",
        "print('Bkl : ',diff_bkl)\n",
        "print('df : ',diff_df)\n",
        "print('mel : ',diff_mel)\n",
        "print('nv : ',diff_nv)\n",
        "print('vasc : ',diff_vasc)"
      ],
      "execution_count": 0,
      "outputs": [
        {
          "output_type": "stream",
          "text": [
            "Max :  6034\n",
            "Number of images to be generated to balance the data :\n",
            "Akiec :  5740\n",
            "Bcc :  5571\n",
            "Bkl :  5045\n",
            "df :  5931\n",
            "mel :  5032\n",
            "nv :  0\n",
            "vasc :  5906\n"
          ],
          "name": "stdout"
        }
      ]
    },
    {
      "cell_type": "code",
      "metadata": {
        "id": "TEkkvqjZGT-B",
        "colab_type": "code",
        "outputId": "c8962ed2-e757-4f9b-e9dd-59f1ab6e59c0",
        "colab": {
          "base_uri": "https://localhost:8080/",
          "height": 34
        }
      },
      "source": [
        "6034/294"
      ],
      "execution_count": 0,
      "outputs": [
        {
          "output_type": "execute_result",
          "data": {
            "text/plain": [
              "20.523809523809526"
            ]
          },
          "metadata": {
            "tags": []
          },
          "execution_count": 32
        }
      ]
    },
    {
      "cell_type": "code",
      "metadata": {
        "id": "Sr-PDjm2l8sZ",
        "colab_type": "code",
        "outputId": "d5951d04-bf92-49df-c106-6914c28ce86e",
        "colab": {
          "base_uri": "https://localhost:8080/",
          "height": 34
        }
      },
      "source": [
        "294*4"
      ],
      "execution_count": 0,
      "outputs": [
        {
          "output_type": "execute_result",
          "data": {
            "text/plain": [
              "1176"
            ]
          },
          "metadata": {
            "tags": []
          },
          "execution_count": 34
        }
      ]
    },
    {
      "cell_type": "code",
      "metadata": {
        "id": "1bJrQQhLmmqT",
        "colab_type": "code",
        "outputId": "6ad5be60-9494-4a51-f73c-2fd8abb9b68c",
        "colab": {
          "base_uri": "https://localhost:8080/",
          "height": 34
        }
      },
      "source": [
        "int(diff_akiec/num_akiec_train)"
      ],
      "execution_count": 0,
      "outputs": [
        {
          "output_type": "execute_result",
          "data": {
            "text/plain": [
              "19"
            ]
          },
          "metadata": {
            "tags": []
          },
          "execution_count": 39
        }
      ]
    },
    {
      "cell_type": "code",
      "metadata": {
        "id": "MJaXO7wYeegi",
        "colab_type": "code",
        "colab": {}
      },
      "source": [
        "#!rm -rf '/content/gdrive/My Drive/Deep Learning Project/Skin Cancer Detection/dataset/RR_Balanced_Data/df/'"
      ],
      "execution_count": 0,
      "outputs": []
    },
    {
      "cell_type": "code",
      "metadata": {
        "id": "aRZoXs_E6pyt",
        "colab_type": "code",
        "colab": {}
      },
      "source": [
        "# class wise dir\n",
        "akiec_src_dir = '/content/gdrive/My Drive/Deep Learning Project/Skin Cancer Detection/dataset/RR_Train_Test_Data_Augmentation/train/akiec'\n",
        "bcc_src_dir = '/content/gdrive/My Drive/Deep Learning Project/Skin Cancer Detection/dataset/RR_Train_Test_Data_Augmentation/train/bcc'\n",
        "bkl_src_dir = '/content/gdrive/My Drive/Deep Learning Project/Skin Cancer Detection/dataset/RR_Train_Test_Data_Augmentation/train/bkl'\n",
        "df_src_dir = '/content/gdrive/My Drive/Deep Learning Project/Skin Cancer Detection/dataset/RR_Train_Test_Data_Augmentation/train/df'\n",
        "mel_src_dir = '/content/gdrive/My Drive/Deep Learning Project/Skin Cancer Detection/dataset/RR_Train_Test_Data_Augmentation/train/mel'\n",
        "nv_src_dir = '/content/gdrive/My Drive/Deep Learning Project/Skin Cancer Detection/dataset/RR_Train_Test_Data_Augmentation/train/nv'\n",
        "vasc_src_dir = '/content/gdrive/My Drive/Deep Learning Project/Skin Cancer Detection/dataset/RR_Train_Test_Data_Augmentation/train/vasc'\n",
        "\n",
        "# target class wise dir\n",
        "akiec_target_dir = '/content/gdrive/My Drive/Deep Learning Project/Skin Cancer Detection/dataset/RR_Balanced_Data/akiec'\n",
        "bcc_target_dir = '/content/gdrive/My Drive/Deep Learning Project/Skin Cancer Detection/dataset/RR_Balanced_Data/bcc'\n",
        "bkl_target_dir = '/content/gdrive/My Drive/Deep Learning Project/Skin Cancer Detection/dataset/RR_Balanced_Data/bkl'\n",
        "df_target_dir = '/content/gdrive/My Drive/Deep Learning Project/Skin Cancer Detection/dataset/RR_Balanced_Data/df'\n",
        "mel_target_dir = '/content/gdrive/My Drive/Deep Learning Project/Skin Cancer Detection/dataset/RR_Balanced_Data/mel'\n",
        "nv_target_dir = '/content/gdrive/My Drive/Deep Learning Project/Skin Cancer Detection/dataset/RR_Balanced_Data/nv'\n",
        "vasc_target_dir = '/content/gdrive/My Drive/Deep Learning Project/Skin Cancer Detection/dataset/RR_Balanced_Data/vasc'"
      ],
      "execution_count": 0,
      "outputs": []
    },
    {
      "cell_type": "code",
      "metadata": {
        "id": "nm-WiQkfdF_j",
        "colab_type": "code",
        "colab": {}
      },
      "source": [
        "# image generator to balance the classes in training data\n",
        "from keras.preprocessing.image import ImageDataGenerator\n",
        "\n",
        "# step 1 : initialize generator\n",
        "data_gen = ImageDataGenerator(rescale=1./255, rotation_range=40, \n",
        "                           width_shift_range=0.1, \n",
        "                           height_shift_range=0.1, \n",
        "                           #shear_range=0.2, \n",
        "                           zoom_range=0.1, \n",
        "                           horizontal_flip=True, fill_mode='nearest')\n",
        "\n",
        "# files in each class\n",
        "import glob\n",
        "from PIL import Image\n",
        "from keras.preprocessing import  image\n",
        "from scipy import ndimage\n",
        "\n",
        "src_dir = akiec_src_dir\n",
        "target_dir = akiec_target_dir\n",
        "\n",
        "# akiec\n",
        "filenames = glob.glob(src_dir+'/*.jpg')\n",
        "file_count = 0\n",
        "for f in filenames:\n",
        "  # read each file\n",
        "  f_name = os.path.basename(f)\n",
        "  image_id = os.path.splitext(f_name)\n",
        "  src_fname=image_id[0]\n",
        "  ext=image_id[1]\n",
        "  print(src_fname)\n",
        "  print(ext)\n",
        "  \n",
        "  # convert image to array\n",
        "  img=image.load_img(f)#, target_size=(128,128,3))\n",
        "  x=image.img_to_array(img)\n",
        "  x=x.reshape((1,)+x.shape)\n",
        "  #img = np.expand_dims(ndimage.imread(f),0)\n",
        "\n",
        "  # fit the image to the datagenerator\n",
        "  data_gen.fit(x)\n",
        "\n",
        "  \n",
        "  count=1\n",
        "  batch_size_count=int(diff_akiec/num_akiec_train)\n",
        "  for i in data_gen.flow( x, batch_size=1, save_to_dir=target_dir, save_prefix='gen_akiec_'+src_fname,save_format='jpg' ):\n",
        "    #print(i.shape)\n",
        "    print(count)\n",
        "    count=count+1\n",
        "    if count>batch_size_count:\n",
        "      break\n",
        "  \n",
        "  print(file_count)\n",
        "  file_count=file_count+1   \n",
        "  #break                                       #class_mode='categorical', subset = 'training')\n",
        "  \n",
        "  "
      ],
      "execution_count": 0,
      "outputs": []
    },
    {
      "cell_type": "code",
      "metadata": {
        "id": "yg253BChsUIr",
        "colab_type": "code",
        "colab": {}
      },
      "source": [
        "# files in each class\n",
        "import glob\n",
        "from PIL import Image\n",
        "from keras.preprocessing import  image\n",
        "from scipy import ndimage\n",
        "\n",
        "# step 1 : initialize generator\n",
        "data_gen = ImageDataGenerator(rescale=1./255, rotation_range=40, \n",
        "                           width_shift_range=0.1, \n",
        "                           height_shift_range=0.1, \n",
        "                           #shear_range=0.2, \n",
        "                           zoom_range=0.1, \n",
        "                           horizontal_flip=True, fill_mode='nearest')\n",
        "\n",
        "src_dir = bcc_src_dir                 # change 1\n",
        "target_dir = bcc_target_dir           # change 2\n",
        "\n",
        "# bcc\n",
        "filenames = glob.glob(src_dir+'/*.jpg')\n",
        "file_count = 0\n",
        "for f in filenames:\n",
        "  # read each file\n",
        "  f_name = os.path.basename(f)\n",
        "  image_id = os.path.splitext(f_name)\n",
        "  src_fname=image_id[0]\n",
        "  ext=image_id[1]\n",
        "  print(src_fname)\n",
        "  print(ext)\n",
        "  \n",
        "  # convert image to array\n",
        "  img=image.load_img(f)#, target_size=(128,128,3))\n",
        "  x=image.img_to_array(img)\n",
        "  x=x.reshape((1,)+x.shape)\n",
        "  #img = np.expand_dims(ndimage.imread(f),0)\n",
        "\n",
        "  # fit the image to the datagenerator\n",
        "  data_gen.fit(x)\n",
        "\n",
        "  \n",
        "  count=1\n",
        "  batch_size_count=int(diff_bcc/num_bcc_train) # change 3\n",
        "  for i in data_gen.flow( x, batch_size=1, save_to_dir=target_dir, save_prefix='gen_bcc_'+src_fname,save_format='jpg' ): # change 4\n",
        "    #print(i.shape)\n",
        "    print(count)\n",
        "    count=count+1\n",
        "    if count>batch_size_count:\n",
        "      break\n",
        "  \n",
        "  print(file_count)\n",
        "  file_count=file_count+1   \n",
        "  #break                                       #class_mode='categorical', subset = 'training')\n",
        "  \n",
        "  "
      ],
      "execution_count": 0,
      "outputs": []
    },
    {
      "cell_type": "code",
      "metadata": {
        "id": "ZDNHQct_wzvv",
        "colab_type": "code",
        "colab": {}
      },
      "source": [
        "# files in class - bkl\n",
        "import glob\n",
        "from PIL import Image\n",
        "from keras.preprocessing import  image\n",
        "from scipy import ndimage\n",
        "\n",
        "# step 1 : initialize generator\n",
        "data_gen = ImageDataGenerator(rescale=1./255, rotation_range=40, \n",
        "                           width_shift_range=0.1, \n",
        "                           height_shift_range=0.1, \n",
        "                           #shear_range=0.2, \n",
        "                           zoom_range=0.1, \n",
        "                           horizontal_flip=True, fill_mode='nearest')\n",
        "\n",
        "src_dir = bkl_src_dir                 # change 1\n",
        "target_dir = bkl_target_dir           # change 2\n",
        "\n",
        "# bcc\n",
        "filenames = glob.glob(src_dir+'/*.jpg')\n",
        "file_count = 0\n",
        "for f in filenames:\n",
        "  # read each file\n",
        "  f_name = os.path.basename(f)\n",
        "  image_id = os.path.splitext(f_name)\n",
        "  src_fname=image_id[0]\n",
        "  ext=image_id[1]\n",
        "  print(src_fname)\n",
        "  print(ext)\n",
        "  \n",
        "  # convert image to array\n",
        "  img=image.load_img(f)#, target_size=(128,128,3))\n",
        "  x=image.img_to_array(img)\n",
        "  x=x.reshape((1,)+x.shape)\n",
        "  #img = np.expand_dims(ndimage.imread(f),0)\n",
        "\n",
        "  # fit the image to the datagenerator\n",
        "  data_gen.fit(x)\n",
        "\n",
        "  \n",
        "  count=1\n",
        "  batch_size_count=int(diff_bkl/num_bkl_train) # change 3\n",
        "  for i in data_gen.flow( x, batch_size=1, save_to_dir=target_dir, save_prefix='gen_bkl_'+src_fname,save_format='jpg' ): # change 4\n",
        "    #print(i.shape)\n",
        "    print(count)\n",
        "    count=count+1\n",
        "    if count>batch_size_count:\n",
        "      break\n",
        "  \n",
        "  print(file_count)\n",
        "  file_count=file_count+1   \n",
        "  #break                                       #class_mode='categorical', subset = 'training')\n",
        "  \n",
        "  "
      ],
      "execution_count": 0,
      "outputs": []
    },
    {
      "cell_type": "code",
      "metadata": {
        "id": "cyJ0pY7d2Kwz",
        "colab_type": "code",
        "colab": {}
      },
      "source": [
        "# files in class - df\n",
        "from keras.preprocessing.image import ImageDataGenerator\n",
        "import glob\n",
        "from PIL import Image\n",
        "from keras.preprocessing import  image\n",
        "from scipy import ndimage\n",
        "\n",
        "# step 1 : initialize generator\n",
        "data_gen = ImageDataGenerator(rescale=1./255, rotation_range=40, \n",
        "                           width_shift_range=0.1, \n",
        "                           height_shift_range=0.1, \n",
        "                           #shear_range=0.2, \n",
        "                           zoom_range=0.1, \n",
        "                           horizontal_flip=True, fill_mode='nearest')\n",
        "\n",
        "src_dir = df_src_dir                 # change 1\n",
        "target_dir = df_target_dir           # change 2\n",
        "\n",
        "# df\n",
        "filenames = glob.glob(src_dir+'/*.jpg')\n",
        "file_count = 0\n",
        "for f in filenames:\n",
        "  # read each file\n",
        "  f_name = os.path.basename(f)\n",
        "  image_id = os.path.splitext(f_name)\n",
        "  src_fname=image_id[0]\n",
        "  ext=image_id[1]\n",
        "  print(src_fname)\n",
        "  print(ext)\n",
        "  \n",
        "  # convert image to array\n",
        "  img=image.load_img(f)#, target_size=(128,128,3))\n",
        "  x=image.img_to_array(img)\n",
        "  x=x.reshape((1,)+x.shape)\n",
        "  #img = np.expand_dims(ndimage.imread(f),0)\n",
        "\n",
        "  # fit the image to the datagenerator\n",
        "  data_gen.fit(x)\n",
        "\n",
        "  \n",
        "  count=1\n",
        "  batch_size_count=int(diff_df/num_df_train) # change 3\n",
        "  for i in data_gen.flow( x, batch_size=1, save_to_dir=target_dir, save_prefix='gen_df_'+src_fname,save_format='jpg' ): # change 4\n",
        "    #print(i.shape)\n",
        "    print(count)\n",
        "    count=count+1\n",
        "    if count>batch_size_count:\n",
        "      break\n",
        "  \n",
        "  print(file_count)\n",
        "  file_count=file_count+1   \n",
        "  #break                                       #class_mode='categorical', subset = 'training')\n",
        "  \n",
        "  "
      ],
      "execution_count": 0,
      "outputs": []
    },
    {
      "cell_type": "code",
      "metadata": {
        "id": "ovSIztNi_UUo",
        "colab_type": "code",
        "colab": {}
      },
      "source": [
        "# files in class - mel\n",
        "from keras.preprocessing.image import ImageDataGenerator\n",
        "import glob\n",
        "from PIL import Image\n",
        "from keras.preprocessing import  image\n",
        "from scipy import ndimage\n",
        "\n",
        "# step 1 : initialize generator\n",
        "data_gen = ImageDataGenerator(rescale=1./255, rotation_range=40, \n",
        "                           width_shift_range=0.1, \n",
        "                           height_shift_range=0.1, \n",
        "                           #shear_range=0.2, \n",
        "                           zoom_range=0.1, \n",
        "                           horizontal_flip=True, fill_mode='nearest')\n",
        "\n",
        "src_dir = mel_src_dir                 # change 1\n",
        "target_dir = mel_target_dir           # change 2\n",
        "\n",
        "# df\n",
        "filenames = glob.glob(src_dir+'/*.jpg')\n",
        "file_count = 0\n",
        "for f in filenames:\n",
        "  # read each file\n",
        "  f_name = os.path.basename(f)\n",
        "  image_id = os.path.splitext(f_name)\n",
        "  src_fname=image_id[0]\n",
        "  ext=image_id[1]\n",
        "  print(src_fname)\n",
        "  print(ext)\n",
        "  \n",
        "  # convert image to array\n",
        "  img=image.load_img(f)#, target_size=(128,128,3))\n",
        "  x=image.img_to_array(img)\n",
        "  x=x.reshape((1,)+x.shape)\n",
        "  #img = np.expand_dims(ndimage.imread(f),0)\n",
        "\n",
        "  # fit the image to the datagenerator\n",
        "  data_gen.fit(x)\n",
        "\n",
        "  \n",
        "  count=1\n",
        "  batch_size_count=int(diff_mel/num_mel_train) # change 3\n",
        "  for i in data_gen.flow( x, batch_size=1, save_to_dir=target_dir, save_prefix='gen_mel_'+src_fname,save_format='jpg' ): # change 4\n",
        "    #print(i.shape)\n",
        "    print(count)\n",
        "    count=count+1\n",
        "    if count>batch_size_count:\n",
        "      break\n",
        "  \n",
        "  print(file_count)\n",
        "  file_count=file_count+1   \n",
        "  #break                                       #class_mode='categorical', subset = 'training')\n",
        "  \n",
        "  "
      ],
      "execution_count": 0,
      "outputs": []
    },
    {
      "cell_type": "code",
      "metadata": {
        "id": "rN27fzAsEkyO",
        "colab_type": "code",
        "colab": {}
      },
      "source": [
        "# files in class - vasc\n",
        "from keras.preprocessing.image import ImageDataGenerator\n",
        "import glob\n",
        "from PIL import Image\n",
        "from keras.preprocessing import  image\n",
        "from scipy import ndimage\n",
        "\n",
        "# step 1 : initialize generator\n",
        "data_gen = ImageDataGenerator(rescale=1./255, rotation_range=40, \n",
        "                           width_shift_range=0.1, \n",
        "                           height_shift_range=0.1, \n",
        "                           #shear_range=0.2, \n",
        "                           zoom_range=0.1, \n",
        "                           horizontal_flip=True, fill_mode='nearest')\n",
        "\n",
        "src_dir = vasc_src_dir                 # change 1\n",
        "target_dir = vasc_target_dir           # change 2\n",
        "\n",
        "# df\n",
        "filenames = glob.glob(src_dir+'/*.jpg')\n",
        "file_count = 0\n",
        "for f in filenames:\n",
        "  # read each file\n",
        "  f_name = os.path.basename(f)\n",
        "  image_id = os.path.splitext(f_name)\n",
        "  src_fname=image_id[0]\n",
        "  ext=image_id[1]\n",
        "  print(src_fname)\n",
        "  print(ext)\n",
        "  \n",
        "  # convert image to array\n",
        "  img=image.load_img(f)#, target_size=(128,128,3))\n",
        "  x=image.img_to_array(img)\n",
        "  x=x.reshape((1,)+x.shape)\n",
        "  #img = np.expand_dims(ndimage.imread(f),0)\n",
        "\n",
        "  # fit the image to the datagenerator\n",
        "  data_gen.fit(x)\n",
        "\n",
        "  \n",
        "  count=1\n",
        "  batch_size_count=int(diff_vasc/num_vasc_train) # change 3\n",
        "  for i in data_gen.flow( x, batch_size=1, save_to_dir=target_dir, save_prefix='gen_vasc_'+src_fname,save_format='jpg' ): # change 4\n",
        "    #print(i.shape)\n",
        "    print(count)\n",
        "    count=count+1\n",
        "    if count>batch_size_count:\n",
        "      break\n",
        "  \n",
        "  print(file_count)\n",
        "  file_count=file_count+1   \n",
        "  #break                                       #class_mode='categorical', subset = 'training')\n",
        "  \n",
        "  "
      ],
      "execution_count": 0,
      "outputs": []
    },
    {
      "cell_type": "code",
      "metadata": {
        "id": "9_WOJCiVrgjH",
        "colab_type": "code",
        "outputId": "a8363778-42e9-4281-d5d3-9984df9a9e4a",
        "colab": {
          "base_uri": "https://localhost:8080/",
          "height": 35
        }
      },
      "source": [
        "# verify number of files\n",
        "aug_akiec_dir = '/content/gdrive/My Drive/Deep Learning Project/Skin Cancer Detection/dataset/RR_Balanced_Data/akiec'\n",
        "num_aug_akiec_train = len([f for f in os.listdir(aug_akiec_dir) if os.path.isfile(os.path.join(aug_akiec_dir,f))])\n",
        "print('Generated akiec : ',num_aug_akiec_train)"
      ],
      "execution_count": 0,
      "outputs": [
        {
          "output_type": "stream",
          "text": [
            "Generated akiec :  5579\n"
          ],
          "name": "stdout"
        }
      ]
    },
    {
      "cell_type": "code",
      "metadata": {
        "id": "Hl_NE5aPwgSz",
        "colab_type": "code",
        "outputId": "86fc92c1-48c0-4f09-d4d3-04c305da4ca4",
        "colab": {
          "base_uri": "https://localhost:8080/",
          "height": 34
        }
      },
      "source": [
        "# verify number of files\n",
        "aug_bcc_dir = '/content/gdrive/My Drive/Deep Learning Project/Skin Cancer Detection/dataset/RR_Balanced_Data/bcc'\n",
        "num_aug_bcc_train = len([f for f in os.listdir(aug_bcc_dir) if os.path.isfile(os.path.join(aug_bcc_dir,f))])\n",
        "print('Generated bcc : ',num_aug_bcc_train)"
      ],
      "execution_count": 0,
      "outputs": [
        {
          "output_type": "stream",
          "text": [
            "Generated bcc :  5555\n"
          ],
          "name": "stdout"
        }
      ]
    },
    {
      "cell_type": "code",
      "metadata": {
        "id": "dPXCpb6U1le4",
        "colab_type": "code",
        "outputId": "85e50155-1530-487e-ea41-2544b2e306ac",
        "colab": {
          "base_uri": "https://localhost:8080/",
          "height": 34
        }
      },
      "source": [
        "# verify number of files\n",
        "aug_bkl_dir = '/content/gdrive/My Drive/Deep Learning Project/Skin Cancer Detection/dataset/RR_Balanced_Data/bkl'\n",
        "num_aug_bkl_train = len([f for f in os.listdir(aug_bkl_dir) if os.path.isfile(os.path.join(aug_bkl_dir,f))])\n",
        "print('Generated bkl : ',num_aug_bkl_train)"
      ],
      "execution_count": 0,
      "outputs": [
        {
          "output_type": "stream",
          "text": [
            "Generated bkl :  4945\n"
          ],
          "name": "stdout"
        }
      ]
    },
    {
      "cell_type": "code",
      "metadata": {
        "id": "dkSR2x2CwwUb",
        "colab_type": "code",
        "outputId": "6aeadee7-8a17-47d9-b28d-03a0da52e15d",
        "colab": {
          "base_uri": "https://localhost:8080/",
          "height": 34
        }
      },
      "source": [
        "# verify number of files\n",
        "aug_df_dir = '/content/gdrive/My Drive/Deep Learning Project/Skin Cancer Detection/dataset/RR_Balanced_Data/df'\n",
        "num_aug_df_train = len([f for f in os.listdir(aug_df_dir) if os.path.isfile(os.path.join(aug_df_dir,f))])\n",
        "print('Generated df : ',num_aug_df_train)"
      ],
      "execution_count": 0,
      "outputs": [
        {
          "output_type": "stream",
          "text": [
            "Generated df :  5855\n"
          ],
          "name": "stdout"
        }
      ]
    },
    {
      "cell_type": "code",
      "metadata": {
        "id": "8WCzvG7oEUFa",
        "colab_type": "code",
        "outputId": "0d487c77-b2f4-40dc-ee92-ccb536968e2a",
        "colab": {
          "base_uri": "https://localhost:8080/",
          "height": 34
        }
      },
      "source": [
        "# verify number of files\n",
        "aug_mel_dir = '/content/gdrive/My Drive/Deep Learning Project/Skin Cancer Detection/dataset/RR_Balanced_Data/mel'\n",
        "num_aug_mel_train = len([f for f in os.listdir(aug_mel_dir) if os.path.isfile(os.path.join(aug_mel_dir,f))])\n",
        "print('Generated mel : ',num_aug_mel_train)"
      ],
      "execution_count": 0,
      "outputs": [
        {
          "output_type": "stream",
          "text": [
            "Generated mel :  5007\n"
          ],
          "name": "stdout"
        }
      ]
    },
    {
      "cell_type": "code",
      "metadata": {
        "id": "B4XcMZpoEgUX",
        "colab_type": "code",
        "outputId": "d850150f-0583-48fa-fe4f-069efff796ee",
        "colab": {
          "base_uri": "https://localhost:8080/",
          "height": 34
        }
      },
      "source": [
        "# verify number of files\n",
        "aug_vasc_dir = '/content/gdrive/My Drive/Deep Learning Project/Skin Cancer Detection/dataset/RR_Balanced_Data/vasc'\n",
        "num_aug_vasc_train = len([f for f in os.listdir(aug_vasc_dir) if os.path.isfile(os.path.join(aug_vasc_dir,f))])\n",
        "print('Generated vasc : ',num_aug_vasc_train)"
      ],
      "execution_count": 0,
      "outputs": [
        {
          "output_type": "stream",
          "text": [
            "Generated vasc :  5878\n"
          ],
          "name": "stdout"
        }
      ]
    },
    {
      "cell_type": "code",
      "metadata": {
        "id": "eb3RQE3BIpZi",
        "colab_type": "code",
        "colab": {}
      },
      "source": [
        "# copy the orginial images to be part of the augmented dataset\n",
        "# class wise dir\n",
        "akiec_src_dir = '/content/gdrive/My Drive/Deep Learning Project/Skin Cancer Detection/dataset/RR_Train_Test_Data_Augmentation/train/akiec'\n",
        "bcc_src_dir = '/content/gdrive/My Drive/Deep Learning Project/Skin Cancer Detection/dataset/RR_Train_Test_Data_Augmentation/train/bcc'\n",
        "bkl_src_dir = '/content/gdrive/My Drive/Deep Learning Project/Skin Cancer Detection/dataset/RR_Train_Test_Data_Augmentation/train/bkl'\n",
        "df_src_dir = '/content/gdrive/My Drive/Deep Learning Project/Skin Cancer Detection/dataset/RR_Train_Test_Data_Augmentation/train/df'\n",
        "mel_src_dir = '/content/gdrive/My Drive/Deep Learning Project/Skin Cancer Detection/dataset/RR_Train_Test_Data_Augmentation/train/mel'\n",
        "nv_src_dir = '/content/gdrive/My Drive/Deep Learning Project/Skin Cancer Detection/dataset/RR_Train_Test_Data_Augmentation/train/nv'\n",
        "vasc_src_dir = '/content/gdrive/My Drive/Deep Learning Project/Skin Cancer Detection/dataset/RR_Train_Test_Data_Augmentation/train/vasc'\n",
        "\n",
        "# target class wise dir\n",
        "akiec_target_dir = '/content/gdrive/My Drive/Deep Learning Project/Skin Cancer Detection/dataset/RR_Balanced_Data/akiec'\n",
        "bcc_target_dir = '/content/gdrive/My Drive/Deep Learning Project/Skin Cancer Detection/dataset/RR_Balanced_Data/bcc'\n",
        "bkl_target_dir = '/content/gdrive/My Drive/Deep Learning Project/Skin Cancer Detection/dataset/RR_Balanced_Data/bkl'\n",
        "df_target_dir = '/content/gdrive/My Drive/Deep Learning Project/Skin Cancer Detection/dataset/RR_Balanced_Data/df'\n",
        "mel_target_dir = '/content/gdrive/My Drive/Deep Learning Project/Skin Cancer Detection/dataset/RR_Balanced_Data/mel'\n",
        "nv_target_dir = '/content/gdrive/My Drive/Deep Learning Project/Skin Cancer Detection/dataset/RR_Balanced_Data/nv'\n",
        "vasc_target_dir = '/content/gdrive/My Drive/Deep Learning Project/Skin Cancer Detection/dataset/RR_Balanced_Data/vasc'\n",
        "\n",
        "import os, shutil\n",
        "import glob\n",
        "\n",
        "filenames_akiec=glob.glob(akiec_src_dir+\"/*.jpg\")\n",
        "filenames_bcc=glob.glob(bcc_src_dir+\"/*.jpg\")\n",
        "filenames_bkl=glob.glob(bkl_src_dir+\"/*.jpg\")\n",
        "filenames_df=glob.glob(df_src_dir+\"/*.jpg\")\n",
        "filenames_mel=glob.glob(mel_src_dir+\"/*.jpg\")\n",
        "filenames_nv=glob.glob(nv_src_dir+\"/*.jpg\")\n",
        "filenames_vasc=glob.glob(vasc_src_dir+\"/*.jpg\")\n",
        "\n",
        "# copy orginal akiec\n",
        "count_akiec=0  #change 1\n",
        "target_dir=akiec_target_dir  # change 2\n",
        "for x in filenames_akiec:  # change 3\n",
        "  src_file = os.path.basename(x) #content/gdrive/My Drive/Deep Learning Project/Skin Cancer Detection/dataset/HAM10000_images_part_2/ISIC_0031158.jpg\n",
        "  image_id = os.path.splitext(src_file) #'ISIC_0028278.jpg'\n",
        "  src_fname=image_id[0] #'ISIC_0028278'\n",
        "  ext=image_id[1] #'jpg'\n",
        "\n",
        "  shutil.copyfile(x,os.path.join(target_dir+'/'+src_file))\n",
        "  count_akiec=count_akiec+1    # change 4\n",
        "  print('akiec copied : ',count_akiec)   # change 5\n",
        "  break\n",
        "\n",
        "# copy original bcc\n",
        "count_bcc=0  #change 1\n",
        "target_dir=bcc_target_dir  # change 2\n",
        "for x in filenames_bcc:  # change 3\n",
        "  src_file = os.path.basename(x) #content/gdrive/My Drive/Deep Learning Project/Skin Cancer Detection/dataset/HAM10000_images_part_2/ISIC_0031158.jpg\n",
        "  image_id = os.path.splitext(src_file) #'ISIC_0028278.jpg'\n",
        "  src_fname=image_id[0] #'ISIC_0028278'\n",
        "  ext=image_id[1] #'jpg'\n",
        "\n",
        "  shutil.copyfile(x,os.path.join(target_dir+'/'+src_file))\n",
        "  count_bcc=count_bcc+1    # change 4\n",
        "  print('bcc copied : ',count_bcc)   # change 5\n",
        "  break\n",
        "\n",
        "# copy original bkl\n",
        "count_bkl=0  #change 1\n",
        "target_dir=bkl_target_dir  # change 2\n",
        "for x in filenames_bkc:  # change 3\n",
        "  src_file = os.path.basename(x) #content/gdrive/My Drive/Deep Learning Project/Skin Cancer Detection/dataset/HAM10000_images_part_2/ISIC_0031158.jpg\n",
        "  image_id = os.path.splitext(src_file) #'ISIC_0028278.jpg'\n",
        "  src_fname=image_id[0] #'ISIC_0028278'\n",
        "  ext=image_id[1] #'jpg'\n",
        "\n",
        "  shutil.copyfile(x,os.path.join(target_dir+'/'+src_file))\n",
        "  count_bkl=count_bkl+1    # change 4\n",
        "  print('bkl copied : ',count_bkl)   # change 5\n",
        "  break\n",
        "\n",
        "# copy original df\n",
        "count_df=0  #change 1\n",
        "target_dir=df_target_dir  # change 2\n",
        "for x in filenames_df:  # change 3\n",
        "  src_file = os.path.basename(x) #content/gdrive/My Drive/Deep Learning Project/Skin Cancer Detection/dataset/HAM10000_images_part_2/ISIC_0031158.jpg\n",
        "  image_id = os.path.splitext(src_file) #'ISIC_0028278.jpg'\n",
        "  src_fname=image_id[0] #'ISIC_0028278'\n",
        "  ext=image_id[1] #'jpg'\n",
        "\n",
        "  shutil.copyfile(x,os.path.join(target_dir+'/'+src_file))\n",
        "  count_df=count_df+1    # change 4\n",
        "  print('df copied : ',count_df)   # change 5\n",
        "  break\n",
        "\n",
        "# copy original mel\n",
        "count_mel=0  #change 1\n",
        "target_dir=mel_target_dir  # change 2\n",
        "for x in filenames_mel:  # change 3\n",
        "  src_file = os.path.basename(x) #content/gdrive/My Drive/Deep Learning Project/Skin Cancer Detection/dataset/HAM10000_images_part_2/ISIC_0031158.jpg\n",
        "  image_id = os.path.splitext(src_file) #'ISIC_0028278.jpg'\n",
        "  src_fname=image_id[0] #'ISIC_0028278'\n",
        "  ext=image_id[1] #'jpg'\n",
        "\n",
        "  shutil.copyfile(x,os.path.join(target_dir+'/'+src_file))\n",
        "  count_mel=count_mel+1    # change 4\n",
        "  print('mel copied : ',count_mel)   # change 5\n",
        "  break\n",
        "\n",
        "# copy original nv\n",
        "count_nv=0  #change 1\n",
        "target_dir=nv_target_dir  # change 2\n",
        "for x in filenames_nv:  # change 3\n",
        "  src_file = os.path.basename(x) #content/gdrive/My Drive/Deep Learning Project/Skin Cancer Detection/dataset/HAM10000_images_part_2/ISIC_0031158.jpg\n",
        "  image_id = os.path.splitext(src_file) #'ISIC_0028278.jpg'\n",
        "  src_fname=image_id[0] #'ISIC_0028278'\n",
        "  ext=image_id[1] #'jpg'\n",
        "\n",
        "  shutil.copyfile(x,os.path.join(target_dir+'/'+src_file))\n",
        "  count_nv=count_nv+1    # change 4\n",
        "  print('nv copied : ',count_nv)   # change 5\n",
        "  break\n",
        "\n",
        "# copy original vasc\n",
        "count_vasc=0  #change 1\n",
        "target_dir=vasc_target_dir  # change 2\n",
        "for x in filenames_vasc:  # change 3\n",
        "  src_file = os.path.basename(x) #content/gdrive/My Drive/Deep Learning Project/Skin Cancer Detection/dataset/HAM10000_images_part_2/ISIC_0031158.jpg\n",
        "  image_id = os.path.splitext(src_file) #'ISIC_0028278.jpg'\n",
        "  src_fname=image_id[0] #'ISIC_0028278'\n",
        "  ext=image_id[1] #'jpg'\n",
        "\n",
        "  shutil.copyfile(x,os.path.join(target_dir+'/'+src_file))\n",
        "  count_vasc=count_vasc+1    # change 4\n",
        "  print('vasc copied : ',count_vasc)   # change 5\n",
        "  break\n"
      ],
      "execution_count": 0,
      "outputs": []
    },
    {
      "cell_type": "code",
      "metadata": {
        "id": "pVL5LK3qM3Rq",
        "colab_type": "code",
        "colab": {}
      },
      "source": [
        "# copy the orginial images to be part of the augmented dataset\n",
        "import os, shutil\n",
        "import glob\n",
        "\n",
        "filenames_akiec=glob.glob(akiec_src_dir+\"/*.jpg\")\n",
        "filenames_bcc=glob.glob(bcc_src_dir+\"/*.jpg\")\n",
        "filenames_bkl=glob.glob(bkl_src_dir+\"/*.jpg\")\n",
        "filenames_df=glob.glob(df_src_dir+\"/*.jpg\")\n",
        "filenames_mel=glob.glob(mel_src_dir+\"/*.jpg\")\n",
        "filenames_nv=glob.glob(nv_src_dir+\"/*.jpg\")\n",
        "filenames_vasc=glob.glob(vasc_src_dir+\"/*.jpg\")\n",
        "\n",
        "# copy original nv\n",
        "count_nv=0  #change 1\n",
        "target_dir=nv_target_dir  # change 2\n",
        "for x in filenames_nv:  # change 3\n",
        "  src_file = os.path.basename(x) #content/gdrive/My Drive/Deep Learning Project/Skin Cancer Detection/dataset/HAM10000_images_part_2/ISIC_0031158.jpg\n",
        "  image_id = os.path.splitext(src_file) #'ISIC_0028278.jpg'\n",
        "  src_fname=image_id[0] #'ISIC_0028278'\n",
        "  ext=image_id[1] #'jpg'\n",
        "\n",
        "  shutil.copyfile(x,os.path.join(target_dir+'/'+src_file))\n",
        "  count_nv=count_nv+1    # change 4\n",
        "  print('nv copied : ',count_nv)   # change 5\n",
        "  \n"
      ],
      "execution_count": 0,
      "outputs": []
    },
    {
      "cell_type": "code",
      "metadata": {
        "id": "uuDrriukdc40",
        "colab_type": "code",
        "outputId": "9f40a93a-ecbb-44d9-ffac-8e3d4f1595bc",
        "colab": {
          "base_uri": "https://localhost:8080/",
          "height": 34
        }
      },
      "source": [
        "# verify number of files\n",
        "aug_nv_dir = '/content/gdrive/My Drive/Deep Learning Project/Skin Cancer Detection/dataset/RR_Balanced_Data/nv'\n",
        "num_aug_nv_train = len([f for f in os.listdir(aug_nv_dir) if os.path.isfile(os.path.join(aug_nv_dir,f))])\n",
        "print('Copied nv : ',num_aug_nv_train)"
      ],
      "execution_count": 0,
      "outputs": [
        {
          "output_type": "stream",
          "text": [
            "Copied nv :  6034\n"
          ],
          "name": "stdout"
        }
      ]
    },
    {
      "cell_type": "code",
      "metadata": {
        "id": "RhKGFj2veJSx",
        "colab_type": "code",
        "outputId": "c7b1cec0-292a-4bf2-e650-298b3cb9362f",
        "colab": {
          "base_uri": "https://localhost:8080/",
          "height": 67
        }
      },
      "source": [
        "# use train generator on balanced data\n",
        "from keras.preprocessing.image import ImageDataGenerator\n",
        "\n",
        "#data_gen = ImageDataGenerator(rescale=1./255, validation_split=0.15,rotation_range=40, \n",
        "data_gen = ImageDataGenerator(rescale=1./255, rotation_range=40, \n",
        "                           width_shift_range=0.2, \n",
        "                           height_shift_range=0.2, \n",
        "                           shear_range=0.2, \n",
        "                           zoom_range=0.2, \n",
        "                           horizontal_flip=True, fill_mode='nearest')\n",
        "\n",
        "train_dir='/content/gdrive/My Drive/Deep Learning Project/Skin Cancer Detection/dataset/RR_Balanced_Data'\n",
        "val_dir = '/content/gdrive/My Drive/Deep Learning Project/Skin Cancer Detection/dataset/RR_Train_Test_Val_Data_Augmentation/val'\n",
        "\n",
        "#train_datagen = ImageDataGenerator(rescale=1./255)\n",
        "#val_datagen = ImageDataGenerator(rescale=1./255)\n",
        "\n",
        "train_generator=data_gen.flow_from_directory( train_dir, \n",
        "                                             target_size=(150,150), \n",
        "                                             shuffle=True, \n",
        "                                             seed=40, \n",
        "                                             batch_size=20 , class_mode='categorical')\n",
        "                                             #class_mode='categorical', subset = 'training')\n",
        "\n",
        "val_generator = data_gen.flow_from_directory(val_dir, \n",
        "                                             target_size=(150,150),\n",
        "                                             shuffle=True, \n",
        "                                             seed=40,\n",
        "                                             batch_size=20,class_mode='categorical')\n",
        "                                             #class_mode='categorical', subset='validation')\n",
        "\n",
        "# test generator\n",
        "testdata_gen = ImageDataGenerator(rescale=1./255)\n",
        "test_dir = '/content/gdrive/My Drive/Deep Learning Project/Skin Cancer Detection/dataset/RR_Train_Test_Val_Data_Augmentation/test'\n",
        "test_generator = testdata_gen.flow_from_directory(test_dir, \n",
        "                                             target_size=(150,150),\n",
        "                                             shuffle=True, \n",
        "                                             seed=40,\n",
        "                                             batch_size=20,\n",
        "                                             class_mode='categorical')"
      ],
      "execution_count": 0,
      "outputs": [
        {
          "output_type": "stream",
          "text": [
            "Found 38853 images belonging to 7 classes.\n",
            "Found 902 images belonging to 7 classes.\n",
            "Found 1002 images belonging to 7 classes.\n"
          ],
          "name": "stdout"
        }
      ]
    },
    {
      "cell_type": "code",
      "metadata": {
        "id": "qCCtZ4PQ2_yf",
        "colab_type": "code",
        "colab": {}
      },
      "source": [
        "from keras import layers, regularizers, optimizers\n",
        "from keras.applications import MobileNet\n",
        "from keras import models\n",
        "\n",
        "model_mobilenet=models.Sequential()\n",
        "base_mobilenet = MobileNet(weights='imagenet',include_top=False, input_shape=(150,150,3))"
      ],
      "execution_count": 0,
      "outputs": []
    },
    {
      "cell_type": "code",
      "metadata": {
        "id": "xDObueP6M0BF",
        "colab_type": "code",
        "outputId": "cb00a689-30ea-4c71-a34f-1b4cb4dd42bd",
        "colab": {
          "base_uri": "https://localhost:8080/",
          "height": 474
        }
      },
      "source": [
        "# Use balanced train data on mobilenet pretrained weights\n",
        "\n",
        "from keras import layers, regularizers, optimizers\n",
        "from keras.applications import MobileNet\n",
        "from keras import models\n",
        "\n",
        "model_mobilenet=models.Sequential()\n",
        "\n",
        "\n",
        "\n",
        "base_mobilenet = MobileNet(weights='imagenet',include_top=False, input_shape=(150,150,3))\n",
        "\n",
        "model_mobilenet.add(base_mobilenet)\n",
        "\n",
        "#connecting covnet o/p to dense layer\n",
        "model_mobilenet.add(layers.Flatten())  # flatten output of covnet (3,3, 64) (h,w,channels) to 3*3*64\n",
        "model_mobilenet.add(layers.Dropout(0.4))\n",
        "model_mobilenet.add(layers.Dense(128,activation='relu', kernel_regularizer=regularizers.l2(0.001) ))\n",
        "model_mobilenet.add(layers.Dropout(0.2))\n",
        "model_mobilenet.add(layers.Dense(64,activation='relu'))\n",
        "model_mobilenet.add(layers.Dense(7,activation='softmax'))\n",
        "\n",
        "model_mobilenet.summary()\n"
      ],
      "execution_count": 0,
      "outputs": [
        {
          "output_type": "stream",
          "text": [
            "/usr/local/lib/python3.6/dist-packages/keras_applications/mobilenet.py:207: UserWarning: `input_shape` is undefined or non-square, or `rows` is not in [128, 160, 192, 224]. Weights for input shape (224, 224) will be loaded as the default.\n",
            "  warnings.warn('`input_shape` is undefined or non-square, '\n"
          ],
          "name": "stderr"
        },
        {
          "output_type": "stream",
          "text": [
            "Downloading data from https://github.com/fchollet/deep-learning-models/releases/download/v0.6/mobilenet_1_0_224_tf_no_top.h5\n",
            "17227776/17225924 [==============================] - 2s 0us/step\n",
            "Model: \"sequential_2\"\n",
            "_________________________________________________________________\n",
            "Layer (type)                 Output Shape              Param #   \n",
            "=================================================================\n",
            "mobilenet_1.00_224 (Model)   (None, 4, 4, 1024)        3228864   \n",
            "_________________________________________________________________\n",
            "flatten_2 (Flatten)          (None, 16384)             0         \n",
            "_________________________________________________________________\n",
            "dropout_3 (Dropout)          (None, 16384)             0         \n",
            "_________________________________________________________________\n",
            "dense_4 (Dense)              (None, 128)               2097280   \n",
            "_________________________________________________________________\n",
            "dropout_4 (Dropout)          (None, 128)               0         \n",
            "_________________________________________________________________\n",
            "dense_5 (Dense)              (None, 64)                8256      \n",
            "_________________________________________________________________\n",
            "dense_6 (Dense)              (None, 7)                 455       \n",
            "=================================================================\n",
            "Total params: 5,334,855\n",
            "Trainable params: 5,312,967\n",
            "Non-trainable params: 21,888\n",
            "_________________________________________________________________\n"
          ],
          "name": "stdout"
        }
      ]
    },
    {
      "cell_type": "code",
      "metadata": {
        "id": "LITJmkOGOKf3",
        "colab_type": "code",
        "outputId": "ea9d52c0-b3d3-4be6-9a16-65f155a272cf",
        "colab": {
          "base_uri": "https://localhost:8080/",
          "height": 1000
        }
      },
      "source": [
        "model_mobilenet.compile(optimizer= optimizers.RMSprop(lr=1e-4) ,loss='categorical_crossentropy',metrics=['accuracy'])\n",
        "history = model_mobilenet.fit_generator(train_generator, steps_per_epoch=100,epochs=50, validation_data=val_generator,validation_steps=50) "
      ],
      "execution_count": 0,
      "outputs": [
        {
          "output_type": "stream",
          "text": [
            "Epoch 1/50\n",
            "100/100 [==============================] - 797s 8s/step - loss: 2.3042 - accuracy: 0.2905 - val_loss: 1.2414 - val_accuracy: 0.6079\n",
            "Epoch 2/50\n",
            "100/100 [==============================] - 416s 4s/step - loss: 1.8251 - accuracy: 0.4405 - val_loss: 1.1792 - val_accuracy: 0.6843\n",
            "Epoch 3/50\n",
            "100/100 [==============================] - 442s 4s/step - loss: 1.6767 - accuracy: 0.4905 - val_loss: 1.3774 - val_accuracy: 0.6772\n",
            "Epoch 4/50\n",
            "100/100 [==============================] - 465s 5s/step - loss: 1.4858 - accuracy: 0.5635 - val_loss: 1.0146 - val_accuracy: 0.7057\n",
            "Epoch 5/50\n",
            "100/100 [==============================] - 414s 4s/step - loss: 1.3500 - accuracy: 0.6000 - val_loss: 1.5688 - val_accuracy: 0.7413\n",
            "Epoch 6/50\n",
            "100/100 [==============================] - 437s 4s/step - loss: 1.2984 - accuracy: 0.6230 - val_loss: 1.3517 - val_accuracy: 0.7251\n",
            "Epoch 7/50\n",
            "100/100 [==============================] - 437s 4s/step - loss: 1.2417 - accuracy: 0.6335 - val_loss: 1.5216 - val_accuracy: 0.6843\n",
            "Epoch 8/50\n",
            "100/100 [==============================] - 447s 4s/step - loss: 1.1926 - accuracy: 0.6448 - val_loss: 1.4087 - val_accuracy: 0.7505\n",
            "Epoch 9/50\n",
            "100/100 [==============================] - 421s 4s/step - loss: 1.1452 - accuracy: 0.6545 - val_loss: 1.3749 - val_accuracy: 0.7271\n",
            "Epoch 10/50\n",
            "100/100 [==============================] - 433s 4s/step - loss: 1.1686 - accuracy: 0.6595 - val_loss: 0.8026 - val_accuracy: 0.7770\n",
            "Epoch 11/50\n",
            "100/100 [==============================] - 439s 4s/step - loss: 1.0994 - accuracy: 0.6845 - val_loss: 0.7821 - val_accuracy: 0.7169\n",
            "Epoch 12/50\n",
            "100/100 [==============================] - 445s 4s/step - loss: 1.0933 - accuracy: 0.6835 - val_loss: 0.4098 - val_accuracy: 0.7376\n",
            "Epoch 13/50\n",
            "100/100 [==============================] - 434s 4s/step - loss: 1.0099 - accuracy: 0.7105 - val_loss: 2.1452 - val_accuracy: 0.6487\n",
            "Epoch 14/50\n",
            "100/100 [==============================] - 442s 4s/step - loss: 1.0070 - accuracy: 0.7060 - val_loss: 1.7011 - val_accuracy: 0.7536\n",
            "Epoch 15/50\n",
            "100/100 [==============================] - 435s 4s/step - loss: 0.9506 - accuracy: 0.7270 - val_loss: 1.6404 - val_accuracy: 0.7301\n",
            "Epoch 16/50\n",
            "100/100 [==============================] - 448s 4s/step - loss: 0.9580 - accuracy: 0.7260 - val_loss: 1.1438 - val_accuracy: 0.7739\n",
            "Epoch 17/50\n",
            "100/100 [==============================] - 449s 4s/step - loss: 0.9836 - accuracy: 0.7075 - val_loss: 0.9447 - val_accuracy: 0.7800\n",
            "Epoch 18/50\n",
            "100/100 [==============================] - 450s 5s/step - loss: 0.9192 - accuracy: 0.7230 - val_loss: 1.0385 - val_accuracy: 0.7525\n",
            "Epoch 19/50\n",
            "100/100 [==============================] - 428s 4s/step - loss: 0.9385 - accuracy: 0.7300 - val_loss: 1.0229 - val_accuracy: 0.7800\n",
            "Epoch 20/50\n",
            "100/100 [==============================] - 285s 3s/step - loss: 0.8633 - accuracy: 0.7480 - val_loss: 2.3406 - val_accuracy: 0.7831\n",
            "Epoch 21/50\n",
            "100/100 [==============================] - 223s 2s/step - loss: 0.8355 - accuracy: 0.7565 - val_loss: 2.4392 - val_accuracy: 0.7699\n",
            "Epoch 22/50\n",
            "100/100 [==============================] - 225s 2s/step - loss: 0.8224 - accuracy: 0.7610 - val_loss: 1.6419 - val_accuracy: 0.7770\n",
            "Epoch 23/50\n",
            "100/100 [==============================] - 222s 2s/step - loss: 0.8264 - accuracy: 0.7735 - val_loss: 0.1937 - val_accuracy: 0.7635\n",
            "Epoch 24/50\n",
            "100/100 [==============================] - 223s 2s/step - loss: 0.8340 - accuracy: 0.7590 - val_loss: 1.1376 - val_accuracy: 0.7709\n",
            "Epoch 25/50\n",
            "100/100 [==============================] - 224s 2s/step - loss: 0.7920 - accuracy: 0.7705 - val_loss: 2.2365 - val_accuracy: 0.7688\n",
            "Epoch 26/50\n",
            "100/100 [==============================] - 222s 2s/step - loss: 0.7667 - accuracy: 0.7775 - val_loss: 0.9064 - val_accuracy: 0.7230\n",
            "Epoch 27/50\n",
            "100/100 [==============================] - 222s 2s/step - loss: 0.8088 - accuracy: 0.7660 - val_loss: 0.6378 - val_accuracy: 0.7923\n",
            "Epoch 28/50\n",
            "100/100 [==============================] - 223s 2s/step - loss: 0.7747 - accuracy: 0.7735 - val_loss: 0.3517 - val_accuracy: 0.7760\n",
            "Epoch 29/50\n",
            "100/100 [==============================] - 221s 2s/step - loss: 0.7348 - accuracy: 0.7950 - val_loss: 1.2137 - val_accuracy: 0.8035\n",
            "Epoch 30/50\n",
            "100/100 [==============================] - 223s 2s/step - loss: 0.7379 - accuracy: 0.7795 - val_loss: 1.0695 - val_accuracy: 0.7668\n",
            "Epoch 31/50\n",
            "100/100 [==============================] - 222s 2s/step - loss: 0.6669 - accuracy: 0.8045 - val_loss: 1.1561 - val_accuracy: 0.7678\n",
            "Epoch 32/50\n",
            "100/100 [==============================] - 221s 2s/step - loss: 0.6592 - accuracy: 0.8060 - val_loss: 0.9817 - val_accuracy: 0.7943\n",
            "Epoch 33/50\n",
            "100/100 [==============================] - 220s 2s/step - loss: 0.7140 - accuracy: 0.7940 - val_loss: 1.1516 - val_accuracy: 0.7851\n",
            "Epoch 34/50\n",
            "100/100 [==============================] - 220s 2s/step - loss: 0.7082 - accuracy: 0.8015 - val_loss: 1.4720 - val_accuracy: 0.7872\n",
            "Epoch 35/50\n",
            "100/100 [==============================] - 219s 2s/step - loss: 0.6815 - accuracy: 0.8058 - val_loss: 0.7930 - val_accuracy: 0.7894\n",
            "Epoch 36/50\n",
            "100/100 [==============================] - 222s 2s/step - loss: 0.6289 - accuracy: 0.8145 - val_loss: 1.0142 - val_accuracy: 0.8014\n",
            "Epoch 37/50\n",
            "100/100 [==============================] - 218s 2s/step - loss: 0.6559 - accuracy: 0.8135 - val_loss: 1.1266 - val_accuracy: 0.7851\n",
            "Epoch 38/50\n",
            "100/100 [==============================] - 220s 2s/step - loss: 0.6806 - accuracy: 0.7970 - val_loss: 1.7157 - val_accuracy: 0.7994\n",
            "Epoch 39/50\n",
            "100/100 [==============================] - 221s 2s/step - loss: 0.6513 - accuracy: 0.8070 - val_loss: 1.9803 - val_accuracy: 0.8177\n",
            "Epoch 40/50\n",
            "100/100 [==============================] - 219s 2s/step - loss: 0.6113 - accuracy: 0.8265 - val_loss: 0.9466 - val_accuracy: 0.8014\n",
            "Epoch 41/50\n",
            "100/100 [==============================] - 221s 2s/step - loss: 0.6567 - accuracy: 0.8165 - val_loss: 2.9991 - val_accuracy: 0.7902\n",
            "Epoch 42/50\n",
            "100/100 [==============================] - 219s 2s/step - loss: 0.6199 - accuracy: 0.8270 - val_loss: 0.9028 - val_accuracy: 0.7800\n",
            "Epoch 43/50\n",
            "100/100 [==============================] - 218s 2s/step - loss: 0.6019 - accuracy: 0.8300 - val_loss: 0.6004 - val_accuracy: 0.7994\n",
            "Epoch 44/50\n",
            "100/100 [==============================] - 221s 2s/step - loss: 0.5661 - accuracy: 0.8290 - val_loss: 1.0312 - val_accuracy: 0.8116\n",
            "Epoch 45/50\n",
            "100/100 [==============================] - 219s 2s/step - loss: 0.6092 - accuracy: 0.8225 - val_loss: 0.4109 - val_accuracy: 0.7627\n",
            "Epoch 46/50\n",
            "100/100 [==============================] - 217s 2s/step - loss: 0.5910 - accuracy: 0.8255 - val_loss: 0.7203 - val_accuracy: 0.7956\n",
            "Epoch 47/50\n",
            "100/100 [==============================] - 219s 2s/step - loss: 0.5899 - accuracy: 0.8264 - val_loss: 1.0515 - val_accuracy: 0.8045\n",
            "Epoch 48/50\n",
            "100/100 [==============================] - 221s 2s/step - loss: 0.5723 - accuracy: 0.8410 - val_loss: 0.2100 - val_accuracy: 0.7912\n",
            "Epoch 49/50\n",
            "100/100 [==============================] - 219s 2s/step - loss: 0.5608 - accuracy: 0.8365 - val_loss: 1.3501 - val_accuracy: 0.8147\n",
            "Epoch 50/50\n",
            "100/100 [==============================] - 221s 2s/step - loss: 0.5687 - accuracy: 0.8280 - val_loss: 0.9579 - val_accuracy: 0.8024\n"
          ],
          "name": "stdout"
        }
      ]
    },
    {
      "cell_type": "code",
      "metadata": {
        "id": "LVw4HqZvbME3",
        "colab_type": "code",
        "outputId": "687b2ef4-192f-4eac-9559-810b729770c1",
        "colab": {
          "base_uri": "https://localhost:8080/",
          "height": 324
        }
      },
      "source": [
        "pd.DataFrame(history.history).plot(figsize=(8,5))\n",
        "plt.grid(True)\n",
        "plt.gca().set_ylim(0,1)\n",
        "plt.show()"
      ],
      "execution_count": 0,
      "outputs": [
        {
          "output_type": "display_data",
          "data": {
            "image/png": "[encoded data removed]",
            "text/plain": [
              "<Figure size 576x360 with 1 Axes>"
            ]
          },
          "metadata": {
            "tags": [],
            "needs_background": "light"
          }
        }
      ]
    },
    {
      "cell_type": "code",
      "metadata": {
        "id": "3OGt7zkObmKh",
        "colab_type": "code",
        "outputId": "d082cc36-bb50-4b96-c478-1a17744f1a42",
        "colab": {
          "base_uri": "https://localhost:8080/",
          "height": 34
        }
      },
      "source": [
        "# test accuracy\n",
        "test_loss, test_acc = model_mobilenet.evaluate_generator(test_generator,steps=50)    # change model name\n",
        "print('Test Loss : ',test_loss,' Test Acc : ',test_acc) # test loss = 0.66, test_acc = 0.76"
      ],
      "execution_count": 0,
      "outputs": [
        {
          "output_type": "stream",
          "text": [
            "Test Loss :  3.246234178543091  Test Acc :  0.7229999899864197\n"
          ],
          "name": "stdout"
        }
      ]
    },
    {
      "cell_type": "markdown",
      "metadata": {
        "id": "oKSr9F4WfMmv",
        "colab_type": "text"
      },
      "source": [
        "Accuracy is terrible on the Test Data"
      ]
    }
  ]
}