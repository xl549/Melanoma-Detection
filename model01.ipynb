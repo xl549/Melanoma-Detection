{
 "cells": [
  {
   "cell_type": "markdown",
   "metadata": {},
   "source": [
    "[![Open In Colab](https://colab.research.google.com/assets/colab-badge.svg)](https://colab.research.google.com/github/googlecolab/colabtools/blob/master/notebooks/colab-github-demo.ipynb)"
   ]
  },
  {
   "cell_type": "code",
   "execution_count": 1,
   "metadata": {},
   "outputs": [],
   "source": [
    "# from google.colab import drive\n",
    "# drive.mount('/content/drive')"
   ]
  },
  {
   "cell_type": "code",
   "execution_count": 2,
   "metadata": {},
   "outputs": [
    {
     "name": "stderr",
     "output_type": "stream",
     "text": [
      "Using TensorFlow backend.\n"
     ]
    },
    {
     "name": "stdout",
     "output_type": "stream",
     "text": [
      "Tensorflow Version: 2.1.0 Keras Verion: 2.2.4\n",
      "The current work path:  D:\\Code\\skin-cancer-detection\n"
     ]
    }
   ],
   "source": [
    "from numpy.random import seed\n",
    "seed(99)\n",
    "\n",
    "import pandas as pd\n",
    "import numpy as np\n",
    "import keras\n",
    "from keras import backend as K\n",
    "from keras import models\n",
    "from keras import layers\n",
    "from keras import optimizers\n",
    "from keras.applications import VGG16\n",
    "from keras.layers import Dense, Activation, Dropout, Flatten, Conv2D, MaxPooling2D, MaxPool2D\n",
    "from keras.layers.normalization import BatchNormalization\n",
    "from keras.optimizers import Adam,SGD,Adagrad,Adadelta,RMSprop\n",
    "from keras.utils import to_categorical\n",
    "from keras.optimizers import Adam\n",
    "from keras.callbacks import ModelCheckpoint, EarlyStopping\n",
    "\n",
    "import tensorflow\n",
    "import tensorflow as tf\n",
    "from tensorflow.keras.layers import Dense, Dropout\n",
    "from tensorflow.keras.optimizers import Adam\n",
    "from tensorflow.keras.metrics import categorical_crossentropy\n",
    "from tensorflow.keras.preprocessing.image import ImageDataGenerator\n",
    "from tensorflow.keras.models import Model\n",
    "from tensorflow.keras.callbacks import EarlyStopping, ReduceLROnPlateau, ModelCheckpoint\n",
    "\n",
    "from sklearn.metrics import confusion_matrix\n",
    "from sklearn.model_selection import train_test_split\n",
    "from sklearn.metrics import classification_report\n",
    "\n",
    "import os\n",
    "import itertools\n",
    "import shutil\n",
    "import matplotlib.pyplot as plt\n",
    "import seaborn as sns\n",
    "%matplotlib inline\n",
    "print(\"Tensorflow Version:\", tf.__version__, \"Keras Verion:\", keras.__version__)\n",
    "print(\"The current work path: \", os.getcwd())"
   ]
  },
  {
   "cell_type": "code",
   "execution_count": 3,
   "metadata": {},
   "outputs": [
    {
     "data": {
      "text/plain": [
       "['test_dir', 'train_dir']"
      ]
     },
     "execution_count": 3,
     "metadata": {},
     "output_type": "execute_result"
    }
   ],
   "source": [
    "base_dir = 'base_dir'\n",
    "os.listdir(base_dir)"
   ]
  },
  {
   "cell_type": "code",
   "execution_count": 4,
   "metadata": {},
   "outputs": [
    {
     "name": "stdout",
     "output_type": "stream",
     "text": [
      "nv: 5380\n",
      "mel: 1044\n",
      "bkl: 967\n",
      "bcc: 461\n",
      "akiec: 282\n",
      "vasc: 123\n",
      "df: 103\n"
     ]
    }
   ],
   "source": [
    "# check how many train images we have in each folder\n",
    "print(\"nv: {}\".format(len(os.listdir(base_dir + '/train_dir/nv'))))\n",
    "print(\"mel: {}\".format(len(os.listdir(base_dir + '/train_dir/mel'))))\n",
    "print(\"bkl: {}\".format(len(os.listdir(base_dir + '/train_dir/bkl'))))\n",
    "print(\"bcc: {}\".format(len(os.listdir(base_dir + '/train_dir/bcc'))))\n",
    "print(\"akiec: {}\".format(len(os.listdir(base_dir + '/train_dir/akiec'))))\n",
    "print(\"vasc: {}\".format(len(os.listdir(base_dir + '/train_dir/vasc'))))\n",
    "print(\"df: {}\".format(len(os.listdir(base_dir + '/train_dir/df'))))"
   ]
  },
  {
   "cell_type": "code",
   "execution_count": 5,
   "metadata": {},
   "outputs": [
    {
     "name": "stdout",
     "output_type": "stream",
     "text": [
      "nv: 1325\n",
      "mel: 69\n",
      "bkl: 132\n",
      "bcc: 53\n",
      "akiec: 45\n",
      "vasc: 19\n",
      "df: 12\n"
     ]
    }
   ],
   "source": [
    "# check how many test images we have in each folder\n",
    "print(\"nv: {}\".format(len(os.listdir(base_dir + '/test_dir/nv'))))\n",
    "print(\"mel: {}\".format(len(os.listdir(base_dir + '/test_dir/mel'))))\n",
    "print(\"bkl: {}\".format(len(os.listdir(base_dir + '/test_dir/bkl'))))\n",
    "print(\"bcc: {}\".format(len(os.listdir(base_dir + '/test_dir/bcc'))))\n",
    "print(\"akiec: {}\".format(len(os.listdir(base_dir + '/test_dir/akiec'))))\n",
    "print(\"vasc: {}\".format(len(os.listdir(base_dir + '/test_dir/vasc'))))\n",
    "print(\"df: {}\".format(len(os.listdir(base_dir + '/test_dir/df'))))"
   ]
  },
  {
   "cell_type": "code",
   "execution_count": 6,
   "metadata": {},
   "outputs": [],
   "source": [
    "test_path = base_dir + \"/test_dir\"\n",
    "train_path = base_dir + \"/train_dir\""
   ]
  },
  {
   "cell_type": "code",
   "execution_count": 7,
   "metadata": {},
   "outputs": [],
   "source": [
    "num_train_samples = 5308+1044+967+461+282+123+103\n",
    "num_test_samples = 1325+69+132+53+45+19+12\n",
    "train_batch_size = 10\n",
    "test_batch_size = 10\n",
    "image_size = 224\n",
    "\n",
    "train_steps = np.ceil(num_train_samples / train_batch_size)\n",
    "test_steps = np.ceil(num_test_samples / test_batch_size)"
   ]
  },
  {
   "cell_type": "code",
   "execution_count": 8,
   "metadata": {},
   "outputs": [
    {
     "name": "stdout",
     "output_type": "stream",
     "text": [
      "Found 8360 images belonging to 7 classes.\n",
      "Found 1655 images belonging to 7 classes.\n",
      "Found 1655 images belonging to 7 classes.\n"
     ]
    }
   ],
   "source": [
    "datagen = ImageDataGenerator(rotation_range=40,\n",
    "                             width_shift_range=0.2,\n",
    "                             height_shift_range=0.2,\n",
    "                             shear_range=0.2,\n",
    "                             zoom_range=0.2,\n",
    "                             horizontal_flip=True,\n",
    "                             fill_mode='nearest',\n",
    "                             preprocessing_function=tensorflow.keras.applications.mobilenet.preprocess_input)\n",
    "# Do not augment the test set\n",
    "train_batches = datagen.flow_from_directory(train_path,\n",
    "                                            target_size=(image_size,image_size),\n",
    "                                            batch_size=train_batch_size)\n",
    "\n",
    "valid_batches = datagen.flow_from_directory(test_path,\n",
    "                                            target_size=(image_size,image_size),\n",
    "                                            batch_size=test_batch_size)\n",
    "\n",
    "# Note: shuffle=False causes the test dataset to not be shuffled\n",
    "test_batches = datagen.flow_from_directory(test_path,\n",
    "                                            target_size=(image_size,image_size),\n",
    "                                            batch_size=1,\n",
    "                                            shuffle=False)"
   ]
  },
  {
   "cell_type": "markdown",
   "metadata": {},
   "source": [
    "# MobileNet"
   ]
  },
  {
   "cell_type": "code",
   "execution_count": 9,
   "metadata": {},
   "outputs": [],
   "source": [
    "# create a copy of a mobilenet model\n",
    "mobile = tensorflow.keras.applications.mobilenet.MobileNet()"
   ]
  },
  {
   "cell_type": "code",
   "execution_count": 10,
   "metadata": {
    "scrolled": true
   },
   "outputs": [
    {
     "name": "stdout",
     "output_type": "stream",
     "text": [
      "Model: \"mobilenet_1.00_224\"\n",
      "_________________________________________________________________\n",
      "Layer (type)                 Output Shape              Param #   \n",
      "=================================================================\n",
      "input_1 (InputLayer)         [(None, 224, 224, 3)]     0         \n",
      "_________________________________________________________________\n",
      "conv1_pad (ZeroPadding2D)    (None, 225, 225, 3)       0         \n",
      "_________________________________________________________________\n",
      "conv1 (Conv2D)               (None, 112, 112, 32)      864       \n",
      "_________________________________________________________________\n",
      "conv1_bn (BatchNormalization (None, 112, 112, 32)      128       \n",
      "_________________________________________________________________\n",
      "conv1_relu (ReLU)            (None, 112, 112, 32)      0         \n",
      "_________________________________________________________________\n",
      "conv_dw_1 (DepthwiseConv2D)  (None, 112, 112, 32)      288       \n",
      "_________________________________________________________________\n",
      "conv_dw_1_bn (BatchNormaliza (None, 112, 112, 32)      128       \n",
      "_________________________________________________________________\n",
      "conv_dw_1_relu (ReLU)        (None, 112, 112, 32)      0         \n",
      "_________________________________________________________________\n",
      "conv_pw_1 (Conv2D)           (None, 112, 112, 64)      2048      \n",
      "_________________________________________________________________\n",
      "conv_pw_1_bn (BatchNormaliza (None, 112, 112, 64)      256       \n",
      "_________________________________________________________________\n",
      "conv_pw_1_relu (ReLU)        (None, 112, 112, 64)      0         \n",
      "_________________________________________________________________\n",
      "conv_pad_2 (ZeroPadding2D)   (None, 113, 113, 64)      0         \n",
      "_________________________________________________________________\n",
      "conv_dw_2 (DepthwiseConv2D)  (None, 56, 56, 64)        576       \n",
      "_________________________________________________________________\n",
      "conv_dw_2_bn (BatchNormaliza (None, 56, 56, 64)        256       \n",
      "_________________________________________________________________\n",
      "conv_dw_2_relu (ReLU)        (None, 56, 56, 64)        0         \n",
      "_________________________________________________________________\n",
      "conv_pw_2 (Conv2D)           (None, 56, 56, 128)       8192      \n",
      "_________________________________________________________________\n",
      "conv_pw_2_bn (BatchNormaliza (None, 56, 56, 128)       512       \n",
      "_________________________________________________________________\n",
      "conv_pw_2_relu (ReLU)        (None, 56, 56, 128)       0         \n",
      "_________________________________________________________________\n",
      "conv_dw_3 (DepthwiseConv2D)  (None, 56, 56, 128)       1152      \n",
      "_________________________________________________________________\n",
      "conv_dw_3_bn (BatchNormaliza (None, 56, 56, 128)       512       \n",
      "_________________________________________________________________\n",
      "conv_dw_3_relu (ReLU)        (None, 56, 56, 128)       0         \n",
      "_________________________________________________________________\n",
      "conv_pw_3 (Conv2D)           (None, 56, 56, 128)       16384     \n",
      "_________________________________________________________________\n",
      "conv_pw_3_bn (BatchNormaliza (None, 56, 56, 128)       512       \n",
      "_________________________________________________________________\n",
      "conv_pw_3_relu (ReLU)        (None, 56, 56, 128)       0         \n",
      "_________________________________________________________________\n",
      "conv_pad_4 (ZeroPadding2D)   (None, 57, 57, 128)       0         \n",
      "_________________________________________________________________\n",
      "conv_dw_4 (DepthwiseConv2D)  (None, 28, 28, 128)       1152      \n",
      "_________________________________________________________________\n",
      "conv_dw_4_bn (BatchNormaliza (None, 28, 28, 128)       512       \n",
      "_________________________________________________________________\n",
      "conv_dw_4_relu (ReLU)        (None, 28, 28, 128)       0         \n",
      "_________________________________________________________________\n",
      "conv_pw_4 (Conv2D)           (None, 28, 28, 256)       32768     \n",
      "_________________________________________________________________\n",
      "conv_pw_4_bn (BatchNormaliza (None, 28, 28, 256)       1024      \n",
      "_________________________________________________________________\n",
      "conv_pw_4_relu (ReLU)        (None, 28, 28, 256)       0         \n",
      "_________________________________________________________________\n",
      "conv_dw_5 (DepthwiseConv2D)  (None, 28, 28, 256)       2304      \n",
      "_________________________________________________________________\n",
      "conv_dw_5_bn (BatchNormaliza (None, 28, 28, 256)       1024      \n",
      "_________________________________________________________________\n",
      "conv_dw_5_relu (ReLU)        (None, 28, 28, 256)       0         \n",
      "_________________________________________________________________\n",
      "conv_pw_5 (Conv2D)           (None, 28, 28, 256)       65536     \n",
      "_________________________________________________________________\n",
      "conv_pw_5_bn (BatchNormaliza (None, 28, 28, 256)       1024      \n",
      "_________________________________________________________________\n",
      "conv_pw_5_relu (ReLU)        (None, 28, 28, 256)       0         \n",
      "_________________________________________________________________\n",
      "conv_pad_6 (ZeroPadding2D)   (None, 29, 29, 256)       0         \n",
      "_________________________________________________________________\n",
      "conv_dw_6 (DepthwiseConv2D)  (None, 14, 14, 256)       2304      \n",
      "_________________________________________________________________\n",
      "conv_dw_6_bn (BatchNormaliza (None, 14, 14, 256)       1024      \n",
      "_________________________________________________________________\n",
      "conv_dw_6_relu (ReLU)        (None, 14, 14, 256)       0         \n",
      "_________________________________________________________________\n",
      "conv_pw_6 (Conv2D)           (None, 14, 14, 512)       131072    \n",
      "_________________________________________________________________\n",
      "conv_pw_6_bn (BatchNormaliza (None, 14, 14, 512)       2048      \n",
      "_________________________________________________________________\n",
      "conv_pw_6_relu (ReLU)        (None, 14, 14, 512)       0         \n",
      "_________________________________________________________________\n",
      "conv_dw_7 (DepthwiseConv2D)  (None, 14, 14, 512)       4608      \n",
      "_________________________________________________________________\n",
      "conv_dw_7_bn (BatchNormaliza (None, 14, 14, 512)       2048      \n",
      "_________________________________________________________________\n",
      "conv_dw_7_relu (ReLU)        (None, 14, 14, 512)       0         \n",
      "_________________________________________________________________\n",
      "conv_pw_7 (Conv2D)           (None, 14, 14, 512)       262144    \n",
      "_________________________________________________________________\n",
      "conv_pw_7_bn (BatchNormaliza (None, 14, 14, 512)       2048      \n",
      "_________________________________________________________________\n",
      "conv_pw_7_relu (ReLU)        (None, 14, 14, 512)       0         \n",
      "_________________________________________________________________\n",
      "conv_dw_8 (DepthwiseConv2D)  (None, 14, 14, 512)       4608      \n",
      "_________________________________________________________________\n",
      "conv_dw_8_bn (BatchNormaliza (None, 14, 14, 512)       2048      \n",
      "_________________________________________________________________\n",
      "conv_dw_8_relu (ReLU)        (None, 14, 14, 512)       0         \n",
      "_________________________________________________________________\n",
      "conv_pw_8 (Conv2D)           (None, 14, 14, 512)       262144    \n",
      "_________________________________________________________________\n",
      "conv_pw_8_bn (BatchNormaliza (None, 14, 14, 512)       2048      \n",
      "_________________________________________________________________\n",
      "conv_pw_8_relu (ReLU)        (None, 14, 14, 512)       0         \n",
      "_________________________________________________________________\n",
      "conv_dw_9 (DepthwiseConv2D)  (None, 14, 14, 512)       4608      \n",
      "_________________________________________________________________\n",
      "conv_dw_9_bn (BatchNormaliza (None, 14, 14, 512)       2048      \n",
      "_________________________________________________________________\n",
      "conv_dw_9_relu (ReLU)        (None, 14, 14, 512)       0         \n",
      "_________________________________________________________________\n",
      "conv_pw_9 (Conv2D)           (None, 14, 14, 512)       262144    \n",
      "_________________________________________________________________\n",
      "conv_pw_9_bn (BatchNormaliza (None, 14, 14, 512)       2048      \n",
      "_________________________________________________________________\n",
      "conv_pw_9_relu (ReLU)        (None, 14, 14, 512)       0         \n",
      "_________________________________________________________________\n",
      "conv_dw_10 (DepthwiseConv2D) (None, 14, 14, 512)       4608      \n",
      "_________________________________________________________________\n",
      "conv_dw_10_bn (BatchNormaliz (None, 14, 14, 512)       2048      \n",
      "_________________________________________________________________\n",
      "conv_dw_10_relu (ReLU)       (None, 14, 14, 512)       0         \n",
      "_________________________________________________________________\n",
      "conv_pw_10 (Conv2D)          (None, 14, 14, 512)       262144    \n",
      "_________________________________________________________________\n",
      "conv_pw_10_bn (BatchNormaliz (None, 14, 14, 512)       2048      \n",
      "_________________________________________________________________\n",
      "conv_pw_10_relu (ReLU)       (None, 14, 14, 512)       0         \n",
      "_________________________________________________________________\n",
      "conv_dw_11 (DepthwiseConv2D) (None, 14, 14, 512)       4608      \n",
      "_________________________________________________________________\n",
      "conv_dw_11_bn (BatchNormaliz (None, 14, 14, 512)       2048      \n",
      "_________________________________________________________________\n",
      "conv_dw_11_relu (ReLU)       (None, 14, 14, 512)       0         \n",
      "_________________________________________________________________\n",
      "conv_pw_11 (Conv2D)          (None, 14, 14, 512)       262144    \n",
      "_________________________________________________________________\n",
      "conv_pw_11_bn (BatchNormaliz (None, 14, 14, 512)       2048      \n",
      "_________________________________________________________________\n",
      "conv_pw_11_relu (ReLU)       (None, 14, 14, 512)       0         \n",
      "_________________________________________________________________\n",
      "conv_pad_12 (ZeroPadding2D)  (None, 15, 15, 512)       0         \n",
      "_________________________________________________________________\n",
      "conv_dw_12 (DepthwiseConv2D) (None, 7, 7, 512)         4608      \n",
      "_________________________________________________________________\n",
      "conv_dw_12_bn (BatchNormaliz (None, 7, 7, 512)         2048      \n",
      "_________________________________________________________________\n",
      "conv_dw_12_relu (ReLU)       (None, 7, 7, 512)         0         \n",
      "_________________________________________________________________\n",
      "conv_pw_12 (Conv2D)          (None, 7, 7, 1024)        524288    \n",
      "_________________________________________________________________\n",
      "conv_pw_12_bn (BatchNormaliz (None, 7, 7, 1024)        4096      \n",
      "_________________________________________________________________\n",
      "conv_pw_12_relu (ReLU)       (None, 7, 7, 1024)        0         \n",
      "_________________________________________________________________\n",
      "conv_dw_13 (DepthwiseConv2D) (None, 7, 7, 1024)        9216      \n",
      "_________________________________________________________________\n",
      "conv_dw_13_bn (BatchNormaliz (None, 7, 7, 1024)        4096      \n",
      "_________________________________________________________________\n",
      "conv_dw_13_relu (ReLU)       (None, 7, 7, 1024)        0         \n",
      "_________________________________________________________________\n",
      "conv_pw_13 (Conv2D)          (None, 7, 7, 1024)        1048576   \n",
      "_________________________________________________________________\n",
      "conv_pw_13_bn (BatchNormaliz (None, 7, 7, 1024)        4096      \n",
      "_________________________________________________________________\n",
      "conv_pw_13_relu (ReLU)       (None, 7, 7, 1024)        0         \n",
      "_________________________________________________________________\n",
      "global_average_pooling2d (Gl (None, 1024)              0         \n",
      "_________________________________________________________________\n",
      "reshape_1 (Reshape)          (None, 1, 1, 1024)        0         \n",
      "_________________________________________________________________\n",
      "dropout (Dropout)            (None, 1, 1, 1024)        0         \n",
      "_________________________________________________________________\n",
      "conv_preds (Conv2D)          (None, 1, 1, 1000)        1025000   \n",
      "_________________________________________________________________\n",
      "reshape_2 (Reshape)          (None, 1000)              0         \n",
      "_________________________________________________________________\n",
      "act_softmax (Activation)     (None, 1000)              0         \n",
      "=================================================================\n",
      "Total params: 4,253,864\n",
      "Trainable params: 4,231,976\n",
      "Non-trainable params: 21,888\n",
      "_________________________________________________________________\n"
     ]
    }
   ],
   "source": [
    "mobile.summary()"
   ]
  },
  {
   "cell_type": "code",
   "execution_count": 11,
   "metadata": {},
   "outputs": [
    {
     "data": {
      "text/plain": [
       "list"
      ]
     },
     "metadata": {},
     "output_type": "display_data"
    },
    {
     "data": {
      "text/plain": [
       "93"
      ]
     },
     "metadata": {},
     "output_type": "display_data"
    }
   ],
   "source": [
    "# How many layers does MobileNet have?\n",
    "display(type(mobile.layers), len(mobile.layers))"
   ]
  },
  {
   "cell_type": "code",
   "execution_count": 12,
   "metadata": {
    "scrolled": false
   },
   "outputs": [],
   "source": [
    "# CREATE THE MODEL ARCHITECTURE\n",
    "# Exclude the last 5 layers of the above model.\n",
    "# This will include all layers up to and including global_average_pooling2d_1\n",
    "x = mobile.layers[-6].output\n",
    "\n",
    "# Create a new dense layer for predictions\n",
    "x = Dropout(0.25)(x)\n",
    "predictions = Dense(7, activation='softmax')(x)\n",
    "\n",
    "# inputs=mobile.input selects the input layer, outputs=predictions refers to the dense layer we created above.\n",
    "model = Model(inputs=mobile.input, outputs=predictions)"
   ]
  },
  {
   "cell_type": "code",
   "execution_count": 13,
   "metadata": {},
   "outputs": [
    {
     "name": "stdout",
     "output_type": "stream",
     "text": [
      "Model: \"model\"\n",
      "_________________________________________________________________\n",
      "Layer (type)                 Output Shape              Param #   \n",
      "=================================================================\n",
      "input_1 (InputLayer)         [(None, 224, 224, 3)]     0         \n",
      "_________________________________________________________________\n",
      "conv1_pad (ZeroPadding2D)    (None, 225, 225, 3)       0         \n",
      "_________________________________________________________________\n",
      "conv1 (Conv2D)               (None, 112, 112, 32)      864       \n",
      "_________________________________________________________________\n",
      "conv1_bn (BatchNormalization (None, 112, 112, 32)      128       \n",
      "_________________________________________________________________\n",
      "conv1_relu (ReLU)            (None, 112, 112, 32)      0         \n",
      "_________________________________________________________________\n",
      "conv_dw_1 (DepthwiseConv2D)  (None, 112, 112, 32)      288       \n",
      "_________________________________________________________________\n",
      "conv_dw_1_bn (BatchNormaliza (None, 112, 112, 32)      128       \n",
      "_________________________________________________________________\n",
      "conv_dw_1_relu (ReLU)        (None, 112, 112, 32)      0         \n",
      "_________________________________________________________________\n",
      "conv_pw_1 (Conv2D)           (None, 112, 112, 64)      2048      \n",
      "_________________________________________________________________\n",
      "conv_pw_1_bn (BatchNormaliza (None, 112, 112, 64)      256       \n",
      "_________________________________________________________________\n",
      "conv_pw_1_relu (ReLU)        (None, 112, 112, 64)      0         \n",
      "_________________________________________________________________\n",
      "conv_pad_2 (ZeroPadding2D)   (None, 113, 113, 64)      0         \n",
      "_________________________________________________________________\n",
      "conv_dw_2 (DepthwiseConv2D)  (None, 56, 56, 64)        576       \n",
      "_________________________________________________________________\n",
      "conv_dw_2_bn (BatchNormaliza (None, 56, 56, 64)        256       \n",
      "_________________________________________________________________\n",
      "conv_dw_2_relu (ReLU)        (None, 56, 56, 64)        0         \n",
      "_________________________________________________________________\n",
      "conv_pw_2 (Conv2D)           (None, 56, 56, 128)       8192      \n",
      "_________________________________________________________________\n",
      "conv_pw_2_bn (BatchNormaliza (None, 56, 56, 128)       512       \n",
      "_________________________________________________________________\n",
      "conv_pw_2_relu (ReLU)        (None, 56, 56, 128)       0         \n",
      "_________________________________________________________________\n",
      "conv_dw_3 (DepthwiseConv2D)  (None, 56, 56, 128)       1152      \n",
      "_________________________________________________________________\n",
      "conv_dw_3_bn (BatchNormaliza (None, 56, 56, 128)       512       \n",
      "_________________________________________________________________\n",
      "conv_dw_3_relu (ReLU)        (None, 56, 56, 128)       0         \n",
      "_________________________________________________________________\n",
      "conv_pw_3 (Conv2D)           (None, 56, 56, 128)       16384     \n",
      "_________________________________________________________________\n",
      "conv_pw_3_bn (BatchNormaliza (None, 56, 56, 128)       512       \n",
      "_________________________________________________________________\n",
      "conv_pw_3_relu (ReLU)        (None, 56, 56, 128)       0         \n",
      "_________________________________________________________________\n",
      "conv_pad_4 (ZeroPadding2D)   (None, 57, 57, 128)       0         \n",
      "_________________________________________________________________\n",
      "conv_dw_4 (DepthwiseConv2D)  (None, 28, 28, 128)       1152      \n",
      "_________________________________________________________________\n",
      "conv_dw_4_bn (BatchNormaliza (None, 28, 28, 128)       512       \n",
      "_________________________________________________________________\n",
      "conv_dw_4_relu (ReLU)        (None, 28, 28, 128)       0         \n",
      "_________________________________________________________________\n",
      "conv_pw_4 (Conv2D)           (None, 28, 28, 256)       32768     \n",
      "_________________________________________________________________\n",
      "conv_pw_4_bn (BatchNormaliza (None, 28, 28, 256)       1024      \n",
      "_________________________________________________________________\n",
      "conv_pw_4_relu (ReLU)        (None, 28, 28, 256)       0         \n",
      "_________________________________________________________________\n",
      "conv_dw_5 (DepthwiseConv2D)  (None, 28, 28, 256)       2304      \n",
      "_________________________________________________________________\n",
      "conv_dw_5_bn (BatchNormaliza (None, 28, 28, 256)       1024      \n",
      "_________________________________________________________________\n",
      "conv_dw_5_relu (ReLU)        (None, 28, 28, 256)       0         \n",
      "_________________________________________________________________\n",
      "conv_pw_5 (Conv2D)           (None, 28, 28, 256)       65536     \n",
      "_________________________________________________________________\n",
      "conv_pw_5_bn (BatchNormaliza (None, 28, 28, 256)       1024      \n",
      "_________________________________________________________________\n",
      "conv_pw_5_relu (ReLU)        (None, 28, 28, 256)       0         \n",
      "_________________________________________________________________\n",
      "conv_pad_6 (ZeroPadding2D)   (None, 29, 29, 256)       0         \n",
      "_________________________________________________________________\n",
      "conv_dw_6 (DepthwiseConv2D)  (None, 14, 14, 256)       2304      \n",
      "_________________________________________________________________\n",
      "conv_dw_6_bn (BatchNormaliza (None, 14, 14, 256)       1024      \n",
      "_________________________________________________________________\n",
      "conv_dw_6_relu (ReLU)        (None, 14, 14, 256)       0         \n",
      "_________________________________________________________________\n",
      "conv_pw_6 (Conv2D)           (None, 14, 14, 512)       131072    \n",
      "_________________________________________________________________\n",
      "conv_pw_6_bn (BatchNormaliza (None, 14, 14, 512)       2048      \n",
      "_________________________________________________________________\n",
      "conv_pw_6_relu (ReLU)        (None, 14, 14, 512)       0         \n",
      "_________________________________________________________________\n",
      "conv_dw_7 (DepthwiseConv2D)  (None, 14, 14, 512)       4608      \n",
      "_________________________________________________________________\n",
      "conv_dw_7_bn (BatchNormaliza (None, 14, 14, 512)       2048      \n",
      "_________________________________________________________________\n",
      "conv_dw_7_relu (ReLU)        (None, 14, 14, 512)       0         \n",
      "_________________________________________________________________\n",
      "conv_pw_7 (Conv2D)           (None, 14, 14, 512)       262144    \n",
      "_________________________________________________________________\n",
      "conv_pw_7_bn (BatchNormaliza (None, 14, 14, 512)       2048      \n",
      "_________________________________________________________________\n",
      "conv_pw_7_relu (ReLU)        (None, 14, 14, 512)       0         \n",
      "_________________________________________________________________\n",
      "conv_dw_8 (DepthwiseConv2D)  (None, 14, 14, 512)       4608      \n",
      "_________________________________________________________________\n",
      "conv_dw_8_bn (BatchNormaliza (None, 14, 14, 512)       2048      \n",
      "_________________________________________________________________\n",
      "conv_dw_8_relu (ReLU)        (None, 14, 14, 512)       0         \n",
      "_________________________________________________________________\n",
      "conv_pw_8 (Conv2D)           (None, 14, 14, 512)       262144    \n",
      "_________________________________________________________________\n",
      "conv_pw_8_bn (BatchNormaliza (None, 14, 14, 512)       2048      \n",
      "_________________________________________________________________\n",
      "conv_pw_8_relu (ReLU)        (None, 14, 14, 512)       0         \n",
      "_________________________________________________________________\n",
      "conv_dw_9 (DepthwiseConv2D)  (None, 14, 14, 512)       4608      \n",
      "_________________________________________________________________\n",
      "conv_dw_9_bn (BatchNormaliza (None, 14, 14, 512)       2048      \n",
      "_________________________________________________________________\n",
      "conv_dw_9_relu (ReLU)        (None, 14, 14, 512)       0         \n",
      "_________________________________________________________________\n",
      "conv_pw_9 (Conv2D)           (None, 14, 14, 512)       262144    \n",
      "_________________________________________________________________\n",
      "conv_pw_9_bn (BatchNormaliza (None, 14, 14, 512)       2048      \n",
      "_________________________________________________________________\n",
      "conv_pw_9_relu (ReLU)        (None, 14, 14, 512)       0         \n",
      "_________________________________________________________________\n",
      "conv_dw_10 (DepthwiseConv2D) (None, 14, 14, 512)       4608      \n",
      "_________________________________________________________________\n",
      "conv_dw_10_bn (BatchNormaliz (None, 14, 14, 512)       2048      \n",
      "_________________________________________________________________\n",
      "conv_dw_10_relu (ReLU)       (None, 14, 14, 512)       0         \n",
      "_________________________________________________________________\n",
      "conv_pw_10 (Conv2D)          (None, 14, 14, 512)       262144    \n",
      "_________________________________________________________________\n",
      "conv_pw_10_bn (BatchNormaliz (None, 14, 14, 512)       2048      \n",
      "_________________________________________________________________\n",
      "conv_pw_10_relu (ReLU)       (None, 14, 14, 512)       0         \n",
      "_________________________________________________________________\n",
      "conv_dw_11 (DepthwiseConv2D) (None, 14, 14, 512)       4608      \n",
      "_________________________________________________________________\n",
      "conv_dw_11_bn (BatchNormaliz (None, 14, 14, 512)       2048      \n",
      "_________________________________________________________________\n",
      "conv_dw_11_relu (ReLU)       (None, 14, 14, 512)       0         \n",
      "_________________________________________________________________\n",
      "conv_pw_11 (Conv2D)          (None, 14, 14, 512)       262144    \n",
      "_________________________________________________________________\n",
      "conv_pw_11_bn (BatchNormaliz (None, 14, 14, 512)       2048      \n",
      "_________________________________________________________________\n",
      "conv_pw_11_relu (ReLU)       (None, 14, 14, 512)       0         \n",
      "_________________________________________________________________\n",
      "conv_pad_12 (ZeroPadding2D)  (None, 15, 15, 512)       0         \n",
      "_________________________________________________________________\n",
      "conv_dw_12 (DepthwiseConv2D) (None, 7, 7, 512)         4608      \n",
      "_________________________________________________________________\n",
      "conv_dw_12_bn (BatchNormaliz (None, 7, 7, 512)         2048      \n",
      "_________________________________________________________________\n",
      "conv_dw_12_relu (ReLU)       (None, 7, 7, 512)         0         \n",
      "_________________________________________________________________\n",
      "conv_pw_12 (Conv2D)          (None, 7, 7, 1024)        524288    \n",
      "_________________________________________________________________\n",
      "conv_pw_12_bn (BatchNormaliz (None, 7, 7, 1024)        4096      \n",
      "_________________________________________________________________\n",
      "conv_pw_12_relu (ReLU)       (None, 7, 7, 1024)        0         \n",
      "_________________________________________________________________\n",
      "conv_dw_13 (DepthwiseConv2D) (None, 7, 7, 1024)        9216      \n",
      "_________________________________________________________________\n",
      "conv_dw_13_bn (BatchNormaliz (None, 7, 7, 1024)        4096      \n",
      "_________________________________________________________________\n",
      "conv_dw_13_relu (ReLU)       (None, 7, 7, 1024)        0         \n",
      "_________________________________________________________________\n",
      "conv_pw_13 (Conv2D)          (None, 7, 7, 1024)        1048576   \n",
      "_________________________________________________________________\n",
      "conv_pw_13_bn (BatchNormaliz (None, 7, 7, 1024)        4096      \n",
      "_________________________________________________________________\n",
      "conv_pw_13_relu (ReLU)       (None, 7, 7, 1024)        0         \n",
      "_________________________________________________________________\n",
      "global_average_pooling2d (Gl (None, 1024)              0         \n",
      "_________________________________________________________________\n",
      "dropout (Dropout)            (None, 1024)              0         \n",
      "_________________________________________________________________\n",
      "dense (Dense)                (None, 7)                 7175      \n",
      "=================================================================\n",
      "Total params: 3,236,039\n",
      "Trainable params: 3,214,151\n",
      "Non-trainable params: 21,888\n",
      "_________________________________________________________________\n"
     ]
    }
   ],
   "source": [
    "model.summary()"
   ]
  },
  {
   "cell_type": "code",
   "execution_count": 14,
   "metadata": {},
   "outputs": [],
   "source": [
    "# We need to choose how many layers we actually want to be trained.\n",
    "# Here we are freezing the weights of all layers except the\n",
    "# last 23 layers in the new model.\n",
    "# The last 23 layers of the model will be trained.\n",
    "for layer in model.layers[:-23]:\n",
    "    layer.trainable = False"
   ]
  },
  {
   "cell_type": "markdown",
   "metadata": {},
   "source": [
    "Train the Model:"
   ]
  },
  {
   "cell_type": "code",
   "execution_count": 15,
   "metadata": {},
   "outputs": [],
   "source": [
    "# Define Top2 and Top3 Accuracy\n",
    "from tensorflow.keras.metrics import categorical_accuracy, top_k_categorical_accuracy\n",
    "\n",
    "def top_3_accuracy(y_true, y_pred):\n",
    "    return top_k_categorical_accuracy(y_true, y_pred, k=3)\n",
    "\n",
    "def top_2_accuracy(y_true, y_pred):\n",
    "    return top_k_categorical_accuracy(y_true, y_pred, k=2)"
   ]
  },
  {
   "cell_type": "code",
   "execution_count": 16,
   "metadata": {},
   "outputs": [],
   "source": [
    "model.compile(Adam(lr=0.01), \n",
    "              loss='categorical_crossentropy', \n",
    "              metrics=[categorical_accuracy, top_2_accuracy, top_3_accuracy])"
   ]
  },
  {
   "cell_type": "code",
   "execution_count": 17,
   "metadata": {},
   "outputs": [
    {
     "name": "stdout",
     "output_type": "stream",
     "text": [
      "{'akiec': 0, 'bcc': 1, 'bkl': 2, 'df': 3, 'mel': 4, 'nv': 5, 'vasc': 6}\n"
     ]
    }
   ],
   "source": [
    "# Get the labels that are associated with each index\n",
    "print(valid_batches.class_indices)"
   ]
  },
  {
   "cell_type": "code",
   "execution_count": 18,
   "metadata": {},
   "outputs": [],
   "source": [
    "# Add weights to try to make the model more sensitive to melanoma\n",
    "class_weights={\n",
    "    0: 1.0, # akiec\n",
    "    1: 1.0, # bcc\n",
    "    2: 1.0, # bkl\n",
    "    3: 1.0, # df\n",
    "    4: 3.0, # mel # Try to make the model more sensitive to Melanoma.\n",
    "    5: 1.0, # nv\n",
    "    6: 1.0, # vasc\n",
    "}"
   ]
  },
  {
   "cell_type": "code",
   "execution_count": 19,
   "metadata": {},
   "outputs": [
    {
     "name": "stdout",
     "output_type": "stream",
     "text": [
      "WARNING:tensorflow:From <ipython-input-19-92dc3bf4b73f>:23: Model.fit_generator (from tensorflow.python.keras.engine.training) is deprecated and will be removed in a future version.\n",
      "Instructions for updating:\n",
      "Please use Model.fit, which supports generators.\n",
      "WARNING:tensorflow:sample_weight modes were coerced from\n",
      "  ...\n",
      "    to  \n",
      "  ['...']\n",
      "WARNING:tensorflow:sample_weight modes were coerced from\n",
      "  ...\n",
      "    to  \n",
      "  ['...']\n",
      "Train for 829.0 steps, validate for 166.0 steps\n",
      "Epoch 1/30\n",
      "828/829 [============================>.] - ETA: 0s - loss: 1.5126 - categorical_accuracy: 0.5969 - top_2_accuracy: 0.7957 - top_3_accuracy: 0.8946\n",
      "Epoch 00001: val_top_3_accuracy improved from -inf to 0.89849, saving model to model.h5\n",
      "829/829 [==============================] - 688s 830ms/step - loss: 1.5119 - categorical_accuracy: 0.5969 - top_2_accuracy: 0.7957 - top_3_accuracy: 0.8947 - val_loss: 1.1981 - val_categorical_accuracy: 0.5366 - val_top_2_accuracy: 0.8326 - val_top_3_accuracy: 0.8985\n",
      "Epoch 2/30\n",
      "828/829 [============================>.] - ETA: 0s - loss: 1.1745 - categorical_accuracy: 0.6393 - top_2_accuracy: 0.8364 - top_3_accuracy: 0.9222\n",
      "Epoch 00002: val_top_3_accuracy improved from 0.89849 to 0.93716, saving model to model.h5\n",
      "829/829 [==============================] - 675s 814ms/step - loss: 1.1747 - categorical_accuracy: 0.6392 - top_2_accuracy: 0.8362 - top_3_accuracy: 0.9222 - val_loss: 0.7819 - val_categorical_accuracy: 0.8193 - val_top_2_accuracy: 0.8804 - val_top_3_accuracy: 0.9372\n",
      "Epoch 3/30\n",
      "828/829 [============================>.] - ETA: 0s - loss: 1.1069 - categorical_accuracy: 0.6641 - top_2_accuracy: 0.8536 - top_3_accuracy: 0.9337\n",
      "Epoch 00003: val_top_3_accuracy did not improve from 0.93716\n",
      "829/829 [==============================] - 679s 819ms/step - loss: 1.1071 - categorical_accuracy: 0.6641 - top_2_accuracy: 0.8536 - top_3_accuracy: 0.9338 - val_loss: 1.0800 - val_categorical_accuracy: 0.8121 - val_top_2_accuracy: 0.8695 - val_top_3_accuracy: 0.9257\n",
      "Epoch 4/30\n",
      "828/829 [============================>.] - ETA: 0s - loss: 1.0523 - categorical_accuracy: 0.6849 - top_2_accuracy: 0.8643 - top_3_accuracy: 0.9441\n",
      "Epoch 00004: val_top_3_accuracy improved from 0.93716 to 0.95589, saving model to model.h5\n",
      "829/829 [==============================] - 673s 812ms/step - loss: 1.0522 - categorical_accuracy: 0.6850 - top_2_accuracy: 0.8642 - top_3_accuracy: 0.9440 - val_loss: 0.8112 - val_categorical_accuracy: 0.8471 - val_top_2_accuracy: 0.9148 - val_top_3_accuracy: 0.9559\n",
      "Epoch 5/30\n",
      "828/829 [============================>.] - ETA: 0s - loss: 1.0237 - categorical_accuracy: 0.6931 - top_2_accuracy: 0.8702 - top_3_accuracy: 0.9447\n",
      "Epoch 00005: val_top_3_accuracy did not improve from 0.95589\n",
      "829/829 [==============================] - 674s 813ms/step - loss: 1.0235 - categorical_accuracy: 0.6931 - top_2_accuracy: 0.8702 - top_3_accuracy: 0.9448 - val_loss: 1.0131 - val_categorical_accuracy: 0.8103 - val_top_2_accuracy: 0.8653 - val_top_3_accuracy: 0.8991\n",
      "Epoch 6/30\n",
      "828/829 [============================>.] - ETA: 0s - loss: 1.0139 - categorical_accuracy: 0.6946 - top_2_accuracy: 0.8755 - top_3_accuracy: 0.9479\n",
      "Epoch 00006: val_top_3_accuracy did not improve from 0.95589\n",
      "\n",
      "Epoch 00006: ReduceLROnPlateau reducing learning rate to 0.004999999888241291.\n",
      "829/829 [==============================] - 672s 811ms/step - loss: 1.0131 - categorical_accuracy: 0.6949 - top_2_accuracy: 0.8756 - top_3_accuracy: 0.9480 - val_loss: 1.5200 - val_categorical_accuracy: 0.7982 - val_top_2_accuracy: 0.8532 - val_top_3_accuracy: 0.8846\n",
      "Epoch 7/30\n",
      "828/829 [============================>.] - ETA: 0s - loss: 0.8792 - categorical_accuracy: 0.7360 - top_2_accuracy: 0.8967 - top_3_accuracy: 0.9597\n",
      "Epoch 00007: val_top_3_accuracy did not improve from 0.95589\n",
      "829/829 [==============================] - 677s 817ms/step - loss: 0.8788 - categorical_accuracy: 0.7361 - top_2_accuracy: 0.8967 - top_3_accuracy: 0.9597 - val_loss: 1.3018 - val_categorical_accuracy: 0.8115 - val_top_2_accuracy: 0.8628 - val_top_3_accuracy: 0.9118\n",
      "Epoch 8/30\n",
      "828/829 [============================>.] - ETA: 0s - loss: 0.8507 - categorical_accuracy: 0.7473 - top_2_accuracy: 0.9056 - top_3_accuracy: 0.9647\n",
      "Epoch 00008: val_top_3_accuracy did not improve from 0.95589\n",
      "\n",
      "Epoch 00008: ReduceLROnPlateau reducing learning rate to 0.0024999999441206455.\n",
      "829/829 [==============================] - 684s 825ms/step - loss: 0.8506 - categorical_accuracy: 0.7473 - top_2_accuracy: 0.9055 - top_3_accuracy: 0.9648 - val_loss: 0.9285 - val_categorical_accuracy: 0.8175 - val_top_2_accuracy: 0.8816 - val_top_3_accuracy: 0.9402\n",
      "Epoch 9/30\n",
      "828/829 [============================>.] - ETA: 0s - loss: 0.7576 - categorical_accuracy: 0.7691 - top_2_accuracy: 0.9219 - top_3_accuracy: 0.9721\n",
      "Epoch 00009: val_top_3_accuracy did not improve from 0.95589\n",
      "829/829 [==============================] - 674s 813ms/step - loss: 0.7576 - categorical_accuracy: 0.7690 - top_2_accuracy: 0.9218 - top_3_accuracy: 0.9721 - val_loss: 0.9223 - val_categorical_accuracy: 0.8169 - val_top_2_accuracy: 0.8846 - val_top_3_accuracy: 0.9299\n",
      "Epoch 10/30\n",
      "828/829 [============================>.] - ETA: 0s - loss: 0.7210 - categorical_accuracy: 0.7824 - top_2_accuracy: 0.9274 - top_3_accuracy: 0.9760\n",
      "Epoch 00010: val_top_3_accuracy did not improve from 0.95589\n",
      "\n",
      "Epoch 00010: ReduceLROnPlateau reducing learning rate to 0.0012499999720603228.\n",
      "829/829 [==============================] - 677s 816ms/step - loss: 0.7205 - categorical_accuracy: 0.7825 - top_2_accuracy: 0.9275 - top_3_accuracy: 0.9760 - val_loss: 0.9705 - val_categorical_accuracy: 0.8145 - val_top_2_accuracy: 0.8719 - val_top_3_accuracy: 0.9196\n",
      "Epoch 11/30\n",
      "828/829 [============================>.] - ETA: 0s - loss: 0.6664 - categorical_accuracy: 0.7993 - top_2_accuracy: 0.9368 - top_3_accuracy: 0.9783\n",
      "Epoch 00011: val_top_3_accuracy did not improve from 0.95589\n",
      "829/829 [==============================] - 688s 830ms/step - loss: 0.6658 - categorical_accuracy: 0.7995 - top_2_accuracy: 0.9369 - top_3_accuracy: 0.9783 - val_loss: 0.9685 - val_categorical_accuracy: 0.8187 - val_top_2_accuracy: 0.8810 - val_top_3_accuracy: 0.9251\n",
      "Epoch 12/30\n",
      "828/829 [============================>.] - ETA: 0s - loss: 0.6415 - categorical_accuracy: 0.8064 - top_2_accuracy: 0.9365 - top_3_accuracy: 0.9804\n",
      "Epoch 00012: val_top_3_accuracy did not improve from 0.95589\n",
      "\n",
      "Epoch 00012: ReduceLROnPlateau reducing learning rate to 0.0006249999860301614.\n",
      "829/829 [==============================] - 674s 812ms/step - loss: 0.6412 - categorical_accuracy: 0.8064 - top_2_accuracy: 0.9364 - top_3_accuracy: 0.9805 - val_loss: 0.9343 - val_categorical_accuracy: 0.8097 - val_top_2_accuracy: 0.8816 - val_top_3_accuracy: 0.9287\n",
      "Epoch 13/30\n",
      "828/829 [============================>.] - ETA: 0s - loss: 0.6133 - categorical_accuracy: 0.8179 - top_2_accuracy: 0.9434 - top_3_accuracy: 0.9851\n",
      "Epoch 00013: val_top_3_accuracy did not improve from 0.95589\n",
      "829/829 [==============================] - 674s 814ms/step - loss: 0.6134 - categorical_accuracy: 0.8176 - top_2_accuracy: 0.9434 - top_3_accuracy: 0.9852 - val_loss: 0.9081 - val_categorical_accuracy: 0.8036 - val_top_2_accuracy: 0.8937 - val_top_3_accuracy: 0.9335\n",
      "Epoch 14/30\n",
      "828/829 [============================>.] - ETA: 0s - loss: 0.5989 - categorical_accuracy: 0.8138 - top_2_accuracy: 0.9441 - top_3_accuracy: 0.9833\n",
      "Epoch 00014: val_top_3_accuracy did not improve from 0.95589\n",
      "\n",
      "Epoch 00014: ReduceLROnPlateau reducing learning rate to 0.0003124999930150807.\n",
      "829/829 [==============================] - 682s 823ms/step - loss: 0.6012 - categorical_accuracy: 0.8136 - top_2_accuracy: 0.9441 - top_3_accuracy: 0.9834 - val_loss: 0.9279 - val_categorical_accuracy: 0.8097 - val_top_2_accuracy: 0.8888 - val_top_3_accuracy: 0.9305\n",
      "Epoch 15/30\n",
      "828/829 [============================>.] - ETA: 0s - loss: 0.5699 - categorical_accuracy: 0.8252 - top_2_accuracy: 0.9472 - top_3_accuracy: 0.9847\n",
      "Epoch 00015: val_top_3_accuracy did not improve from 0.95589\n",
      "829/829 [==============================] - 686s 827ms/step - loss: 0.5698 - categorical_accuracy: 0.8252 - top_2_accuracy: 0.9472 - top_3_accuracy: 0.9847 - val_loss: 0.9672 - val_categorical_accuracy: 0.8091 - val_top_2_accuracy: 0.8924 - val_top_3_accuracy: 0.9305\n"
     ]
    },
    {
     "name": "stdout",
     "output_type": "stream",
     "text": [
      "Epoch 16/30\n",
      "828/829 [============================>.] - ETA: 0s - loss: 0.5648 - categorical_accuracy: 0.8272 - top_2_accuracy: 0.9499 - top_3_accuracy: 0.9844\n",
      "Epoch 00016: val_top_3_accuracy did not improve from 0.95589\n",
      "\n",
      "Epoch 00016: ReduceLROnPlateau reducing learning rate to 0.00015624999650754035.\n",
      "829/829 [==============================] - 682s 822ms/step - loss: 0.5642 - categorical_accuracy: 0.8274 - top_2_accuracy: 0.9499 - top_3_accuracy: 0.9844 - val_loss: 0.9991 - val_categorical_accuracy: 0.8060 - val_top_2_accuracy: 0.8888 - val_top_3_accuracy: 0.9360\n",
      "Epoch 17/30\n",
      "828/829 [============================>.] - ETA: 0s - loss: 0.5567 - categorical_accuracy: 0.8333 - top_2_accuracy: 0.9482 - top_3_accuracy: 0.9859\n",
      "Epoch 00017: val_top_3_accuracy did not improve from 0.95589\n",
      "829/829 [==============================] - 683s 823ms/step - loss: 0.5573 - categorical_accuracy: 0.8331 - top_2_accuracy: 0.9481 - top_3_accuracy: 0.9859 - val_loss: 0.9894 - val_categorical_accuracy: 0.8085 - val_top_2_accuracy: 0.8906 - val_top_3_accuracy: 0.9390\n",
      "Epoch 18/30\n",
      "828/829 [============================>.] - ETA: 0s - loss: 0.5677 - categorical_accuracy: 0.8293 - top_2_accuracy: 0.9493 - top_3_accuracy: 0.9838\n",
      "Epoch 00018: val_top_3_accuracy did not improve from 0.95589\n",
      "\n",
      "Epoch 00018: ReduceLROnPlateau reducing learning rate to 7.812499825377017e-05.\n",
      "829/829 [==============================] - 682s 823ms/step - loss: 0.5678 - categorical_accuracy: 0.8291 - top_2_accuracy: 0.9493 - top_3_accuracy: 0.9838 - val_loss: 0.9870 - val_categorical_accuracy: 0.8109 - val_top_2_accuracy: 0.8888 - val_top_3_accuracy: 0.9341\n",
      "Epoch 19/30\n",
      "828/829 [============================>.] - ETA: 0s - loss: 0.5591 - categorical_accuracy: 0.8261 - top_2_accuracy: 0.9477 - top_3_accuracy: 0.9844\n",
      "Epoch 00019: val_top_3_accuracy did not improve from 0.95589\n",
      "829/829 [==============================] - 673s 812ms/step - loss: 0.5595 - categorical_accuracy: 0.8261 - top_2_accuracy: 0.9478 - top_3_accuracy: 0.9844 - val_loss: 1.0231 - val_categorical_accuracy: 0.8036 - val_top_2_accuracy: 0.8822 - val_top_3_accuracy: 0.9335\n",
      "Epoch 20/30\n",
      "828/829 [============================>.] - ETA: 0s - loss: 0.5493 - categorical_accuracy: 0.8351 - top_2_accuracy: 0.9537 - top_3_accuracy: 0.9868\n",
      "Epoch 00020: val_top_3_accuracy did not improve from 0.95589\n",
      "\n",
      "Epoch 00020: ReduceLROnPlateau reducing learning rate to 3.9062499126885086e-05.\n",
      "829/829 [==============================] - 673s 812ms/step - loss: 0.5490 - categorical_accuracy: 0.8353 - top_2_accuracy: 0.9538 - top_3_accuracy: 0.9869 - val_loss: 0.9811 - val_categorical_accuracy: 0.8066 - val_top_2_accuracy: 0.8918 - val_top_3_accuracy: 0.9353\n",
      "Epoch 21/30\n",
      "828/829 [============================>.] - ETA: 0s - loss: 0.5418 - categorical_accuracy: 0.8356 - top_2_accuracy: 0.9508 - top_3_accuracy: 0.9871\n",
      "Epoch 00021: val_top_3_accuracy did not improve from 0.95589\n",
      "829/829 [==============================] - 673s 812ms/step - loss: 0.5421 - categorical_accuracy: 0.8356 - top_2_accuracy: 0.9509 - top_3_accuracy: 0.9871 - val_loss: 0.9599 - val_categorical_accuracy: 0.8006 - val_top_2_accuracy: 0.8858 - val_top_3_accuracy: 0.9414\n",
      "Epoch 22/30\n",
      "828/829 [============================>.] - ETA: 0s - loss: 0.5416 - categorical_accuracy: 0.8383 - top_2_accuracy: 0.9502 - top_3_accuracy: 0.9866\n",
      "Epoch 00022: val_top_3_accuracy did not improve from 0.95589\n",
      "\n",
      "Epoch 00022: ReduceLROnPlateau reducing learning rate to 1.9531249563442543e-05.\n",
      "829/829 [==============================] - 672s 811ms/step - loss: 0.5417 - categorical_accuracy: 0.8382 - top_2_accuracy: 0.9502 - top_3_accuracy: 0.9865 - val_loss: 0.9405 - val_categorical_accuracy: 0.8054 - val_top_2_accuracy: 0.8912 - val_top_3_accuracy: 0.9390\n",
      "Epoch 23/30\n",
      "828/829 [============================>.] - ETA: 0s - loss: 0.5403 - categorical_accuracy: 0.8345 - top_2_accuracy: 0.9494 - top_3_accuracy: 0.9867\n",
      "Epoch 00023: val_top_3_accuracy did not improve from 0.95589\n",
      "829/829 [==============================] - 674s 813ms/step - loss: 0.5403 - categorical_accuracy: 0.8346 - top_2_accuracy: 0.9495 - top_3_accuracy: 0.9867 - val_loss: 0.9549 - val_categorical_accuracy: 0.8097 - val_top_2_accuracy: 0.8912 - val_top_3_accuracy: 0.9366\n",
      "Epoch 24/30\n",
      "828/829 [============================>.] - ETA: 0s - loss: 0.5478 - categorical_accuracy: 0.8354 - top_2_accuracy: 0.9525 - top_3_accuracy: 0.9860\n",
      "Epoch 00024: val_top_3_accuracy did not improve from 0.95589\n",
      "\n",
      "Epoch 00024: ReduceLROnPlateau reducing learning rate to 1e-05.\n",
      "829/829 [==============================] - 672s 811ms/step - loss: 0.5476 - categorical_accuracy: 0.8355 - top_2_accuracy: 0.9526 - top_3_accuracy: 0.9860 - val_loss: 0.9958 - val_categorical_accuracy: 0.7988 - val_top_2_accuracy: 0.8918 - val_top_3_accuracy: 0.9372\n",
      "Epoch 25/30\n",
      "828/829 [============================>.] - ETA: 0s - loss: 0.5383 - categorical_accuracy: 0.8402 - top_2_accuracy: 0.9518 - top_3_accuracy: 0.9867\n",
      "Epoch 00025: val_top_3_accuracy did not improve from 0.95589\n",
      "829/829 [==============================] - 672s 811ms/step - loss: 0.5394 - categorical_accuracy: 0.8399 - top_2_accuracy: 0.9516 - top_3_accuracy: 0.9867 - val_loss: 0.9899 - val_categorical_accuracy: 0.8012 - val_top_2_accuracy: 0.8888 - val_top_3_accuracy: 0.9408\n",
      "Epoch 26/30\n",
      "828/829 [============================>.] - ETA: 0s - loss: 0.5446 - categorical_accuracy: 0.8362 - top_2_accuracy: 0.9507 - top_3_accuracy: 0.9862\n",
      "Epoch 00026: val_top_3_accuracy did not improve from 0.95589\n",
      "829/829 [==============================] - 678s 818ms/step - loss: 0.5449 - categorical_accuracy: 0.8361 - top_2_accuracy: 0.9507 - top_3_accuracy: 0.9862 - val_loss: 1.0039 - val_categorical_accuracy: 0.8000 - val_top_2_accuracy: 0.8888 - val_top_3_accuracy: 0.9384\n",
      "Epoch 27/30\n",
      "828/829 [============================>.] - ETA: 0s - loss: 0.5425 - categorical_accuracy: 0.8380 - top_2_accuracy: 0.9478 - top_3_accuracy: 0.9867\n",
      "Epoch 00027: val_top_3_accuracy did not improve from 0.95589\n",
      "829/829 [==============================] - 674s 813ms/step - loss: 0.5426 - categorical_accuracy: 0.8380 - top_2_accuracy: 0.9476 - top_3_accuracy: 0.9867 - val_loss: 0.9607 - val_categorical_accuracy: 0.8066 - val_top_2_accuracy: 0.8894 - val_top_3_accuracy: 0.9372\n",
      "Epoch 28/30\n",
      "828/829 [============================>.] - ETA: 0s - loss: 0.5405 - categorical_accuracy: 0.8400 - top_2_accuracy: 0.9514 - top_3_accuracy: 0.9870\n",
      "Epoch 00028: val_top_3_accuracy did not improve from 0.95589\n",
      "829/829 [==============================] - 673s 811ms/step - loss: 0.5402 - categorical_accuracy: 0.8400 - top_2_accuracy: 0.9515 - top_3_accuracy: 0.9870 - val_loss: 0.9644 - val_categorical_accuracy: 0.7994 - val_top_2_accuracy: 0.8943 - val_top_3_accuracy: 0.9384\n",
      "Epoch 29/30\n",
      "828/829 [============================>.] - ETA: 0s - loss: 0.5519 - categorical_accuracy: 0.8359 - top_2_accuracy: 0.9522 - top_3_accuracy: 0.9871\n",
      "Epoch 00029: val_top_3_accuracy did not improve from 0.95589\n",
      "829/829 [==============================] - 674s 813ms/step - loss: 0.5520 - categorical_accuracy: 0.8359 - top_2_accuracy: 0.9521 - top_3_accuracy: 0.9871 - val_loss: 0.9991 - val_categorical_accuracy: 0.8079 - val_top_2_accuracy: 0.8870 - val_top_3_accuracy: 0.9335\n",
      "Epoch 30/30\n",
      "828/829 [============================>.] - ETA: 0s - loss: 0.5387 - categorical_accuracy: 0.8379 - top_2_accuracy: 0.9507 - top_3_accuracy: 0.9864\n",
      "Epoch 00030: val_top_3_accuracy did not improve from 0.95589\n",
      "829/829 [==============================] - 675s 814ms/step - loss: 0.5389 - categorical_accuracy: 0.8380 - top_2_accuracy: 0.9507 - top_3_accuracy: 0.9864 - val_loss: 0.9802 - val_categorical_accuracy: 0.8000 - val_top_2_accuracy: 0.8918 - val_top_3_accuracy: 0.9366\n"
     ]
    }
   ],
   "source": [
    "filepath = \"model.h5\"\n",
    "checkpoint = ModelCheckpoint(filepath, monitor='val_top_3_accuracy', \n",
    "                             verbose=1, \n",
    "                             save_best_only=True, \n",
    "                             mode='max')\n",
    "\n",
    "reduce_lr = ReduceLROnPlateau(monitor='val_top_3_accuracy', \n",
    "                              factor=0.5, \n",
    "                              patience=2, \n",
    "                              verbose=1, \n",
    "                              mode='max',\n",
    "                              min_lr=0.00001)\n",
    "      \n",
    "callbacks_list = [checkpoint, reduce_lr]\n",
    "\n",
    "history = model.fit_generator(train_batches, \n",
    "                              steps_per_epoch=train_steps, \n",
    "                              class_weight=class_weights, \n",
    "                              validation_data=valid_batches,\n",
    "                              validation_steps=test_steps,\n",
    "                              epochs=30, \n",
    "                              verbose=1,\n",
    "                              callbacks=callbacks_list)"
   ]
  },
  {
   "cell_type": "code",
   "execution_count": 20,
   "metadata": {},
   "outputs": [
    {
     "data": {
      "text/plain": [
       "['loss', 'categorical_accuracy', 'top_2_accuracy', 'top_3_accuracy']"
      ]
     },
     "execution_count": 20,
     "metadata": {},
     "output_type": "execute_result"
    }
   ],
   "source": [
    "# get the metric names so we can use evaulate_generator\n",
    "model.metrics_names"
   ]
  },
  {
   "cell_type": "code",
   "execution_count": 21,
   "metadata": {
    "scrolled": true
   },
   "outputs": [
    {
     "name": "stdout",
     "output_type": "stream",
     "text": [
      "WARNING:tensorflow:From <ipython-input-21-1270d42bcd36>:3: Model.evaluate_generator (from tensorflow.python.keras.engine.training) is deprecated and will be removed in a future version.\n",
      "Instructions for updating:\n",
      "Please use Model.evaluate, which supports generators.\n",
      "WARNING:tensorflow:sample_weight modes were coerced from\n",
      "  ...\n",
      "    to  \n",
      "  ['...']\n",
      "val_loss: 0.892427381276812\n",
      "val_cat_acc: 0.8060423\n",
      "val_top_2_acc: 0.8918429\n",
      "val_top_3_acc: 0.93232626\n"
     ]
    }
   ],
   "source": [
    "# Here the the last epoch will be used.\n",
    "val_loss, val_cat_acc, val_top_2_acc, val_top_3_acc = model.evaluate_generator(test_batches, \n",
    "                                                                               steps=1325+69+132+53+45+19+12)\n",
    "print('val_loss:', val_loss)\n",
    "print('val_cat_acc:', val_cat_acc)\n",
    "print('val_top_2_acc:', val_top_2_acc)\n",
    "print('val_top_3_acc:', val_top_3_acc)"
   ]
  },
  {
   "cell_type": "code",
   "execution_count": 22,
   "metadata": {},
   "outputs": [
    {
     "name": "stdout",
     "output_type": "stream",
     "text": [
      "WARNING:tensorflow:From <ipython-input-22-a3c0520f19a6>:2: Model.predict_generator (from tensorflow.python.keras.engine.training) is deprecated and will be removed in a future version.\n",
      "Instructions for updating:\n",
      "Please use Model.predict, which supports generators.\n",
      "1655/1655 [==============================] - 48s 29ms/step\n"
     ]
    }
   ],
   "source": [
    "test_labels = test_batches.classes\n",
    "predictions = model.predict_generator(test_batches, steps=1325+69+132+53+45+19+12, verbose=1)"
   ]
  },
  {
   "cell_type": "code",
   "execution_count": 23,
   "metadata": {},
   "outputs": [
    {
     "name": "stdout",
     "output_type": "stream",
     "text": [
      "The confustion matrix:\n",
      " [[   6    2    1    2   30    3    1]\n",
      " [   2    8    0    0   28   15    0]\n",
      " [   2    0    9    2   52   67    0]\n",
      " [   0    0    0    1    1   10    0]\n",
      " [   1    0    0    1   33   34    0]\n",
      " [   0    0    1    6   57 1261    0]\n",
      " [   0    0    0    0    1   11    7]]\n",
      "The accuracy is:  0.8006042296072508\n"
     ]
    }
   ],
   "source": [
    "confusionMatrix = confusion_matrix(test_labels, predictions.argmax(axis=1))\n",
    "print(\"The confustion matrix:\\n\", confusionMatrix)\n",
    "print(\"The accuracy is: \", sum(np.diag(confusionMatrix))/confusionMatrix.sum())"
   ]
  },
  {
   "cell_type": "code",
   "execution_count": 24,
   "metadata": {},
   "outputs": [
    {
     "data": {
      "image/png": "[encoded data removed]",
      "text/plain": [
       "<Figure size 648x432 with 2 Axes>"
      ]
     },
     "metadata": {
      "needs_background": "light"
     },
     "output_type": "display_data"
    }
   ],
   "source": [
    "names = ['nv', 'mel', 'bkl', 'bcc', 'akiec', 'vasc', 'df']\n",
    "\n",
    "fig, axes = plt.subplots(figsize=(9, 6))\n",
    "sns.heatmap(confusionMatrix, annot = True, ax = axes, fmt = 'g')\n",
    "\n",
    "# labels, title and ticks\n",
    "axes.set_xlabel('Predicted labels')\n",
    "axes.set_ylabel('True labels')\n",
    "axes.set_title('Confusion Matrix')\n",
    "axes.xaxis.set_ticklabels(names, rotation=30)\n",
    "axes.yaxis.set_ticklabels(names, rotation=30)\n",
    "plt.show()"
   ]
  },
  {
   "cell_type": "code",
   "execution_count": 25,
   "metadata": {},
   "outputs": [
    {
     "name": "stdout",
     "output_type": "stream",
     "text": [
      "              precision    recall  f1-score   support\n",
      "\n",
      "       akiec       0.55      0.13      0.21        45\n",
      "         bcc       0.80      0.15      0.25        53\n",
      "         bkl       0.82      0.07      0.13       132\n",
      "          df       0.08      0.08      0.08        12\n",
      "         mel       0.16      0.48      0.24        69\n",
      "          nv       0.90      0.95      0.93      1325\n",
      "        vasc       0.88      0.37      0.52        19\n",
      "\n",
      "    accuracy                           0.80      1655\n",
      "   macro avg       0.60      0.32      0.34      1655\n",
      "weighted avg       0.84      0.80      0.78      1655\n",
      "\n"
     ]
    }
   ],
   "source": [
    "# Get the index of the class with the highest probability score\n",
    "y_pred = np.argmax(predictions, axis=1)\n",
    "# Get the labels of the test images.\n",
    "y_true = test_batches.classes\n",
    "# Generate a classification report\n",
    "cm_plot_labels = ['akiec', 'bcc', 'bkl', 'df', 'mel','nv', 'vasc']\n",
    "report = classification_report(y_true, y_pred, target_names=cm_plot_labels)\n",
    "print(report)"
   ]
  },
  {
   "cell_type": "code",
   "execution_count": 26,
   "metadata": {},
   "outputs": [
    {
     "data": {
      "image/png": "[encoded data removed]",
      "text/plain": [
       "<Figure size 432x288 with 1 Axes>"
      ]
     },
     "metadata": {
      "needs_background": "light"
     },
     "output_type": "display_data"
    },
    {
     "data": {
      "image/png": "[encoded data removed]",
      "text/plain": [
       "<Figure size 432x288 with 1 Axes>"
      ]
     },
     "metadata": {
      "needs_background": "light"
     },
     "output_type": "display_data"
    },
    {
     "data": {
      "image/png": "[encoded data removed]",
      "text/plain": [
       "<Figure size 432x288 with 1 Axes>"
      ]
     },
     "metadata": {
      "needs_background": "light"
     },
     "output_type": "display_data"
    },
    {
     "data": {
      "image/png": "[encoded data removed]",
      "text/plain": [
       "<Figure size 432x288 with 1 Axes>"
      ]
     },
     "metadata": {
      "needs_background": "light"
     },
     "output_type": "display_data"
    }
   ],
   "source": [
    "acc = history.history['categorical_accuracy']\n",
    "val_acc = history.history['val_categorical_accuracy']\n",
    "loss = history.history['loss']\n",
    "val_loss = history.history['val_loss']\n",
    "train_top2_acc = history.history['top_2_accuracy']\n",
    "val_top2_acc = history.history['val_top_2_accuracy']\n",
    "train_top3_acc = history.history['top_3_accuracy']\n",
    "val_top3_acc = history.history['val_top_3_accuracy']\n",
    "epochs = range(1, len(acc) + 1)\n",
    "\n",
    "plt.plot(epochs, loss, 'bo', label='Training loss')\n",
    "plt.plot(epochs, val_loss, 'b', label='Validation loss')\n",
    "plt.title('Training and validation loss')\n",
    "plt.legend()\n",
    "plt.figure()\n",
    "\n",
    "plt.plot(epochs, acc, 'bo', label='Training cat acc')\n",
    "plt.plot(epochs, val_acc, 'b', label='Validation cat acc')\n",
    "plt.title('Training and validation cat accuracy')\n",
    "plt.legend()\n",
    "plt.figure()\n",
    "\n",
    "plt.plot(epochs, train_top2_acc, 'bo', label='Training top2 acc')\n",
    "plt.plot(epochs, val_top2_acc, 'b', label='Validation top2 acc')\n",
    "plt.title('Training and validation top2 accuracy')\n",
    "plt.legend()\n",
    "plt.figure()\n",
    "plt.plot(epochs, train_top3_acc, 'bo', label='Training top3 acc')\n",
    "plt.plot(epochs, val_top3_acc, 'b', label='Validation top3 acc')\n",
    "plt.title('Training and validation top3 accuracy')\n",
    "plt.legend()\n",
    "plt.show()"
   ]
  },
  {
   "cell_type": "code",
   "execution_count": null,
   "metadata": {},
   "outputs": [],
   "source": []
  }
 ],
 "metadata": {
  "kernelspec": {
   "display_name": "Python 3",
   "language": "python",
   "name": "python3"
  },
  "language_info": {
   "codemirror_mode": {
    "name": "ipython",
    "version": 3
   },
   "file_extension": ".py",
   "mimetype": "text/x-python",
   "name": "python",
   "nbconvert_exporter": "python",
   "pygments_lexer": "ipython3",
   "version": "3.7.7"
  }
 },
 "nbformat": 4,
 "nbformat_minor": 4
}
