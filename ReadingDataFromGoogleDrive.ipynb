{
  "nbformat": 4,
  "nbformat_minor": 0,
  "metadata": {
    "colab": {
      "name": "ReadingDataFromGoogleDrive.ipynb",
      "provenance": [],
      "collapsed_sections": [],
      "mount_file_id": "19p06bLMuzc4frBIxvSinzmKFgeroK1Kx",
      "authorship_tag": "ABX9TyO8aV3zdb+onzXo6vrIql3w",
      "include_colab_link": true
    },
    "kernelspec": {
      "name": "python3",
      "display_name": "Python 3"
    }
  },
  "cells": [
    {
      "cell_type": "markdown",
      "metadata": {
        "id": "view-in-github",
        "colab_type": "text"
      },
      "source": [
        "<a href=\"https://colab.research.google.com/github/RadhikaR88/Melanoma-Detection/blob/master/ReadingDataFromGoogleDrive.ipynb\" target=\"_parent\"><img src=\"https://colab.research.google.com/assets/colab-badge.svg\" alt=\"Open In Colab\"/></a>"
      ]
    },
    {
      "cell_type": "markdown",
      "metadata": {
        "id": "tbUgh6e4EDuY",
        "colab_type": "text"
      },
      "source": [
        "**Skin Lesion Analysis Towards Melanoma Detection**\n",
        "\n",
        "Reference : https://challenge2018.isic-archive.com/\n",
        "\n",
        "Kaggle : https://www.kaggle.com/kmader/skin-cancer-mnist-ham10000\n",
        "\n",
        "ISIC : International Skin Imaging Collaboration "
      ]
    },
    {
      "cell_type": "code",
      "metadata": {
        "id": "XJ-YjvDCEFAO",
        "colab_type": "code",
        "colab": {}
      },
      "source": [
        "import os\n",
        "import pandas as pd"
      ],
      "execution_count": 0,
      "outputs": []
    },
    {
      "cell_type": "code",
      "metadata": {
        "id": "KRm_ygxtE0pV",
        "colab_type": "code",
        "outputId": "b3995b27-f1da-450a-e6a5-39278ed36249",
        "colab": {
          "base_uri": "https://localhost:8080/",
          "height": 35
        }
      },
      "source": [
        "# mount google Drive\n",
        "from google.colab import drive\n",
        "drive.mount('/content/gdrive')"
      ],
      "execution_count": 12,
      "outputs": [
        {
          "output_type": "stream",
          "text": [
            "Drive already mounted at /content/gdrive; to attempt to forcibly remount, call drive.mount(\"/content/gdrive\", force_remount=True).\n"
          ],
          "name": "stdout"
        }
      ]
    },
    {
      "cell_type": "code",
      "metadata": {
        "id": "t51SsHQEW-Nn",
        "colab_type": "code",
        "colab": {
          "base_uri": "https://localhost:8080/",
          "height": 35
        },
        "outputId": "dc62b405-40ac-4e32-e520-dc639908a7c2"
      },
      "source": [
        "os.getcwd()"
      ],
      "execution_count": 14,
      "outputs": [
        {
          "output_type": "execute_result",
          "data": {
            "text/plain": [
              "'/content'"
            ]
          },
          "metadata": {
            "tags": []
          },
          "execution_count": 14
        }
      ]
    },
    {
      "cell_type": "code",
      "metadata": {
        "id": "mEKZgYnKXBXV",
        "colab_type": "code",
        "colab": {
          "base_uri": "https://localhost:8080/",
          "height": 35
        },
        "outputId": "18725b8b-0cbc-45d4-ee34-3fb39b83edd6"
      },
      "source": [
        "%cd '/content/gdrive/My Drive/Deep Learning Project/Skin Cancer Detection/dataset'"
      ],
      "execution_count": 15,
      "outputs": [
        {
          "output_type": "stream",
          "text": [
            "/content/gdrive/My Drive/Deep Learning Project/Skin Cancer Detection/dataset\n"
          ],
          "name": "stdout"
        }
      ]
    },
    {
      "cell_type": "code",
      "metadata": {
        "id": "910EuVKMXHkN",
        "colab_type": "code",
        "colab": {
          "base_uri": "https://localhost:8080/",
          "height": 35
        },
        "outputId": "ad418931-b7fe-4071-93f6-eabd00a70d13"
      },
      "source": [
        "os.getcwd()"
      ],
      "execution_count": 16,
      "outputs": [
        {
          "output_type": "execute_result",
          "data": {
            "text/plain": [
              "'/content/gdrive/My Drive/Deep Learning Project/Skin Cancer Detection/dataset'"
            ]
          },
          "metadata": {
            "tags": []
          },
          "execution_count": 16
        }
      ]
    },
    {
      "cell_type": "code",
      "metadata": {
        "id": "jUoTeb-wEULf",
        "colab_type": "code",
        "outputId": "669e96fa-cafd-47c6-d590-aa3d15c3f652",
        "colab": {
          "base_uri": "https://localhost:8080/",
          "height": 35
        }
      },
      "source": [
        "# numeric 28 * 28 \n",
        "hm_28_l = pd.read_csv('hmnist_28_28_L.csv')\n",
        "hm_28_l.shape"
      ],
      "execution_count": 17,
      "outputs": [
        {
          "output_type": "execute_result",
          "data": {
            "text/plain": [
              "(10015, 785)"
            ]
          },
          "metadata": {
            "tags": []
          },
          "execution_count": 17
        }
      ]
    },
    {
      "cell_type": "code",
      "metadata": {
        "id": "oNdAHlMtGpET",
        "colab_type": "code",
        "outputId": "83ee82ac-c890-4f5e-ec65-953032909254",
        "colab": {
          "base_uri": "https://localhost:8080/",
          "height": 35
        }
      },
      "source": [
        "print(type(hm_28_l))\n",
        "#hm_28_l_mat = hm_28_l.as_matrix(columns=785) "
      ],
      "execution_count": 19,
      "outputs": [
        {
          "output_type": "stream",
          "text": [
            "<class 'pandas.core.frame.DataFrame'>\n"
          ],
          "name": "stdout"
        }
      ]
    },
    {
      "cell_type": "code",
      "metadata": {
        "id": "1FDn0UtUEmru",
        "colab_type": "code",
        "outputId": "9ef3b04b-2352-4754-ab84-0de528bc81c2",
        "colab": {
          "base_uri": "https://localhost:8080/",
          "height": 35
        }
      },
      "source": [
        "# numeric 8 * 8 \n",
        "hm_8_l = pd.read_csv('hmnist_8_8_L.csv')\n",
        "hm_8_l.shape"
      ],
      "execution_count": 20,
      "outputs": [
        {
          "output_type": "execute_result",
          "data": {
            "text/plain": [
              "(10015, 65)"
            ]
          },
          "metadata": {
            "tags": []
          },
          "execution_count": 20
        }
      ]
    },
    {
      "cell_type": "code",
      "metadata": {
        "id": "5r2esDHpFBoU",
        "colab_type": "code",
        "outputId": "6eadb163-ead2-474f-e727-e651993236cf",
        "colab": {
          "base_uri": "https://localhost:8080/",
          "height": 35
        }
      },
      "source": [
        "# numeric RGB 28 * 28 \n",
        "hm_28_rgb = pd.read_csv('hmnist_28_28_RGB.csv')\n",
        "hm_28_rgb.shape"
      ],
      "execution_count": 21,
      "outputs": [
        {
          "output_type": "execute_result",
          "data": {
            "text/plain": [
              "(10015, 2353)"
            ]
          },
          "metadata": {
            "tags": []
          },
          "execution_count": 21
        }
      ]
    },
    {
      "cell_type": "code",
      "metadata": {
        "id": "KvYBZ_c-FV5R",
        "colab_type": "code",
        "outputId": "ea776afc-dada-4976-cec0-6ed0dcf92311",
        "colab": {
          "base_uri": "https://localhost:8080/",
          "height": 35
        }
      },
      "source": [
        "28*28*3"
      ],
      "execution_count": 0,
      "outputs": [
        {
          "output_type": "execute_result",
          "data": {
            "text/plain": [
              "2352"
            ]
          },
          "metadata": {
            "tags": []
          },
          "execution_count": 8
        }
      ]
    },
    {
      "cell_type": "code",
      "metadata": {
        "id": "WeB_RI1eFYJy",
        "colab_type": "code",
        "outputId": "afe2ca5a-77fb-455b-efea-67f4ae76eca4",
        "colab": {
          "base_uri": "https://localhost:8080/",
          "height": 35
        }
      },
      "source": [
        "# numeric RGB 8 * 8 \n",
        "hm_8_rgb = pd.read_csv('hmnist_8_8_RGB.csv')\n",
        "hm_8_rgb.shape"
      ],
      "execution_count": 0,
      "outputs": [
        {
          "output_type": "execute_result",
          "data": {
            "text/plain": [
              "(10015, 193)"
            ]
          },
          "metadata": {
            "tags": []
          },
          "execution_count": 9
        }
      ]
    },
    {
      "cell_type": "code",
      "metadata": {
        "id": "Y0MvNiQHFg4R",
        "colab_type": "code",
        "outputId": "b71c4504-d7ce-4309-b498-aea946605d29",
        "colab": {
          "base_uri": "https://localhost:8080/",
          "height": 35
        }
      },
      "source": [
        "8*8*3"
      ],
      "execution_count": 0,
      "outputs": [
        {
          "output_type": "execute_result",
          "data": {
            "text/plain": [
              "192"
            ]
          },
          "metadata": {
            "tags": []
          },
          "execution_count": 10
        }
      ]
    },
    {
      "cell_type": "code",
      "metadata": {
        "id": "RP2T2_4jFtiG",
        "colab_type": "code",
        "outputId": "4636cc24-d614-4e00-e4aa-ecbd3d80ddbc",
        "colab": {
          "base_uri": "https://localhost:8080/",
          "height": 35
        }
      },
      "source": [
        "from PIL import Image\n",
        "\n",
        "np_img = hm_8_l.iloc[0,:]\n",
        "np_img.shape"
      ],
      "execution_count": 25,
      "outputs": [
        {
          "output_type": "execute_result",
          "data": {
            "text/plain": [
              "(65,)"
            ]
          },
          "metadata": {
            "tags": []
          },
          "execution_count": 25
        }
      ]
    },
    {
      "cell_type": "code",
      "metadata": {
        "id": "4t-UuEcuXlhq",
        "colab_type": "code",
        "colab": {}
      },
      "source": [
        ""
      ],
      "execution_count": 0,
      "outputs": []
    }
  ]
}